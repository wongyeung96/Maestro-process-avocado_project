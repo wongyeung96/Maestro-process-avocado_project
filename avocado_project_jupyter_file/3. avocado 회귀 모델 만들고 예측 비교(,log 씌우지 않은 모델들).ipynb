{
 "cells": [
  {
   "cell_type": "markdown",
   "metadata": {},
   "source": [
    "## 1. 파일 불러오기"
   ]
  },
  {
   "cell_type": "code",
   "execution_count": 3,
   "metadata": {},
   "outputs": [],
   "source": [
    "# 마에스트로 노트북 파일불러오기\n",
    "import pandas as pd\n",
    "avocado=pd.read_csv(\"C:/Users/CPB02GameN/Desktop/avocado project/파이썬활용발표 포함avocado project 2(0626~)/avocadofinalchange.csv\",index_col = \"Unnamed: 0\")"
   ]
  },
  {
   "cell_type": "code",
   "execution_count": null,
   "metadata": {},
   "outputs": [],
   "source": [
    "# 집노트북으로 파일 불러오기\n",
    "avocado=pd.read_csv(\"C:/Users/사용자/Desktop/과제/마에스트로 과제/avocado project/최종수정데이터/avocado1.csv\",index_col = \"Unnamed: 0\")"
   ]
  },
  {
   "cell_type": "code",
   "execution_count": 3,
   "metadata": {},
   "outputs": [
    {
     "data": {
      "text/plain": [
       "(24657, 15)"
      ]
     },
     "execution_count": 3,
     "metadata": {},
     "output_type": "execute_result"
    }
   ],
   "source": [
    "avocado.shape"
   ]
  },
  {
   "cell_type": "code",
   "execution_count": 4,
   "metadata": {},
   "outputs": [
    {
     "data": {
      "text/plain": [
       "False    24657\n",
       "Name: Date, dtype: int64"
      ]
     },
     "execution_count": 4,
     "metadata": {},
     "output_type": "execute_result"
    }
   ],
   "source": [
    "# Date 변수를 datetime 타입으로 변환\n",
    "avocado['Date'] = pd.to_datetime(avocado['Date'])\n",
    "avocado.sort_values('Date',ignore_index = True,inplace = True)\n",
    "avocado['Date'].isnull().value_counts()"
   ]
  },
  {
   "cell_type": "code",
   "execution_count": 5,
   "metadata": {},
   "outputs": [
    {
     "data": {
      "text/plain": [
       "Date            datetime64[ns]\n",
       "AveragePrice           float64\n",
       "Total Volume           float64\n",
       "4046                   float64\n",
       "4225                   float64\n",
       "4770                   float64\n",
       "Total Bags             float64\n",
       "Small Bags             float64\n",
       "Large Bags             float64\n",
       "XLarge Bags            float64\n",
       "type                    object\n",
       "year                     int64\n",
       "region                  object\n",
       "month                    int64\n",
       "season                  object\n",
       "dtype: object"
      ]
     },
     "execution_count": 5,
     "metadata": {},
     "output_type": "execute_result"
    }
   ],
   "source": [
    "avocado.dtypes"
   ]
  },
  {
   "cell_type": "code",
   "execution_count": 6,
   "metadata": {},
   "outputs": [],
   "source": [
    "avocado= pd.get_dummies(avocado)"
   ]
  },
  {
   "cell_type": "code",
   "execution_count": 7,
   "metadata": {},
   "outputs": [
    {
     "data": {
      "text/plain": [
       "Date                       datetime64[ns]\n",
       "AveragePrice                      float64\n",
       "Total Volume                      float64\n",
       "4046                              float64\n",
       "4225                              float64\n",
       "                                ...      \n",
       "region_WestTexNewMexico             uint8\n",
       "season_fall                         uint8\n",
       "season_spring                       uint8\n",
       "season_summer                       uint8\n",
       "season_winter                       uint8\n",
       "Length: 63, dtype: object"
      ]
     },
     "execution_count": 7,
     "metadata": {},
     "output_type": "execute_result"
    }
   ],
   "source": [
    "avocado.dtypes"
   ]
  },
  {
   "cell_type": "code",
   "execution_count": 8,
   "metadata": {},
   "outputs": [
    {
     "data": {
      "text/html": [
       "<div>\n",
       "<style scoped>\n",
       "    .dataframe tbody tr th:only-of-type {\n",
       "        vertical-align: middle;\n",
       "    }\n",
       "\n",
       "    .dataframe tbody tr th {\n",
       "        vertical-align: top;\n",
       "    }\n",
       "\n",
       "    .dataframe thead th {\n",
       "        text-align: right;\n",
       "    }\n",
       "</style>\n",
       "<table border=\"1\" class=\"dataframe\">\n",
       "  <thead>\n",
       "    <tr style=\"text-align: right;\">\n",
       "      <th></th>\n",
       "      <th>Date</th>\n",
       "      <th>AveragePrice</th>\n",
       "      <th>Total Volume</th>\n",
       "      <th>4046</th>\n",
       "      <th>4225</th>\n",
       "      <th>4770</th>\n",
       "      <th>Total Bags</th>\n",
       "      <th>Small Bags</th>\n",
       "      <th>Large Bags</th>\n",
       "      <th>XLarge Bags</th>\n",
       "      <th>...</th>\n",
       "      <th>region_SouthCarolina</th>\n",
       "      <th>region_Spokane</th>\n",
       "      <th>region_StLouis</th>\n",
       "      <th>region_Syracuse</th>\n",
       "      <th>region_Tampa</th>\n",
       "      <th>region_WestTexNewMexico</th>\n",
       "      <th>season_fall</th>\n",
       "      <th>season_spring</th>\n",
       "      <th>season_summer</th>\n",
       "      <th>season_winter</th>\n",
       "    </tr>\n",
       "  </thead>\n",
       "  <tbody>\n",
       "    <tr>\n",
       "      <th>0</th>\n",
       "      <td>2015-01-04</td>\n",
       "      <td>1.93</td>\n",
       "      <td>17328.24</td>\n",
       "      <td>2357.18</td>\n",
       "      <td>12692.21</td>\n",
       "      <td>9.47</td>\n",
       "      <td>2269.38</td>\n",
       "      <td>2269.38</td>\n",
       "      <td>0.00</td>\n",
       "      <td>0.00</td>\n",
       "      <td>...</td>\n",
       "      <td>0</td>\n",
       "      <td>0</td>\n",
       "      <td>0</td>\n",
       "      <td>0</td>\n",
       "      <td>0</td>\n",
       "      <td>0</td>\n",
       "      <td>0</td>\n",
       "      <td>0</td>\n",
       "      <td>0</td>\n",
       "      <td>1</td>\n",
       "    </tr>\n",
       "    <tr>\n",
       "      <th>1</th>\n",
       "      <td>2015-01-04</td>\n",
       "      <td>1.72</td>\n",
       "      <td>3788.60</td>\n",
       "      <td>384.30</td>\n",
       "      <td>1597.97</td>\n",
       "      <td>11.42</td>\n",
       "      <td>1794.91</td>\n",
       "      <td>1794.91</td>\n",
       "      <td>0.00</td>\n",
       "      <td>0.00</td>\n",
       "      <td>...</td>\n",
       "      <td>0</td>\n",
       "      <td>0</td>\n",
       "      <td>0</td>\n",
       "      <td>0</td>\n",
       "      <td>0</td>\n",
       "      <td>0</td>\n",
       "      <td>0</td>\n",
       "      <td>0</td>\n",
       "      <td>0</td>\n",
       "      <td>1</td>\n",
       "    </tr>\n",
       "    <tr>\n",
       "      <th>2</th>\n",
       "      <td>2015-01-04</td>\n",
       "      <td>1.02</td>\n",
       "      <td>491738.00</td>\n",
       "      <td>7193.87</td>\n",
       "      <td>396752.18</td>\n",
       "      <td>128.82</td>\n",
       "      <td>87663.13</td>\n",
       "      <td>87406.84</td>\n",
       "      <td>256.29</td>\n",
       "      <td>0.00</td>\n",
       "      <td>...</td>\n",
       "      <td>0</td>\n",
       "      <td>0</td>\n",
       "      <td>0</td>\n",
       "      <td>0</td>\n",
       "      <td>0</td>\n",
       "      <td>0</td>\n",
       "      <td>0</td>\n",
       "      <td>0</td>\n",
       "      <td>0</td>\n",
       "      <td>1</td>\n",
       "    </tr>\n",
       "    <tr>\n",
       "      <th>3</th>\n",
       "      <td>2015-01-04</td>\n",
       "      <td>0.74</td>\n",
       "      <td>1086363.97</td>\n",
       "      <td>612795.80</td>\n",
       "      <td>374420.68</td>\n",
       "      <td>9817.28</td>\n",
       "      <td>89330.21</td>\n",
       "      <td>54563.33</td>\n",
       "      <td>34760.08</td>\n",
       "      <td>6.80</td>\n",
       "      <td>...</td>\n",
       "      <td>0</td>\n",
       "      <td>0</td>\n",
       "      <td>0</td>\n",
       "      <td>0</td>\n",
       "      <td>0</td>\n",
       "      <td>0</td>\n",
       "      <td>0</td>\n",
       "      <td>0</td>\n",
       "      <td>0</td>\n",
       "      <td>1</td>\n",
       "    </tr>\n",
       "    <tr>\n",
       "      <th>4</th>\n",
       "      <td>2015-01-04</td>\n",
       "      <td>1.79</td>\n",
       "      <td>1373.95</td>\n",
       "      <td>57.42</td>\n",
       "      <td>153.88</td>\n",
       "      <td>0.00</td>\n",
       "      <td>1162.65</td>\n",
       "      <td>1162.65</td>\n",
       "      <td>0.00</td>\n",
       "      <td>0.00</td>\n",
       "      <td>...</td>\n",
       "      <td>0</td>\n",
       "      <td>0</td>\n",
       "      <td>0</td>\n",
       "      <td>0</td>\n",
       "      <td>0</td>\n",
       "      <td>0</td>\n",
       "      <td>0</td>\n",
       "      <td>0</td>\n",
       "      <td>0</td>\n",
       "      <td>1</td>\n",
       "    </tr>\n",
       "    <tr>\n",
       "      <th>...</th>\n",
       "      <td>...</td>\n",
       "      <td>...</td>\n",
       "      <td>...</td>\n",
       "      <td>...</td>\n",
       "      <td>...</td>\n",
       "      <td>...</td>\n",
       "      <td>...</td>\n",
       "      <td>...</td>\n",
       "      <td>...</td>\n",
       "      <td>...</td>\n",
       "      <td>...</td>\n",
       "      <td>...</td>\n",
       "      <td>...</td>\n",
       "      <td>...</td>\n",
       "      <td>...</td>\n",
       "      <td>...</td>\n",
       "      <td>...</td>\n",
       "      <td>...</td>\n",
       "      <td>...</td>\n",
       "      <td>...</td>\n",
       "      <td>...</td>\n",
       "    </tr>\n",
       "    <tr>\n",
       "      <th>24652</th>\n",
       "      <td>2020-04-19</td>\n",
       "      <td>1.49</td>\n",
       "      <td>26704.27</td>\n",
       "      <td>2794.47</td>\n",
       "      <td>1969.99</td>\n",
       "      <td>1.16</td>\n",
       "      <td>21938.65</td>\n",
       "      <td>9963.47</td>\n",
       "      <td>11975.18</td>\n",
       "      <td>0.00</td>\n",
       "      <td>...</td>\n",
       "      <td>0</td>\n",
       "      <td>0</td>\n",
       "      <td>0</td>\n",
       "      <td>0</td>\n",
       "      <td>0</td>\n",
       "      <td>0</td>\n",
       "      <td>0</td>\n",
       "      <td>1</td>\n",
       "      <td>0</td>\n",
       "      <td>0</td>\n",
       "    </tr>\n",
       "    <tr>\n",
       "      <th>24653</th>\n",
       "      <td>2020-04-19</td>\n",
       "      <td>1.40</td>\n",
       "      <td>1190966.77</td>\n",
       "      <td>233989.88</td>\n",
       "      <td>405008.61</td>\n",
       "      <td>2432.50</td>\n",
       "      <td>549535.78</td>\n",
       "      <td>311767.75</td>\n",
       "      <td>231680.45</td>\n",
       "      <td>6087.58</td>\n",
       "      <td>...</td>\n",
       "      <td>0</td>\n",
       "      <td>0</td>\n",
       "      <td>0</td>\n",
       "      <td>0</td>\n",
       "      <td>0</td>\n",
       "      <td>0</td>\n",
       "      <td>0</td>\n",
       "      <td>1</td>\n",
       "      <td>0</td>\n",
       "      <td>0</td>\n",
       "    </tr>\n",
       "    <tr>\n",
       "      <th>24654</th>\n",
       "      <td>2020-04-19</td>\n",
       "      <td>1.24</td>\n",
       "      <td>3587854.83</td>\n",
       "      <td>1026898.32</td>\n",
       "      <td>169835.92</td>\n",
       "      <td>104073.32</td>\n",
       "      <td>2287047.27</td>\n",
       "      <td>1193782.07</td>\n",
       "      <td>797847.80</td>\n",
       "      <td>295417.40</td>\n",
       "      <td>...</td>\n",
       "      <td>0</td>\n",
       "      <td>0</td>\n",
       "      <td>0</td>\n",
       "      <td>0</td>\n",
       "      <td>0</td>\n",
       "      <td>0</td>\n",
       "      <td>0</td>\n",
       "      <td>1</td>\n",
       "      <td>0</td>\n",
       "      <td>0</td>\n",
       "    </tr>\n",
       "    <tr>\n",
       "      <th>24655</th>\n",
       "      <td>2020-04-19</td>\n",
       "      <td>1.53</td>\n",
       "      <td>27463.28</td>\n",
       "      <td>864.41</td>\n",
       "      <td>3943.85</td>\n",
       "      <td>93.20</td>\n",
       "      <td>22561.82</td>\n",
       "      <td>17568.92</td>\n",
       "      <td>4992.90</td>\n",
       "      <td>0.00</td>\n",
       "      <td>...</td>\n",
       "      <td>0</td>\n",
       "      <td>0</td>\n",
       "      <td>0</td>\n",
       "      <td>0</td>\n",
       "      <td>0</td>\n",
       "      <td>0</td>\n",
       "      <td>0</td>\n",
       "      <td>1</td>\n",
       "      <td>0</td>\n",
       "      <td>0</td>\n",
       "    </tr>\n",
       "    <tr>\n",
       "      <th>24656</th>\n",
       "      <td>2020-04-19</td>\n",
       "      <td>1.26</td>\n",
       "      <td>266140.19</td>\n",
       "      <td>101120.08</td>\n",
       "      <td>41803.25</td>\n",
       "      <td>88.00</td>\n",
       "      <td>123128.86</td>\n",
       "      <td>61321.77</td>\n",
       "      <td>61798.20</td>\n",
       "      <td>8.89</td>\n",
       "      <td>...</td>\n",
       "      <td>0</td>\n",
       "      <td>0</td>\n",
       "      <td>0</td>\n",
       "      <td>0</td>\n",
       "      <td>0</td>\n",
       "      <td>0</td>\n",
       "      <td>0</td>\n",
       "      <td>1</td>\n",
       "      <td>0</td>\n",
       "      <td>0</td>\n",
       "    </tr>\n",
       "  </tbody>\n",
       "</table>\n",
       "<p>24657 rows × 63 columns</p>\n",
       "</div>"
      ],
      "text/plain": [
       "            Date  AveragePrice  Total Volume        4046       4225  \\\n",
       "0     2015-01-04          1.93      17328.24     2357.18   12692.21   \n",
       "1     2015-01-04          1.72       3788.60      384.30    1597.97   \n",
       "2     2015-01-04          1.02     491738.00     7193.87  396752.18   \n",
       "3     2015-01-04          0.74    1086363.97   612795.80  374420.68   \n",
       "4     2015-01-04          1.79       1373.95       57.42     153.88   \n",
       "...          ...           ...           ...         ...        ...   \n",
       "24652 2020-04-19          1.49      26704.27     2794.47    1969.99   \n",
       "24653 2020-04-19          1.40    1190966.77   233989.88  405008.61   \n",
       "24654 2020-04-19          1.24    3587854.83  1026898.32  169835.92   \n",
       "24655 2020-04-19          1.53      27463.28      864.41    3943.85   \n",
       "24656 2020-04-19          1.26     266140.19   101120.08   41803.25   \n",
       "\n",
       "            4770  Total Bags  Small Bags  Large Bags  XLarge Bags  ...  \\\n",
       "0           9.47     2269.38     2269.38        0.00         0.00  ...   \n",
       "1          11.42     1794.91     1794.91        0.00         0.00  ...   \n",
       "2         128.82    87663.13    87406.84      256.29         0.00  ...   \n",
       "3        9817.28    89330.21    54563.33    34760.08         6.80  ...   \n",
       "4           0.00     1162.65     1162.65        0.00         0.00  ...   \n",
       "...          ...         ...         ...         ...          ...  ...   \n",
       "24652       1.16    21938.65     9963.47    11975.18         0.00  ...   \n",
       "24653    2432.50   549535.78   311767.75   231680.45      6087.58  ...   \n",
       "24654  104073.32  2287047.27  1193782.07   797847.80    295417.40  ...   \n",
       "24655      93.20    22561.82    17568.92     4992.90         0.00  ...   \n",
       "24656      88.00   123128.86    61321.77    61798.20         8.89  ...   \n",
       "\n",
       "       region_SouthCarolina  region_Spokane  region_StLouis  region_Syracuse  \\\n",
       "0                         0               0               0                0   \n",
       "1                         0               0               0                0   \n",
       "2                         0               0               0                0   \n",
       "3                         0               0               0                0   \n",
       "4                         0               0               0                0   \n",
       "...                     ...             ...             ...              ...   \n",
       "24652                     0               0               0                0   \n",
       "24653                     0               0               0                0   \n",
       "24654                     0               0               0                0   \n",
       "24655                     0               0               0                0   \n",
       "24656                     0               0               0                0   \n",
       "\n",
       "       region_Tampa  region_WestTexNewMexico  season_fall  season_spring  \\\n",
       "0                 0                        0            0              0   \n",
       "1                 0                        0            0              0   \n",
       "2                 0                        0            0              0   \n",
       "3                 0                        0            0              0   \n",
       "4                 0                        0            0              0   \n",
       "...             ...                      ...          ...            ...   \n",
       "24652             0                        0            0              1   \n",
       "24653             0                        0            0              1   \n",
       "24654             0                        0            0              1   \n",
       "24655             0                        0            0              1   \n",
       "24656             0                        0            0              1   \n",
       "\n",
       "       season_summer  season_winter  \n",
       "0                  0              1  \n",
       "1                  0              1  \n",
       "2                  0              1  \n",
       "3                  0              1  \n",
       "4                  0              1  \n",
       "...              ...            ...  \n",
       "24652              0              0  \n",
       "24653              0              0  \n",
       "24654              0              0  \n",
       "24655              0              0  \n",
       "24656              0              0  \n",
       "\n",
       "[24657 rows x 63 columns]"
      ]
     },
     "execution_count": 8,
     "metadata": {},
     "output_type": "execute_result"
    }
   ],
   "source": [
    "avocado"
   ]
  },
  {
   "cell_type": "markdown",
   "metadata": {},
   "source": [
    "## 2. 훈련데이터와 테스트데이터로 나누기\n",
    "\n",
    "- 2015~2018 data로 traindata, testdata 나누기\n",
    "- 2015~2018 자료로 모델을 만들고 가격 예측해보기\n",
    "- 마지막에 2019~ 자료를 제일 적합한 모델을 가지고 예측해보고 확인하기\n"
   ]
  },
  {
   "cell_type": "code",
   "execution_count": 9,
   "metadata": {},
   "outputs": [
    {
     "data": {
      "text/plain": [
       "0        1.93\n",
       "1        1.72\n",
       "2        1.02\n",
       "3        0.74\n",
       "4        1.79\n",
       "         ... \n",
       "18532    1.53\n",
       "18533    1.84\n",
       "18534    1.37\n",
       "18535    1.73\n",
       "18536    1.46\n",
       "Name: AveragePrice, Length: 18537, dtype: float64"
      ]
     },
     "execution_count": 9,
     "metadata": {},
     "output_type": "execute_result"
    }
   ],
   "source": [
    "avo1 = avocado[avocado['Date'] < '2019-01-01']\n",
    "X = avo1.drop(['Date','AveragePrice'],axis=1)\n",
    "X\n",
    "y = avo1['AveragePrice']\n",
    "y"
   ]
  },
  {
   "cell_type": "code",
   "execution_count": 39,
   "metadata": {},
   "outputs": [],
   "source": [
    "from sklearn.model_selection import train_test_split\n",
    "X_train,X_test,y_train,y_test = train_test_split(X,y,random_state=1,test_size = 0.2)"
   ]
  },
  {
   "cell_type": "code",
   "execution_count": 40,
   "metadata": {},
   "outputs": [
    {
     "name": "stdout",
     "output_type": "stream",
     "text": [
      "X_train의 shape: (14829, 61) \n",
      "X_test의 shape:  (3708, 61)\n"
     ]
    }
   ],
   "source": [
    "print(\"X_train의 shape:\",X_train.shape,\"\\nX_test의 shape: \",X_test.shape)"
   ]
  },
  {
   "cell_type": "markdown",
   "metadata": {},
   "source": [
    "### 2.1 k-최근접 이웃 회귀"
   ]
  },
  {
   "cell_type": "code",
   "execution_count": 41,
   "metadata": {},
   "outputs": [
    {
     "data": {
      "text/plain": [
       "KNeighborsRegressor(algorithm='auto', leaf_size=30, metric='minkowski',\n",
       "                    metric_params=None, n_jobs=None, n_neighbors=10, p=2,\n",
       "                    weights='uniform')"
      ]
     },
     "execution_count": 41,
     "metadata": {},
     "output_type": "execute_result"
    }
   ],
   "source": [
    "from sklearn.neighbors import KNeighborsRegressor\n",
    "knn = KNeighborsRegressor(n_neighbors =10)\n",
    "knn.fit(X_train,y_train)"
   ]
  },
  {
   "cell_type": "code",
   "execution_count": 42,
   "metadata": {},
   "outputs": [
    {
     "name": "stdout",
     "output_type": "stream",
     "text": [
      "테스트 세트 R^2: 0.66\n"
     ]
    }
   ],
   "source": [
    "print(\"테스트 세트 R^2: {:.2f}\".format(knn.score(X_test,y_test)))"
   ]
  },
  {
   "cell_type": "markdown",
   "metadata": {},
   "source": [
    "### 2.2 선형회귀(최소제곱법)"
   ]
  },
  {
   "cell_type": "code",
   "execution_count": 43,
   "metadata": {},
   "outputs": [
    {
     "data": {
      "text/plain": [
       "LinearRegression(copy_X=True, fit_intercept=True, n_jobs=None, normalize=False)"
      ]
     },
     "execution_count": 43,
     "metadata": {},
     "output_type": "execute_result"
    }
   ],
   "source": [
    "from sklearn.linear_model import LinearRegression\n",
    "lr = LinearRegression()\n",
    "lr.fit(X_train,y_train)"
   ]
  },
  {
   "cell_type": "code",
   "execution_count": 44,
   "metadata": {},
   "outputs": [
    {
     "name": "stdout",
     "output_type": "stream",
     "text": [
      "훈련 세트 점수:0.59\n",
      "테스트 세트 점수:0.59\n"
     ]
    }
   ],
   "source": [
    "print(\"훈련 세트 점수:{:.2f}\".format(lr.score(X_train,y_train)))\n",
    "print(\"테스트 세트 점수:{:.2f}\".format(lr.score(X_test,y_test)))"
   ]
  },
  {
   "cell_type": "markdown",
   "metadata": {},
   "source": [
    "### 2.2.1  Ridge regression(리지 회귀)"
   ]
  },
  {
   "cell_type": "code",
   "execution_count": 45,
   "metadata": {},
   "outputs": [
    {
     "data": {
      "text/plain": [
       "Ridge(alpha=10, copy_X=True, fit_intercept=True, max_iter=None, normalize=False,\n",
       "      random_state=None, solver='auto', tol=0.001)"
      ]
     },
     "execution_count": 45,
     "metadata": {},
     "output_type": "execute_result"
    }
   ],
   "source": [
    "from sklearn.linear_model import Ridge\n",
    "ridge = Ridge(alpha = 10)  # alpha값이 증가할수록 규제가 커진다.\n",
    "ridge.fit(X_train,y_train)"
   ]
  },
  {
   "cell_type": "code",
   "execution_count": 46,
   "metadata": {},
   "outputs": [
    {
     "name": "stdout",
     "output_type": "stream",
     "text": [
      "훈련 세트 점수:0.59\n",
      "테스트 세트 점수:0.59\n"
     ]
    }
   ],
   "source": [
    "print(\"훈련 세트 점수:{:.2f}\".format(ridge.score(X_train,y_train)))\n",
    "print(\"테스트 세트 점수:{:.2f}\".format(ridge.score(X_test,y_test)))"
   ]
  },
  {
   "cell_type": "code",
   "execution_count": 47,
   "metadata": {},
   "outputs": [
    {
     "data": {
      "text/plain": [
       "Ridge(alpha=0.01, copy_X=True, fit_intercept=True, max_iter=None,\n",
       "      normalize=True, random_state=None, solver='auto', tol=0.001)"
      ]
     },
     "execution_count": 47,
     "metadata": {},
     "output_type": "execute_result"
    }
   ],
   "source": [
    "#정규화\n",
    "from sklearn.linear_model import Ridge\n",
    "ridge = Ridge(alpha = 0.01,normalize=True)  # alpha값이 증가할수록 규제가 커진다.\n",
    "ridge.fit(X_train,y_train)"
   ]
  },
  {
   "cell_type": "code",
   "execution_count": 48,
   "metadata": {},
   "outputs": [
    {
     "name": "stdout",
     "output_type": "stream",
     "text": [
      "훈련 세트 점수:0.59\n",
      "테스트 세트 점수:0.59\n"
     ]
    }
   ],
   "source": [
    "print(\"훈련 세트 점수:{:.2f}\".format(ridge.score(X_train,y_train)))\n",
    "print(\"테스트 세트 점수:{:.2f}\".format(ridge.score(X_test,y_test)))"
   ]
  },
  {
   "cell_type": "markdown",
   "metadata": {},
   "source": [
    "### 2.2.2 Lasso regression(라쏘 회귀)"
   ]
  },
  {
   "cell_type": "code",
   "execution_count": 21,
   "metadata": {},
   "outputs": [
    {
     "name": "stderr",
     "output_type": "stream",
     "text": [
      "C:\\Users\\CPB02GameN\\anaconda3\\lib\\site-packages\\sklearn\\linear_model\\_coordinate_descent.py:476: ConvergenceWarning: Objective did not converge. You might want to increase the number of iterations. Duality gap: 490.32687348937105, tolerance: 0.2345139833825612\n",
      "  positive)\n"
     ]
    },
    {
     "data": {
      "text/plain": [
       "Lasso(alpha=0.0001, copy_X=True, fit_intercept=True, max_iter=1000,\n",
       "      normalize=False, positive=False, precompute=False, random_state=None,\n",
       "      selection='cyclic', tol=0.0001, warm_start=False)"
      ]
     },
     "execution_count": 21,
     "metadata": {},
     "output_type": "execute_result"
    }
   ],
   "source": [
    "from sklearn.linear_model import Lasso\n",
    "lasso = Lasso(alpha=0.0001)\n",
    "lasso.fit(X_train,y_train)"
   ]
  },
  {
   "cell_type": "code",
   "execution_count": 22,
   "metadata": {},
   "outputs": [
    {
     "name": "stdout",
     "output_type": "stream",
     "text": [
      "훈련 세트 점수:0.59\n",
      "테스트 세트 점수:0.59\n"
     ]
    }
   ],
   "source": [
    "print(\"훈련 세트 점수:{:.2f}\".format(lasso.score(X_train,y_train)))\n",
    "print(\"테스트 세트 점수:{:.2f}\".format(lasso.score(X_test,y_test)))"
   ]
  },
  {
   "cell_type": "code",
   "execution_count": 49,
   "metadata": {},
   "outputs": [
    {
     "data": {
      "text/plain": [
       "Lasso(alpha=1e-05, copy_X=True, fit_intercept=True, max_iter=1000,\n",
       "      normalize=True, positive=False, precompute=False, random_state=None,\n",
       "      selection='cyclic', tol=0.0001, warm_start=False)"
      ]
     },
     "execution_count": 49,
     "metadata": {},
     "output_type": "execute_result"
    }
   ],
   "source": [
    "#정규화\n",
    "from sklearn.linear_model import Lasso\n",
    "lasso = Lasso(alpha = 0.00001,normalize=True)  # alpha값이 증가할수록 규제가 커진다.\n",
    "lasso.fit(X_train,y_train)"
   ]
  },
  {
   "cell_type": "code",
   "execution_count": 24,
   "metadata": {},
   "outputs": [
    {
     "name": "stdout",
     "output_type": "stream",
     "text": [
      "훈련 세트 점수:0.59\n",
      "테스트 세트 점수:0.59\n"
     ]
    }
   ],
   "source": [
    "print(\"훈련 세트 점수:{:.2f}\".format(lasso.score(X_train,y_train)))\n",
    "print(\"테스트 세트 점수:{:.2f}\".format(lasso.score(X_test,y_test)))"
   ]
  },
  {
   "cell_type": "markdown",
   "metadata": {},
   "source": [
    "### 2.3 결정 트리(Decision tree)"
   ]
  },
  {
   "cell_type": "code",
   "execution_count": 50,
   "metadata": {},
   "outputs": [],
   "source": [
    "from sklearn.tree import DecisionTreeRegressor\n",
    "tree = DecisionTreeRegressor().fit(X_train,y_train)"
   ]
  },
  {
   "cell_type": "code",
   "execution_count": 26,
   "metadata": {},
   "outputs": [
    {
     "name": "stdout",
     "output_type": "stream",
     "text": [
      "훈련 세트 점수:1.00\n",
      "테스트 세트 점수:0.80\n"
     ]
    }
   ],
   "source": [
    "print(\"훈련 세트 점수:{:.2f}\".format(tree.score(X_train,y_train)))\n",
    "print(\"테스트 세트 점수:{:.2f}\".format(tree.score(X_test,y_test)))"
   ]
  },
  {
   "cell_type": "markdown",
   "metadata": {},
   "source": [
    "### 2.3.1 랜덤 포레스트 (결정 트리의 앙상블)\n",
    "- 앙상블 : 여러 머신러닝 모델을 연결하여 더 강력한 모델을 만드는 기법.\n",
    "- 결정 트리의 주요 단점은 훈련 데이터에 과대적합되는 경향이 있다는 것.\n",
    "- 랜덤 포레스트는 이 문제를 회피할 수 있는 방법.\n",
    "- 랜덤 포레스트 모델을 만들려면 생성할 트리의 개수를 정해야 한다.(n_estimators)\n",
    "- 랜덤 포레스트 모델은 이름 그대로 랜덤하다. 그래서 다른 random_state를 지정하면 전혀 다른 모델이 만들어 진다. 랜덤 포레스트의 트리가 많을수록 random_state 값의 변화에 따른 변동이 작다. 같은 결과를 만들어야 한다면 random_state 값을 고정해야 합니다."
   ]
  },
  {
   "cell_type": "code",
   "execution_count": 51,
   "metadata": {},
   "outputs": [],
   "source": [
    "from sklearn.ensemble import RandomForestRegressor\n",
    "forest = RandomForestRegressor(n_estimators = 100, random_state=0).fit(X_train,y_train)"
   ]
  },
  {
   "cell_type": "code",
   "execution_count": 28,
   "metadata": {},
   "outputs": [],
   "source": [
    "forest10 = RandomForestRegressor(n_estimators = 10, random_state=0).fit(X_train,y_train)"
   ]
  },
  {
   "cell_type": "code",
   "execution_count": 29,
   "metadata": {},
   "outputs": [],
   "source": [
    "forest1 = RandomForestRegressor(n_estimators = 1, random_state=0).fit(X_train,y_train)"
   ]
  },
  {
   "cell_type": "code",
   "execution_count": 30,
   "metadata": {},
   "outputs": [
    {
     "name": "stdout",
     "output_type": "stream",
     "text": [
      "훈련 세트 점수:0.99\n",
      "테스트 세트 점수:0.90\n"
     ]
    }
   ],
   "source": [
    "print(\"훈련 세트 점수:{:.2f}\".format(forest.score(X_train,y_train)))\n",
    "print(\"테스트 세트 점수:{:.2f}\".format(forest.score(X_test,y_test)))"
   ]
  },
  {
   "cell_type": "code",
   "execution_count": 31,
   "metadata": {},
   "outputs": [
    {
     "name": "stdout",
     "output_type": "stream",
     "text": [
      "훈련 세트 점수:0.98\n",
      "테스트 세트 점수:0.89\n"
     ]
    }
   ],
   "source": [
    "print(\"훈련 세트 점수:{:.2f}\".format(forest10.score(X_train,y_train)))\n",
    "print(\"테스트 세트 점수:{:.2f}\".format(forest10.score(X_test,y_test)))"
   ]
  },
  {
   "cell_type": "code",
   "execution_count": 32,
   "metadata": {},
   "outputs": [
    {
     "name": "stdout",
     "output_type": "stream",
     "text": [
      "훈련 세트 점수:0.90\n",
      "테스트 세트 점수:0.75\n"
     ]
    }
   ],
   "source": [
    "print(\"훈련 세트 점수:{:.2f}\".format(forest1.score(X_train,y_train)))\n",
    "print(\"테스트 세트 점수:{:.2f}\".format(forest1.score(X_test,y_test)))"
   ]
  },
  {
   "cell_type": "markdown",
   "metadata": {},
   "source": [
    "### 2.3.2 그레이디언트 부스팅 회귀트리\n",
    "- 여러 개의 결정 트리를 묶어 강력한 모델을 만드는 또 다른 앙상블 방법이다.\n",
    "- 이름은 회귀지만 분류와 회귀 모두에 사용 가능\n",
    "- 랜덤 포레스트와 달리 이전 트리의 오차를 보완하는 방식으로 순차적으로 트리를 만든다.\n",
    "- 메모리를 적게 사용하고 예측도 빠르다.\n",
    "- max_depth와 learning_rate의 값을 크게 하면 복잡한 모델을 만든다."
   ]
  },
  {
   "cell_type": "code",
   "execution_count": 30,
   "metadata": {},
   "outputs": [],
   "source": [
    "from sklearn.ensemble import GradientBoostingRegressor\n",
    "gbrt = GradientBoostingRegressor(random_state = 0).fit(X_train,y_train)"
   ]
  },
  {
   "cell_type": "code",
   "execution_count": 31,
   "metadata": {},
   "outputs": [],
   "source": [
    "from sklearn.ensemble import GradientBoostingRegressor\n",
    "gbrt01 = GradientBoostingRegressor(random_state = 0,max_depth=10).fit(X_train,y_train)"
   ]
  },
  {
   "cell_type": "code",
   "execution_count": 32,
   "metadata": {},
   "outputs": [
    {
     "name": "stdout",
     "output_type": "stream",
     "text": [
      "훈련 세트 점수:0.75\n",
      "테스트 세트 점수:0.74\n"
     ]
    }
   ],
   "source": [
    "print(\"훈련 세트 점수:{:.2f}\".format(gbrt.score(X_train,y_train)))\n",
    "print(\"테스트 세트 점수:{:.2f}\".format(gbrt.score(X_test,y_test)))"
   ]
  },
  {
   "cell_type": "code",
   "execution_count": 33,
   "metadata": {},
   "outputs": [
    {
     "name": "stdout",
     "output_type": "stream",
     "text": [
      "훈련 세트 점수:0.98\n",
      "테스트 세트 점수:0.92\n"
     ]
    }
   ],
   "source": [
    "print(\"훈련 세트 점수:{:.2f}\".format(gbrt01.score(X_train,y_train)))\n",
    "print(\"테스트 세트 점수:{:.2f}\".format(gbrt01.score(X_test,y_test)))"
   ]
  },
  {
   "cell_type": "markdown",
   "metadata": {},
   "source": [
    "### 2.4 커널 서포트 벡터 머신(SVM)"
   ]
  },
  {
   "cell_type": "code",
   "execution_count": 36,
   "metadata": {},
   "outputs": [],
   "source": [
    "from sklearn.svm import SVR\n",
    "svr = SVR().fit(X_train,y_train)"
   ]
  },
  {
   "cell_type": "code",
   "execution_count": 37,
   "metadata": {},
   "outputs": [
    {
     "name": "stdout",
     "output_type": "stream",
     "text": [
      "훈련 세트 점수:0.47\n",
      "테스트 세트 점수:0.47\n"
     ]
    }
   ],
   "source": [
    "print(\"훈련 세트 점수:{:.2f}\".format(svr.score(X_train,y_train)))\n",
    "print(\"테스트 세트 점수:{:.2f}\".format(svr.score(X_test,y_test)))"
   ]
  },
  {
   "cell_type": "code",
   "execution_count": 53,
   "metadata": {},
   "outputs": [
    {
     "name": "stdout",
     "output_type": "stream",
     "text": [
      "k-최근접 이웃 회귀\n",
      "테스트 세트 R^2: 0.66\n",
      "\n",
      "선형회귀\n",
      "훈련 세트 점수:0.59\n",
      "테스트 세트 점수:0.59\n",
      "\n",
      "리지회귀\n",
      "훈련 세트 점수:0.59\n",
      "테스트 세트 점수:0.59\n",
      "\n",
      "라쏘회귀\n",
      "훈련 세트 점수:0.59\n",
      "테스트 세트 점수:0.59\n",
      "\n",
      "결정트리\n",
      "훈련 세트 점수:1.00\n",
      "테스트 세트 점수:0.80\n",
      "\n",
      "랜덤 포레스트\n",
      "훈련 세트 점수:0.99\n",
      "테스트 세트 점수:0.90\n",
      "\n",
      "그레이디언트 부스팅 회귀트리\n",
      "훈련 세트 점수:0.98\n",
      "테스트 세트 점수:0.92\n",
      "\n",
      "SVM\n",
      "훈련 세트 점수:0.47\n",
      "테스트 세트 점수:0.47\n"
     ]
    }
   ],
   "source": [
    "print(\"k-최근접 이웃 회귀\")\n",
    "knn.fit(X_train ,y_train)\n",
    "print(\"테스트 세트 R^2: {:.2f}\".format(knn.score(X_test,y_test)))\n",
    "print()\n",
    "print(\"선형회귀\")\n",
    "lr.fit(X_train ,y_train)\n",
    "print(\"훈련 세트 점수:{:.2f}\".format(lr.score(X_train ,y_train)))\n",
    "print(\"테스트 세트 점수:{:.2f}\".format(lr.score(X_test,y_test)))\n",
    "print()\n",
    "print(\"리지회귀\")\n",
    "ridge.fit(X_train ,y_train)\n",
    "print(\"훈련 세트 점수:{:.2f}\".format(ridge.score(X_train ,y_train)))\n",
    "print(\"테스트 세트 점수:{:.2f}\".format(ridge.score(X_test,y_test)))\n",
    "print()\n",
    "print(\"라쏘회귀\")\n",
    "lasso.fit(X_train ,y_train)\n",
    "print(\"훈련 세트 점수:{:.2f}\".format(lasso.score(X_train,y_train)))\n",
    "print(\"테스트 세트 점수:{:.2f}\".format(lasso.score(X_test,y_test)))\n",
    "print()\n",
    "print(\"결정트리\")\n",
    "tree = DecisionTreeRegressor().fit(X_train ,y_train)\n",
    "print(\"훈련 세트 점수:{:.2f}\".format(tree.score(X_train ,y_train)))\n",
    "print(\"테스트 세트 점수:{:.2f}\".format(tree.score(X_test,y_test)))\n",
    "print()\n",
    "print(\"랜덤 포레스트\")\n",
    "forest = RandomForestRegressor(n_estimators = 100, random_state=0).fit(X_train ,y_train)\n",
    "print(\"훈련 세트 점수:{:.2f}\".format(forest.score(X_train,y_train)))\n",
    "print(\"테스트 세트 점수:{:.2f}\".format(forest.score(X_test,y_test)))\n",
    "print()\n",
    "print(\"그레이디언트 부스팅 회귀트리\")\n",
    "gbrt01 = GradientBoostingRegressor(random_state = 0,max_depth=10).fit(X_train ,y_train)\n",
    "print(\"훈련 세트 점수:{:.2f}\".format(gbrt01.score(X_train ,y_train)))\n",
    "print(\"테스트 세트 점수:{:.2f}\".format(gbrt01.score(X_test,y_test)))\n",
    "print()\n",
    "print(\"SVM\")\n",
    "svr = SVR().fit(X_train,y_train)\n",
    "print(\"훈련 세트 점수:{:.2f}\".format(svr.score(X_train,y_train)))\n",
    "print(\"테스트 세트 점수:{:.2f}\".format(svr.score(X_test,y_test)))"
   ]
  },
  {
   "cell_type": "markdown",
   "metadata": {},
   "source": [
    "## 3. 데이터 스케일 조정"
   ]
  },
  {
   "cell_type": "code",
   "execution_count": 57,
   "metadata": {},
   "outputs": [],
   "source": [
    "from sklearn.preprocessing import StandardScaler,RobustScaler,MinMaxScaler,Normalizer,QuantileTransformer,PowerTransformer"
   ]
  },
  {
   "cell_type": "markdown",
   "metadata": {},
   "source": [
    "### 1) StandardScaler"
   ]
  },
  {
   "cell_type": "code",
   "execution_count": 58,
   "metadata": {},
   "outputs": [],
   "source": [
    "sts= StandardScaler()\n",
    "X_train_scaled = sts.fit_transform(X_train)\n",
    "X_test_scaled = sts.transform(X_test)"
   ]
  },
  {
   "cell_type": "code",
   "execution_count": 59,
   "metadata": {},
   "outputs": [
    {
     "name": "stdout",
     "output_type": "stream",
     "text": [
      "k-최근접 이웃 회귀\n",
      "테스트 세트 R^2: 0.80\n",
      "\n",
      "선형회귀\n",
      "훈련 세트 점수:0.59\n",
      "테스트 세트 점수:0.59\n",
      "\n",
      "리지회귀\n",
      "훈련 세트 점수:0.59\n",
      "테스트 세트 점수:0.59\n",
      "\n",
      "라쏘회귀\n",
      "훈련 세트 점수:0.59\n",
      "테스트 세트 점수:0.59\n",
      "\n",
      "결정트리\n",
      "훈련 세트 점수:1.00\n",
      "테스트 세트 점수:0.80\n",
      "\n",
      "랜덤 포레스트\n",
      "훈련 세트 점수:0.99\n",
      "테스트 세트 점수:0.90\n",
      "\n",
      "그레이디언트 부스팅 회귀트리\n",
      "훈련 세트 점수:0.98\n",
      "테스트 세트 점수:0.92\n",
      "\n",
      "SVM\n",
      "훈련 세트 점수:0.78\n",
      "테스트 세트 점수:0.77\n"
     ]
    }
   ],
   "source": [
    "print(\"k-최근접 이웃 회귀\")\n",
    "knn.fit(X_train_scaled ,y_train)\n",
    "print(\"테스트 세트 R^2: {:.2f}\".format(knn.score(X_test_scaled,y_test)))\n",
    "print()\n",
    "print(\"선형회귀\")\n",
    "lr.fit(X_train_scaled ,y_train)\n",
    "print(\"훈련 세트 점수:{:.2f}\".format(lr.score(X_train_scaled ,y_train)))\n",
    "print(\"테스트 세트 점수:{:.2f}\".format(lr.score(X_test_scaled,y_test)))\n",
    "print()\n",
    "print(\"리지회귀\")\n",
    "ridge.fit(X_train_scaled ,y_train)\n",
    "print(\"훈련 세트 점수:{:.2f}\".format(ridge.score(X_train_scaled ,y_train)))\n",
    "print(\"테스트 세트 점수:{:.2f}\".format(ridge.score(X_test_scaled,y_test)))\n",
    "print()\n",
    "print(\"라쏘회귀\")\n",
    "lasso.fit(X_train_scaled ,y_train)\n",
    "print(\"훈련 세트 점수:{:.2f}\".format(lasso.score(X_train_scaled ,y_train)))\n",
    "print(\"테스트 세트 점수:{:.2f}\".format(lasso.score(X_test_scaled,y_test)))\n",
    "print()\n",
    "print(\"결정트리\")\n",
    "tree = DecisionTreeRegressor().fit(X_train_scaled ,y_train)\n",
    "print(\"훈련 세트 점수:{:.2f}\".format(tree.score(X_train_scaled ,y_train)))\n",
    "print(\"테스트 세트 점수:{:.2f}\".format(tree.score(X_test_scaled,y_test)))\n",
    "print()\n",
    "print(\"랜덤 포레스트\")\n",
    "forest = RandomForestRegressor(n_estimators = 100, random_state=0).fit(X_train_scaled ,y_train)\n",
    "print(\"훈련 세트 점수:{:.2f}\".format(forest.score(X_train_scaled ,y_train)))\n",
    "print(\"테스트 세트 점수:{:.2f}\".format(forest.score(X_test_scaled,y_test)))\n",
    "print()\n",
    "print(\"그레이디언트 부스팅 회귀트리\")\n",
    "gbrt01 = GradientBoostingRegressor(random_state = 0,max_depth=10).fit(X_train_scaled ,y_train)\n",
    "print(\"훈련 세트 점수:{:.2f}\".format(gbrt01.score(X_train_scaled ,y_train)))\n",
    "print(\"테스트 세트 점수:{:.2f}\".format(gbrt01.score(X_test_scaled,y_test)))\n",
    "print()\n",
    "print(\"SVM\")\n",
    "svr = SVR().fit(X_train_scaled,y_train)\n",
    "print(\"훈련 세트 점수:{:.2f}\".format(svr.score(X_train_scaled,y_train)))\n",
    "print(\"테스트 세트 점수:{:.2f}\".format(svr.score(X_test_scaled,y_test)))"
   ]
  },
  {
   "cell_type": "markdown",
   "metadata": {},
   "source": [
    "### 2) MinMaxScaler"
   ]
  },
  {
   "cell_type": "code",
   "execution_count": 60,
   "metadata": {},
   "outputs": [],
   "source": [
    "mms= MinMaxScaler()\n",
    "X_train_scaled = mms.fit_transform(X_train)\n",
    "X_test_scaled = mms.transform(X_test)"
   ]
  },
  {
   "cell_type": "code",
   "execution_count": 61,
   "metadata": {},
   "outputs": [
    {
     "name": "stdout",
     "output_type": "stream",
     "text": [
      "k-최근접 이웃 회귀\n",
      "테스트 세트 R^2: 0.80\n",
      "\n",
      "선형회귀\n",
      "훈련 세트 점수:0.59\n",
      "테스트 세트 점수:0.59\n",
      "\n",
      "리지회귀\n",
      "훈련 세트 점수:0.59\n",
      "테스트 세트 점수:0.59\n",
      "\n",
      "라쏘회귀\n",
      "훈련 세트 점수:0.59\n",
      "테스트 세트 점수:0.59\n",
      "\n",
      "결정트리\n",
      "훈련 세트 점수:1.00\n",
      "테스트 세트 점수:0.81\n",
      "\n",
      "랜덤 포레스트\n",
      "훈련 세트 점수:0.99\n",
      "테스트 세트 점수:0.90\n",
      "\n",
      "그레이디언트 부스팅 회귀트리\n",
      "훈련 세트 점수:0.98\n",
      "테스트 세트 점수:0.92\n",
      "\n",
      "SVM\n",
      "훈련 세트 점수:0.78\n",
      "테스트 세트 점수:0.76\n"
     ]
    }
   ],
   "source": [
    "print(\"k-최근접 이웃 회귀\")\n",
    "knn.fit(X_train_scaled ,y_train)\n",
    "print(\"테스트 세트 R^2: {:.2f}\".format(knn.score(X_test_scaled,y_test)))\n",
    "print()\n",
    "print(\"선형회귀\")\n",
    "lr.fit(X_train_scaled ,y_train)\n",
    "print(\"훈련 세트 점수:{:.2f}\".format(lr.score(X_train_scaled ,y_train)))\n",
    "print(\"테스트 세트 점수:{:.2f}\".format(lr.score(X_test_scaled,y_test)))\n",
    "print()\n",
    "print(\"리지회귀\")\n",
    "ridge.fit(X_train_scaled ,y_train)\n",
    "print(\"훈련 세트 점수:{:.2f}\".format(ridge.score(X_train_scaled ,y_train)))\n",
    "print(\"테스트 세트 점수:{:.2f}\".format(ridge.score(X_test_scaled,y_test)))\n",
    "print()\n",
    "print(\"라쏘회귀\")\n",
    "lasso.fit(X_train_scaled ,y_train)\n",
    "print(\"훈련 세트 점수:{:.2f}\".format(lasso.score(X_train_scaled ,y_train)))\n",
    "print(\"테스트 세트 점수:{:.2f}\".format(lasso.score(X_test_scaled,y_test)))\n",
    "print()\n",
    "print(\"결정트리\")\n",
    "tree = DecisionTreeRegressor().fit(X_train_scaled ,y_train)\n",
    "print(\"훈련 세트 점수:{:.2f}\".format(tree.score(X_train_scaled ,y_train)))\n",
    "print(\"테스트 세트 점수:{:.2f}\".format(tree.score(X_test_scaled,y_test)))\n",
    "print()\n",
    "print(\"랜덤 포레스트\")\n",
    "forest = RandomForestRegressor(n_estimators = 100, random_state=0).fit(X_train_scaled ,y_train)\n",
    "print(\"훈련 세트 점수:{:.2f}\".format(forest.score(X_train_scaled ,y_train)))\n",
    "print(\"테스트 세트 점수:{:.2f}\".format(forest.score(X_test_scaled,y_test)))\n",
    "print()\n",
    "print(\"그레이디언트 부스팅 회귀트리\")\n",
    "gbrt01 = GradientBoostingRegressor(random_state = 0,max_depth=10).fit(X_train_scaled ,y_train)\n",
    "print(\"훈련 세트 점수:{:.2f}\".format(gbrt01.score(X_train_scaled ,y_train)))\n",
    "print(\"테스트 세트 점수:{:.2f}\".format(gbrt01.score(X_test_scaled,y_test)))\n",
    "print()\n",
    "print(\"SVM\")\n",
    "svr = SVR().fit(X_train_scaled,y_train)\n",
    "print(\"훈련 세트 점수:{:.2f}\".format(svr.score(X_train_scaled,y_train)))\n",
    "print(\"테스트 세트 점수:{:.2f}\".format(svr.score(X_test_scaled,y_test)))"
   ]
  },
  {
   "cell_type": "markdown",
   "metadata": {},
   "source": [
    "### 3) QuantileTransformer(균등분포, 정규분포)"
   ]
  },
  {
   "cell_type": "code",
   "execution_count": 62,
   "metadata": {},
   "outputs": [],
   "source": [
    "qt= QuantileTransformer()\n",
    "X_train_scaled = qt.fit_transform(X_train)\n",
    "X_test_scaled = qt.transform(X_test)"
   ]
  },
  {
   "cell_type": "code",
   "execution_count": 63,
   "metadata": {
    "scrolled": false
   },
   "outputs": [
    {
     "name": "stdout",
     "output_type": "stream",
     "text": [
      "k-최근접 이웃 회귀\n",
      "테스트 세트 R^2: 0.79\n",
      "\n",
      "선형회귀\n",
      "훈련 세트 점수:0.69\n",
      "테스트 세트 점수:0.69\n",
      "\n",
      "리지회귀\n",
      "훈련 세트 점수:0.68\n",
      "테스트 세트 점수:0.68\n",
      "\n",
      "라쏘회귀\n",
      "훈련 세트 점수:0.68\n",
      "테스트 세트 점수:0.68\n",
      "\n",
      "결정트리\n",
      "훈련 세트 점수:1.00\n",
      "테스트 세트 점수:0.80\n",
      "\n",
      "랜덤 포레스트\n",
      "훈련 세트 점수:0.99\n",
      "테스트 세트 점수:0.90\n",
      "\n",
      "그레이디언트 부스팅 회귀트리\n",
      "훈련 세트 점수:0.98\n",
      "테스트 세트 점수:0.92\n",
      "\n",
      "SVM\n",
      "훈련 세트 점수:0.86\n",
      "테스트 세트 점수:0.85\n"
     ]
    }
   ],
   "source": [
    "print(\"k-최근접 이웃 회귀\")\n",
    "knn.fit(X_train_scaled ,y_train)\n",
    "print(\"테스트 세트 R^2: {:.2f}\".format(knn.score(X_test_scaled,y_test)))\n",
    "print()\n",
    "print(\"선형회귀\")\n",
    "lr.fit(X_train_scaled ,y_train)\n",
    "print(\"훈련 세트 점수:{:.2f}\".format(lr.score(X_train_scaled ,y_train)))\n",
    "print(\"테스트 세트 점수:{:.2f}\".format(lr.score(X_test_scaled,y_test)))\n",
    "print()\n",
    "print(\"리지회귀\")\n",
    "ridge.fit(X_train_scaled ,y_train)\n",
    "print(\"훈련 세트 점수:{:.2f}\".format(ridge.score(X_train_scaled ,y_train)))\n",
    "print(\"테스트 세트 점수:{:.2f}\".format(ridge.score(X_test_scaled,y_test)))\n",
    "print()\n",
    "print(\"라쏘회귀\")\n",
    "lasso.fit(X_train_scaled ,y_train)\n",
    "print(\"훈련 세트 점수:{:.2f}\".format(lasso.score(X_train_scaled ,y_train)))\n",
    "print(\"테스트 세트 점수:{:.2f}\".format(lasso.score(X_test_scaled,y_test)))\n",
    "print()\n",
    "print(\"결정트리\")\n",
    "tree = DecisionTreeRegressor().fit(X_train_scaled ,y_train)\n",
    "print(\"훈련 세트 점수:{:.2f}\".format(tree.score(X_train_scaled ,y_train)))\n",
    "print(\"테스트 세트 점수:{:.2f}\".format(tree.score(X_test_scaled,y_test)))\n",
    "print()\n",
    "print(\"랜덤 포레스트\")\n",
    "forest = RandomForestRegressor(n_estimators = 100, random_state=0).fit(X_train_scaled ,y_train)\n",
    "print(\"훈련 세트 점수:{:.2f}\".format(forest.score(X_train_scaled ,y_train)))\n",
    "print(\"테스트 세트 점수:{:.2f}\".format(forest.score(X_test_scaled,y_test)))\n",
    "print()\n",
    "print(\"그레이디언트 부스팅 회귀트리\")\n",
    "gbrt01 = GradientBoostingRegressor(random_state = 0,max_depth=10).fit(X_train_scaled ,y_train)\n",
    "print(\"훈련 세트 점수:{:.2f}\".format(gbrt01.score(X_train_scaled ,y_train)))\n",
    "print(\"테스트 세트 점수:{:.2f}\".format(gbrt01.score(X_test_scaled,y_test)))\n",
    "print()\n",
    "print(\"SVM\")\n",
    "svr = SVR().fit(X_train_scaled,y_train)\n",
    "print(\"훈련 세트 점수:{:.2f}\".format(svr.score(X_train_scaled,y_train)))\n",
    "print(\"테스트 세트 점수:{:.2f}\".format(svr.score(X_test_scaled,y_test)))"
   ]
  },
  {
   "cell_type": "markdown",
   "metadata": {},
   "source": [
    "## 4. 2019~2020 데이터 예측하고 비교하기"
   ]
  },
  {
   "cell_type": "code",
   "execution_count": 72,
   "metadata": {},
   "outputs": [
    {
     "data": {
      "text/plain": [
       "18537    1.19\n",
       "18538    1.34\n",
       "18539    1.23\n",
       "18540    0.87\n",
       "18541    0.92\n",
       "         ... \n",
       "24652    1.49\n",
       "24653    1.40\n",
       "24654    1.24\n",
       "24655    1.53\n",
       "24656    1.26\n",
       "Name: AveragePrice, Length: 6120, dtype: float64"
      ]
     },
     "execution_count": 72,
     "metadata": {},
     "output_type": "execute_result"
    }
   ],
   "source": [
    "avo2 = avocado[avocado['Date'] >= '2019-01-01']\n",
    "X2 = avo2.drop(['Date','AveragePrice'],axis=1)\n",
    "y2 = avo2['AveragePrice']\n",
    "y2"
   ]
  },
  {
   "cell_type": "code",
   "execution_count": 73,
   "metadata": {},
   "outputs": [],
   "source": [
    "sts= StandardScaler()\n",
    "X_train_sts = sts.fit_transform(X_train)\n",
    "X2_test_sts = sts.transform(X2)"
   ]
  },
  {
   "cell_type": "code",
   "execution_count": 74,
   "metadata": {},
   "outputs": [],
   "source": [
    "mms= MinMaxScaler()\n",
    "X_train_mms = mms.fit_transform(X_train)\n",
    "X2_test_mms = mms.transform(X2)"
   ]
  },
  {
   "cell_type": "code",
   "execution_count": 75,
   "metadata": {},
   "outputs": [],
   "source": [
    "qt= QuantileTransformer()\n",
    "X_train_qt = qt.fit_transform(X_train)\n",
    "X2_test_qt = qt.transform(X2)"
   ]
  },
  {
   "cell_type": "code",
   "execution_count": 68,
   "metadata": {},
   "outputs": [
    {
     "name": "stdout",
     "output_type": "stream",
     "text": [
      "k-최근접 이웃 회귀\n",
      "테스트 세트 R^2: 0.53\n",
      "\n",
      "선형회귀\n",
      "훈련 세트 점수:0.59\n",
      "테스트 세트 점수:0.33\n",
      "\n",
      "리지회귀\n",
      "훈련 세트 점수:0.59\n",
      "테스트 세트 점수:0.34\n",
      "\n",
      "라쏘회귀\n",
      "훈련 세트 점수:0.59\n",
      "테스트 세트 점수:0.36\n",
      "\n",
      "결정트리\n",
      "훈련 세트 점수:1.00\n",
      "테스트 세트 점수:0.34\n",
      "\n",
      "랜덤 포레스트\n",
      "훈련 세트 점수:0.99\n",
      "테스트 세트 점수:0.53\n",
      "\n",
      "그레이디언트 부스팅 회귀트리\n",
      "훈련 세트 점수:0.98\n",
      "테스트 세트 점수:0.55\n",
      "\n",
      "SVM\n",
      "훈련 세트 점수:0.78\n",
      "테스트 세트 점수:0.56\n"
     ]
    }
   ],
   "source": [
    "# StandardScaler\n",
    "print(\"k-최근접 이웃 회귀\")\n",
    "knn.fit(X_train_sts ,y_train)\n",
    "print(\"테스트 세트 R^2: {:.2f}\".format(knn.score(X2_test_sts,y2)))\n",
    "print()\n",
    "print(\"선형회귀\")\n",
    "lr.fit(X_train_sts ,y_train)\n",
    "print(\"훈련 세트 점수:{:.2f}\".format(lr.score(X_train_sts ,y_train)))\n",
    "print(\"테스트 세트 점수:{:.2f}\".format(lr.score(X2_test_sts,y2)))\n",
    "print()\n",
    "print(\"리지회귀\")\n",
    "ridge.fit(X_train_sts ,y_train)\n",
    "print(\"훈련 세트 점수:{:.2f}\".format(ridge.score(X_train_sts ,y_train)))\n",
    "print(\"테스트 세트 점수:{:.2f}\".format(ridge.score(X2_test_sts,y2)))\n",
    "print()\n",
    "print(\"라쏘회귀\")\n",
    "lasso.fit(X_train_sts,y_train)\n",
    "print(\"훈련 세트 점수:{:.2f}\".format(lasso.score(X_train_sts,y_train)))\n",
    "print(\"테스트 세트 점수:{:.2f}\".format(lasso.score(X2_test_sts,y2)))\n",
    "print()\n",
    "print(\"결정트리\")\n",
    "tree = DecisionTreeRegressor().fit(X_train_sts,y_train)\n",
    "print(\"훈련 세트 점수:{:.2f}\".format(tree.score(X_train_sts,y_train)))\n",
    "print(\"테스트 세트 점수:{:.2f}\".format(tree.score(X2_test_sts,y2)))\n",
    "print()\n",
    "print(\"랜덤 포레스트\")\n",
    "forest = RandomForestRegressor(n_estimators = 100, random_state=0).fit(X_train_sts,y_train)\n",
    "print(\"훈련 세트 점수:{:.2f}\".format(forest.score(X_train_sts,y_train)))\n",
    "print(\"테스트 세트 점수:{:.2f}\".format(forest.score(X2_test_sts,y2)))\n",
    "print()\n",
    "print(\"그레이디언트 부스팅 회귀트리\")\n",
    "gbrt01 = GradientBoostingRegressor(random_state = 0,max_depth=10).fit(X_train_sts,y_train)\n",
    "print(\"훈련 세트 점수:{:.2f}\".format(gbrt01.score(X_train_sts,y_train)))\n",
    "print(\"테스트 세트 점수:{:.2f}\".format(gbrt01.score(X2_test_sts,y2)))\n",
    "print()\n",
    "print(\"SVM\")\n",
    "svr = SVR().fit(X_train_sts,y_train)\n",
    "print(\"훈련 세트 점수:{:.2f}\".format(svr.score(X_train_sts,y_train)))\n",
    "print(\"테스트 세트 점수:{:.2f}\".format(svr.score(X2_test_sts,y2)))"
   ]
  },
  {
   "cell_type": "code",
   "execution_count": 69,
   "metadata": {},
   "outputs": [
    {
     "name": "stdout",
     "output_type": "stream",
     "text": [
      "k-최근접 이웃 회귀\n",
      "테스트 세트 R^2: 0.52\n",
      "\n",
      "선형회귀\n",
      "훈련 세트 점수:0.59\n",
      "테스트 세트 점수:0.33\n",
      "\n",
      "리지회귀\n",
      "훈련 세트 점수:0.59\n",
      "테스트 세트 점수:0.34\n",
      "\n",
      "라쏘회귀\n",
      "훈련 세트 점수:0.59\n",
      "테스트 세트 점수:0.36\n",
      "\n",
      "결정트리\n",
      "훈련 세트 점수:1.00\n",
      "테스트 세트 점수:0.36\n",
      "\n",
      "랜덤 포레스트\n",
      "훈련 세트 점수:0.99\n",
      "테스트 세트 점수:0.53\n",
      "\n",
      "그레이디언트 부스팅 회귀트리\n",
      "훈련 세트 점수:0.98\n",
      "테스트 세트 점수:0.55\n",
      "\n",
      "SVM\n",
      "훈련 세트 점수:-3.13\n",
      "테스트 세트 점수:-2.91\n"
     ]
    }
   ],
   "source": [
    "# MinMaxScaler\n",
    "print(\"k-최근접 이웃 회귀\")\n",
    "knn.fit(X_train_mms ,y_train)\n",
    "print(\"테스트 세트 R^2: {:.2f}\".format(knn.score(X2_test_mms,y2)))\n",
    "print()\n",
    "print(\"선형회귀\")\n",
    "lr.fit(X_train_mms ,y_train)\n",
    "print(\"훈련 세트 점수:{:.2f}\".format(lr.score(X_train_mms ,y_train)))\n",
    "print(\"테스트 세트 점수:{:.2f}\".format(lr.score(X2_test_mms,y2)))\n",
    "print()\n",
    "print(\"리지회귀\")\n",
    "ridge.fit(X_train_mms ,y_train)\n",
    "print(\"훈련 세트 점수:{:.2f}\".format(ridge.score(X_train_mms ,y_train)))\n",
    "print(\"테스트 세트 점수:{:.2f}\".format(ridge.score(X2_test_mms,y2)))\n",
    "print()\n",
    "print(\"라쏘회귀\")\n",
    "lasso.fit(X_train_mms ,y_train)\n",
    "print(\"훈련 세트 점수:{:.2f}\".format(lasso.score(X_train_mms ,y_train)))\n",
    "print(\"테스트 세트 점수:{:.2f}\".format(lasso.score(X2_test_mms,y2)))\n",
    "print()\n",
    "print(\"결정트리\")\n",
    "tree = DecisionTreeRegressor().fit(X_train_mms ,y_train)\n",
    "print(\"훈련 세트 점수:{:.2f}\".format(tree.score(X_train_mms ,y_train)))\n",
    "print(\"테스트 세트 점수:{:.2f}\".format(tree.score(X2_test_mms,y2)))\n",
    "print()\n",
    "print(\"랜덤 포레스트\")\n",
    "forest = RandomForestRegressor(n_estimators = 100, random_state=0).fit(X_train_mms ,y_train)\n",
    "print(\"훈련 세트 점수:{:.2f}\".format(forest.score(X_train_mms ,y_train)))\n",
    "print(\"테스트 세트 점수:{:.2f}\".format(forest.score(X2_test_mms,y2)))\n",
    "print()\n",
    "print(\"그레이디언트 부스팅 회귀트리\")\n",
    "gbrt01 = GradientBoostingRegressor(random_state = 0,max_depth=10).fit(X_train_mms ,y_train)\n",
    "print(\"훈련 세트 점수:{:.2f}\".format(gbrt01.score(X_train_mms,y_train)))\n",
    "print(\"테스트 세트 점수:{:.2f}\".format(gbrt01.score(X2_test_mms,y2)))\n",
    "print()\n",
    "print(\"SVM\")\n",
    "svr = SVR().fit(X_train_scaled,y_train)\n",
    "print(\"훈련 세트 점수:{:.2f}\".format(svr.score(X_train_mms,y_train)))\n",
    "print(\"테스트 세트 점수:{:.2f}\".format(svr.score(X2_test_mms,y2)))"
   ]
  },
  {
   "cell_type": "code",
   "execution_count": 70,
   "metadata": {},
   "outputs": [
    {
     "name": "stdout",
     "output_type": "stream",
     "text": [
      "k-최근접 이웃 회귀\n",
      "테스트 세트 R^2: 0.52\n",
      "\n",
      "선형회귀\n",
      "훈련 세트 점수:0.69\n",
      "테스트 세트 점수:0.52\n",
      "\n",
      "리지회귀\n",
      "훈련 세트 점수:0.68\n",
      "테스트 세트 점수:0.52\n",
      "\n",
      "라쏘회귀\n",
      "훈련 세트 점수:0.68\n",
      "테스트 세트 점수:0.51\n",
      "\n",
      "결정트리\n",
      "훈련 세트 점수:1.00\n",
      "테스트 세트 점수:0.33\n",
      "\n",
      "랜덤 포레스트\n",
      "훈련 세트 점수:0.99\n",
      "테스트 세트 점수:0.53\n",
      "\n",
      "그레이디언트 부스팅 회귀트리\n",
      "훈련 세트 점수:0.98\n",
      "테스트 세트 점수:0.55\n",
      "\n",
      "SVM\n",
      "훈련 세트 점수:0.86\n",
      "테스트 세트 점수:0.66\n"
     ]
    }
   ],
   "source": [
    "# QuantileTransformer\n",
    "print(\"k-최근접 이웃 회귀\")\n",
    "knn.fit(X_train_qt ,y_train)\n",
    "print(\"테스트 세트 R^2: {:.2f}\".format(knn.score(X2_test_qt,y2)))\n",
    "print()\n",
    "print(\"선형회귀\")\n",
    "lr.fit(X_train_qt,y_train)\n",
    "print(\"훈련 세트 점수:{:.2f}\".format(lr.score(X_train_qt,y_train)))\n",
    "print(\"테스트 세트 점수:{:.2f}\".format(lr.score(X2_test_qt,y2)))\n",
    "print()\n",
    "print(\"리지회귀\")\n",
    "ridge.fit(X_train_qt,y_train)\n",
    "print(\"훈련 세트 점수:{:.2f}\".format(ridge.score(X_train_qt,y_train)))\n",
    "print(\"테스트 세트 점수:{:.2f}\".format(ridge.score(X2_test_qt,y2)))\n",
    "print()\n",
    "print(\"라쏘회귀\")\n",
    "lasso.fit(X_train_qt,y_train)\n",
    "print(\"훈련 세트 점수:{:.2f}\".format(lasso.score(X_train_qt,y_train)))\n",
    "print(\"테스트 세트 점수:{:.2f}\".format(lasso.score(X2_test_qt,y2)))\n",
    "print()\n",
    "print(\"결정트리\")\n",
    "tree = DecisionTreeRegressor().fit(X_train_qt ,y_train)\n",
    "print(\"훈련 세트 점수:{:.2f}\".format(tree.score(X_train_qt,y_train)))\n",
    "print(\"테스트 세트 점수:{:.2f}\".format(tree.score(X2_test_qt,y2)))\n",
    "print()\n",
    "print(\"랜덤 포레스트\")\n",
    "forest = RandomForestRegressor(n_estimators = 100, random_state=0).fit(X_train_qt ,y_train)\n",
    "print(\"훈련 세트 점수:{:.2f}\".format(forest.score(X_train_qt ,y_train)))\n",
    "print(\"테스트 세트 점수:{:.2f}\".format(forest.score(X2_test_qt,y2)))\n",
    "print()\n",
    "print(\"그레이디언트 부스팅 회귀트리\")\n",
    "gbrt01 = GradientBoostingRegressor(random_state = 0,max_depth=10).fit(X_train_qt,y_train)\n",
    "print(\"훈련 세트 점수:{:.2f}\".format(gbrt01.score(X_train_qt,y_train)))\n",
    "print(\"테스트 세트 점수:{:.2f}\".format(gbrt01.score(X2_test_qt,y2)))\n",
    "print()\n",
    "print(\"SVM\")\n",
    "svr = SVR().fit(X_train_qt,y_train)\n",
    "print(\"훈련 세트 점수:{:.2f}\".format(svr.score(X_train_qt,y_train)))\n",
    "print(\"테스트 세트 점수:{:.2f}\".format(svr.score(X2_test_qt,y2)))"
   ]
  },
  {
   "cell_type": "markdown",
   "metadata": {},
   "source": [
    "#### C값, gamma 값 찾기"
   ]
  },
  {
   "cell_type": "code",
   "execution_count": 71,
   "metadata": {},
   "outputs": [
    {
     "name": "stdout",
     "output_type": "stream",
     "text": [
      "C = 10, gamma= 0.01\n",
      "훈련 세트 점수:0.78\n",
      "테스트 세트 점수:0.59\n",
      "C=10,gamma=1\n",
      "훈련 세트 점수:0.96\n",
      "테스트 세트 점수:0.59\n",
      "C=10,gamma=10\n",
      "훈련 세트 점수:0.96\n",
      "테스트 세트 점수:0.46\n",
      "C=1,gamma=0.01\n",
      "훈련 세트 점수:0.72\n",
      "테스트 세트 점수:0.53\n",
      "C=1,gamma=0.1\n",
      "훈련 세트 점수:0.83\n",
      "테스트 세트 점수:0.64\n",
      "C=1,gamma=1\n",
      "훈련 세트 점수:0.92\n",
      "테스트 세트 점수:0.62\n",
      "C=1,gamma=10\n",
      "훈련 세트 점수:0.96\n",
      "테스트 세트 점수:0.47\n",
      "C=0.1,gamma=0.01\n",
      "훈련 세트 점수:0.62\n",
      "테스트 세트 점수:0.46\n",
      "C=0.1,gamma=0.1\n",
      "훈련 세트 점수:0.76\n",
      "테스트 세트 점수:0.57\n",
      "C=0.1,gamma=1\n",
      "훈련 세트 점수:0.83\n",
      "테스트 세트 점수:0.58\n",
      "C=0.1,gamma=10\n",
      "훈련 세트 점수:0.80\n",
      "테스트 세트 점수:0.38\n",
      "C=10,gamma=0.1\n",
      "훈련 세트 점수:0.88\n",
      "테스트 세트 점수:0.67\n"
     ]
    }
   ],
   "source": [
    "svr = SVR(C=10,gamma=0.01).fit(X_train_qt,y_train)\n",
    "print(\"C = 10, gamma= 0.01\")\n",
    "print(\"훈련 세트 점수:{:.2f}\".format(svr.score(X_train_qt,y_train)))\n",
    "print(\"테스트 세트 점수:{:.2f}\".format(svr.score(X2_test_qt,y2)))\n",
    "\n",
    "svr = SVR(C=10,gamma=1).fit(X_train_qt,y_train)\n",
    "print(\"C=10,gamma=1\")\n",
    "print(\"훈련 세트 점수:{:.2f}\".format(svr.score(X_train_qt,y_train)))\n",
    "print(\"테스트 세트 점수:{:.2f}\".format(svr.score(X2_test_qt,y2)))\n",
    "\n",
    "svr = SVR(C=10,gamma=10).fit(X_train_qt,y_train)\n",
    "print(\"C=10,gamma=10\")\n",
    "print(\"훈련 세트 점수:{:.2f}\".format(svr.score(X_train_qt,y_train)))\n",
    "print(\"테스트 세트 점수:{:.2f}\".format(svr.score(X2_test_qt,y2)))\n",
    "\n",
    "svr = SVR(C=1,gamma=0.01).fit(X_train_qt,y_train)\n",
    "print(\"C=1,gamma=0.01\")\n",
    "print(\"훈련 세트 점수:{:.2f}\".format(svr.score(X_train_qt,y_train)))\n",
    "print(\"테스트 세트 점수:{:.2f}\".format(svr.score(X2_test_qt,y2)))\n",
    "\n",
    "svr = SVR(C=1,gamma=0.1).fit(X_train_qt,y_train)\n",
    "print(\"C=1,gamma=0.1\")\n",
    "print(\"훈련 세트 점수:{:.2f}\".format(svr.score(X_train_qt,y_train)))\n",
    "print(\"테스트 세트 점수:{:.2f}\".format(svr.score(X2_test_qt,y2)))\n",
    "\n",
    "svr = SVR(C=1,gamma=1).fit(X_train_qt,y_train)\n",
    "print(\"C=1,gamma=1\")\n",
    "print(\"훈련 세트 점수:{:.2f}\".format(svr.score(X_train_qt,y_train)))\n",
    "print(\"테스트 세트 점수:{:.2f}\".format(svr.score(X2_test_qt,y2)))\n",
    "\n",
    "svr = SVR(C=1,gamma=10).fit(X_train_qt,y_train)\n",
    "print(\"C=1,gamma=10\")\n",
    "print(\"훈련 세트 점수:{:.2f}\".format(svr.score(X_train_qt,y_train)))\n",
    "print(\"테스트 세트 점수:{:.2f}\".format(svr.score(X2_test_qt,y2)))\n",
    "\n",
    "svr = SVR(C=0.1,gamma=0.01).fit(X_train_qt,y_train)\n",
    "print(\"C=0.1,gamma=0.01\")\n",
    "print(\"훈련 세트 점수:{:.2f}\".format(svr.score(X_train_qt,y_train)))\n",
    "print(\"테스트 세트 점수:{:.2f}\".format(svr.score(X2_test_qt,y2)))\n",
    "\n",
    "svr = SVR(C=0.1,gamma=0.1).fit(X_train_qt,y_train)\n",
    "print(\"C=0.1,gamma=0.1\")\n",
    "print(\"훈련 세트 점수:{:.2f}\".format(svr.score(X_train_qt,y_train)))\n",
    "print(\"테스트 세트 점수:{:.2f}\".format(svr.score(X2_test_qt,y2)))\n",
    "\n",
    "svr = SVR(C=0.1,gamma=1).fit(X_train_qt,y_train)\n",
    "print(\"C=0.1,gamma=1\")\n",
    "print(\"훈련 세트 점수:{:.2f}\".format(svr.score(X_train_qt,y_train)))\n",
    "print(\"테스트 세트 점수:{:.2f}\".format(svr.score(X2_test_qt,y2)))\n",
    "\n",
    "svr = SVR(C=0.1,gamma=10).fit(X_train_qt,y_train)\n",
    "print(\"C=0.1,gamma=10\")\n",
    "print(\"훈련 세트 점수:{:.2f}\".format(svr.score(X_train_qt,y_train)))\n",
    "print(\"테스트 세트 점수:{:.2f}\".format(svr.score(X2_test_qt,y2)))\n",
    "\n",
    "# Best C, gamma\n",
    "svr = SVR(C=10,gamma=0.1).fit(X_train_qt,y_train)\n",
    "print(\"C=10,gamma=0.1\")\n",
    "print(\"훈련 세트 점수:{:.2f}\".format(svr.score(X_train_qt,y_train)))\n",
    "print(\"테스트 세트 점수:{:.2f}\".format(svr.score(X2_test_qt,y2)))"
   ]
  },
  {
   "cell_type": "code",
   "execution_count": 76,
   "metadata": {},
   "outputs": [
    {
     "name": "stdout",
     "output_type": "stream",
     "text": [
      "C=10,gamma=0.1\n",
      "훈련 세트 점수:0.88\n",
      "테스트 세트 점수:0.67\n"
     ]
    }
   ],
   "source": [
    "# Best C, gamma\n",
    "svr = SVR(C=10,gamma=0.1).fit(X_train_qt,y_train)\n",
    "print(\"C=10,gamma=0.1\")\n",
    "print(\"훈련 세트 점수:{:.2f}\".format(svr.score(X_train_qt,y_train)))\n",
    "print(\"테스트 세트 점수:{:.2f}\".format(svr.score(X2_test_qt,y2)))"
   ]
  },
  {
   "cell_type": "code",
   "execution_count": 78,
   "metadata": {},
   "outputs": [
    {
     "data": {
      "text/html": [
       "<div>\n",
       "<style scoped>\n",
       "    .dataframe tbody tr th:only-of-type {\n",
       "        vertical-align: middle;\n",
       "    }\n",
       "\n",
       "    .dataframe tbody tr th {\n",
       "        vertical-align: top;\n",
       "    }\n",
       "\n",
       "    .dataframe thead th {\n",
       "        text-align: right;\n",
       "    }\n",
       "</style>\n",
       "<table border=\"1\" class=\"dataframe\">\n",
       "  <thead>\n",
       "    <tr style=\"text-align: right;\">\n",
       "      <th></th>\n",
       "      <th>AveragePrice</th>\n",
       "      <th>Total Volume</th>\n",
       "      <th>4046</th>\n",
       "      <th>4225</th>\n",
       "      <th>4770</th>\n",
       "      <th>Total Bags</th>\n",
       "      <th>Small Bags</th>\n",
       "      <th>Large Bags</th>\n",
       "      <th>XLarge Bags</th>\n",
       "      <th>year</th>\n",
       "      <th>...</th>\n",
       "      <th>region_SouthCarolina</th>\n",
       "      <th>region_Spokane</th>\n",
       "      <th>region_StLouis</th>\n",
       "      <th>region_Syracuse</th>\n",
       "      <th>region_Tampa</th>\n",
       "      <th>region_WestTexNewMexico</th>\n",
       "      <th>season_fall</th>\n",
       "      <th>season_spring</th>\n",
       "      <th>season_summer</th>\n",
       "      <th>season_winter</th>\n",
       "    </tr>\n",
       "    <tr>\n",
       "      <th>Date</th>\n",
       "      <th></th>\n",
       "      <th></th>\n",
       "      <th></th>\n",
       "      <th></th>\n",
       "      <th></th>\n",
       "      <th></th>\n",
       "      <th></th>\n",
       "      <th></th>\n",
       "      <th></th>\n",
       "      <th></th>\n",
       "      <th></th>\n",
       "      <th></th>\n",
       "      <th></th>\n",
       "      <th></th>\n",
       "      <th></th>\n",
       "      <th></th>\n",
       "      <th></th>\n",
       "      <th></th>\n",
       "      <th></th>\n",
       "      <th></th>\n",
       "      <th></th>\n",
       "    </tr>\n",
       "  </thead>\n",
       "  <tbody>\n",
       "    <tr>\n",
       "      <th>2015-01-04</th>\n",
       "      <td>1.310333</td>\n",
       "      <td>231110.681778</td>\n",
       "      <td>87970.708667</td>\n",
       "      <td>101884.999333</td>\n",
       "      <td>6465.444333</td>\n",
       "      <td>34789.529444</td>\n",
       "      <td>27880.314444</td>\n",
       "      <td>6762.426444</td>\n",
       "      <td>146.788556</td>\n",
       "      <td>2015</td>\n",
       "      <td>...</td>\n",
       "      <td>0.022222</td>\n",
       "      <td>0.022222</td>\n",
       "      <td>0.022222</td>\n",
       "      <td>0.022222</td>\n",
       "      <td>0.022222</td>\n",
       "      <td>0.022222</td>\n",
       "      <td>0.0</td>\n",
       "      <td>0.0</td>\n",
       "      <td>0.0</td>\n",
       "      <td>1.0</td>\n",
       "    </tr>\n",
       "    <tr>\n",
       "      <th>2015-01-11</th>\n",
       "      <td>1.385000</td>\n",
       "      <td>212107.377778</td>\n",
       "      <td>82140.116222</td>\n",
       "      <td>89077.109778</td>\n",
       "      <td>6759.525333</td>\n",
       "      <td>34130.626444</td>\n",
       "      <td>28585.834778</td>\n",
       "      <td>5414.811222</td>\n",
       "      <td>129.980444</td>\n",
       "      <td>2015</td>\n",
       "      <td>...</td>\n",
       "      <td>0.022222</td>\n",
       "      <td>0.022222</td>\n",
       "      <td>0.022222</td>\n",
       "      <td>0.022222</td>\n",
       "      <td>0.022222</td>\n",
       "      <td>0.022222</td>\n",
       "      <td>0.0</td>\n",
       "      <td>0.0</td>\n",
       "      <td>0.0</td>\n",
       "      <td>1.0</td>\n",
       "    </tr>\n",
       "    <tr>\n",
       "      <th>2015-01-18</th>\n",
       "      <td>1.405222</td>\n",
       "      <td>209729.181667</td>\n",
       "      <td>84197.655889</td>\n",
       "      <td>84828.047778</td>\n",
       "      <td>5973.389556</td>\n",
       "      <td>34730.088444</td>\n",
       "      <td>28878.568000</td>\n",
       "      <td>5790.700667</td>\n",
       "      <td>60.819778</td>\n",
       "      <td>2015</td>\n",
       "      <td>...</td>\n",
       "      <td>0.022222</td>\n",
       "      <td>0.022222</td>\n",
       "      <td>0.022222</td>\n",
       "      <td>0.022222</td>\n",
       "      <td>0.022222</td>\n",
       "      <td>0.022222</td>\n",
       "      <td>0.0</td>\n",
       "      <td>0.0</td>\n",
       "      <td>0.0</td>\n",
       "      <td>1.0</td>\n",
       "    </tr>\n",
       "    <tr>\n",
       "      <th>2015-01-25</th>\n",
       "      <td>1.408333</td>\n",
       "      <td>204588.018778</td>\n",
       "      <td>83947.256444</td>\n",
       "      <td>78168.807333</td>\n",
       "      <td>5920.344778</td>\n",
       "      <td>36551.610222</td>\n",
       "      <td>30312.372333</td>\n",
       "      <td>6169.776889</td>\n",
       "      <td>69.461000</td>\n",
       "      <td>2015</td>\n",
       "      <td>...</td>\n",
       "      <td>0.022222</td>\n",
       "      <td>0.022222</td>\n",
       "      <td>0.022222</td>\n",
       "      <td>0.022222</td>\n",
       "      <td>0.022222</td>\n",
       "      <td>0.022222</td>\n",
       "      <td>0.0</td>\n",
       "      <td>0.0</td>\n",
       "      <td>0.0</td>\n",
       "      <td>1.0</td>\n",
       "    </tr>\n",
       "    <tr>\n",
       "      <th>2015-02-01</th>\n",
       "      <td>1.258889</td>\n",
       "      <td>318450.203444</td>\n",
       "      <td>131353.221667</td>\n",
       "      <td>136274.423667</td>\n",
       "      <td>10141.694778</td>\n",
       "      <td>40680.863333</td>\n",
       "      <td>32044.703222</td>\n",
       "      <td>8281.657667</td>\n",
       "      <td>354.502444</td>\n",
       "      <td>2015</td>\n",
       "      <td>...</td>\n",
       "      <td>0.022222</td>\n",
       "      <td>0.022222</td>\n",
       "      <td>0.022222</td>\n",
       "      <td>0.022222</td>\n",
       "      <td>0.022222</td>\n",
       "      <td>0.022222</td>\n",
       "      <td>0.0</td>\n",
       "      <td>0.0</td>\n",
       "      <td>0.0</td>\n",
       "      <td>1.0</td>\n",
       "    </tr>\n",
       "    <tr>\n",
       "      <th>...</th>\n",
       "      <td>...</td>\n",
       "      <td>...</td>\n",
       "      <td>...</td>\n",
       "      <td>...</td>\n",
       "      <td>...</td>\n",
       "      <td>...</td>\n",
       "      <td>...</td>\n",
       "      <td>...</td>\n",
       "      <td>...</td>\n",
       "      <td>...</td>\n",
       "      <td>...</td>\n",
       "      <td>...</td>\n",
       "      <td>...</td>\n",
       "      <td>...</td>\n",
       "      <td>...</td>\n",
       "      <td>...</td>\n",
       "      <td>...</td>\n",
       "      <td>...</td>\n",
       "      <td>...</td>\n",
       "      <td>...</td>\n",
       "      <td>...</td>\n",
       "    </tr>\n",
       "    <tr>\n",
       "      <th>2020-03-22</th>\n",
       "      <td>1.222857</td>\n",
       "      <td>360706.250667</td>\n",
       "      <td>99851.071000</td>\n",
       "      <td>66737.123000</td>\n",
       "      <td>3249.964889</td>\n",
       "      <td>190867.883667</td>\n",
       "      <td>109742.515111</td>\n",
       "      <td>78087.153556</td>\n",
       "      <td>3038.215000</td>\n",
       "      <td>2020</td>\n",
       "      <td>...</td>\n",
       "      <td>0.022222</td>\n",
       "      <td>0.022222</td>\n",
       "      <td>0.022222</td>\n",
       "      <td>0.022222</td>\n",
       "      <td>0.022222</td>\n",
       "      <td>0.022222</td>\n",
       "      <td>0.0</td>\n",
       "      <td>1.0</td>\n",
       "      <td>0.0</td>\n",
       "      <td>0.0</td>\n",
       "    </tr>\n",
       "    <tr>\n",
       "      <th>2020-03-29</th>\n",
       "      <td>1.242174</td>\n",
       "      <td>345782.142000</td>\n",
       "      <td>92839.425333</td>\n",
       "      <td>67379.116333</td>\n",
       "      <td>3358.802778</td>\n",
       "      <td>182203.581444</td>\n",
       "      <td>113273.875778</td>\n",
       "      <td>63884.401444</td>\n",
       "      <td>5045.304222</td>\n",
       "      <td>2020</td>\n",
       "      <td>...</td>\n",
       "      <td>0.022222</td>\n",
       "      <td>0.022222</td>\n",
       "      <td>0.022222</td>\n",
       "      <td>0.022222</td>\n",
       "      <td>0.022222</td>\n",
       "      <td>0.022222</td>\n",
       "      <td>0.0</td>\n",
       "      <td>1.0</td>\n",
       "      <td>0.0</td>\n",
       "      <td>0.0</td>\n",
       "    </tr>\n",
       "    <tr>\n",
       "      <th>2020-04-05</th>\n",
       "      <td>1.223129</td>\n",
       "      <td>372738.866222</td>\n",
       "      <td>106001.198667</td>\n",
       "      <td>71922.943889</td>\n",
       "      <td>3940.187667</td>\n",
       "      <td>190873.154556</td>\n",
       "      <td>122979.086667</td>\n",
       "      <td>62565.684333</td>\n",
       "      <td>5328.383556</td>\n",
       "      <td>2020</td>\n",
       "      <td>...</td>\n",
       "      <td>0.022222</td>\n",
       "      <td>0.022222</td>\n",
       "      <td>0.022222</td>\n",
       "      <td>0.022222</td>\n",
       "      <td>0.022222</td>\n",
       "      <td>0.022222</td>\n",
       "      <td>0.0</td>\n",
       "      <td>1.0</td>\n",
       "      <td>0.0</td>\n",
       "      <td>0.0</td>\n",
       "    </tr>\n",
       "    <tr>\n",
       "      <th>2020-04-12</th>\n",
       "      <td>1.251572</td>\n",
       "      <td>357312.611333</td>\n",
       "      <td>101029.588111</td>\n",
       "      <td>67369.531667</td>\n",
       "      <td>4145.131889</td>\n",
       "      <td>184767.483889</td>\n",
       "      <td>119050.275667</td>\n",
       "      <td>59027.728000</td>\n",
       "      <td>6689.480222</td>\n",
       "      <td>2020</td>\n",
       "      <td>...</td>\n",
       "      <td>0.022222</td>\n",
       "      <td>0.022222</td>\n",
       "      <td>0.022222</td>\n",
       "      <td>0.022222</td>\n",
       "      <td>0.022222</td>\n",
       "      <td>0.022222</td>\n",
       "      <td>0.0</td>\n",
       "      <td>1.0</td>\n",
       "      <td>0.0</td>\n",
       "      <td>0.0</td>\n",
       "    </tr>\n",
       "    <tr>\n",
       "      <th>2020-04-19</th>\n",
       "      <td>1.231423</td>\n",
       "      <td>373415.094222</td>\n",
       "      <td>101666.624444</td>\n",
       "      <td>68794.651333</td>\n",
       "      <td>4669.601667</td>\n",
       "      <td>198283.137889</td>\n",
       "      <td>122326.923111</td>\n",
       "      <td>68651.590889</td>\n",
       "      <td>7304.623889</td>\n",
       "      <td>2020</td>\n",
       "      <td>...</td>\n",
       "      <td>0.022222</td>\n",
       "      <td>0.022222</td>\n",
       "      <td>0.022222</td>\n",
       "      <td>0.022222</td>\n",
       "      <td>0.022222</td>\n",
       "      <td>0.022222</td>\n",
       "      <td>0.0</td>\n",
       "      <td>1.0</td>\n",
       "      <td>0.0</td>\n",
       "      <td>0.0</td>\n",
       "    </tr>\n",
       "  </tbody>\n",
       "</table>\n",
       "<p>274 rows × 62 columns</p>\n",
       "</div>"
      ],
      "text/plain": [
       "            AveragePrice   Total Volume           4046           4225  \\\n",
       "Date                                                                    \n",
       "2015-01-04      1.310333  231110.681778   87970.708667  101884.999333   \n",
       "2015-01-11      1.385000  212107.377778   82140.116222   89077.109778   \n",
       "2015-01-18      1.405222  209729.181667   84197.655889   84828.047778   \n",
       "2015-01-25      1.408333  204588.018778   83947.256444   78168.807333   \n",
       "2015-02-01      1.258889  318450.203444  131353.221667  136274.423667   \n",
       "...                  ...            ...            ...            ...   \n",
       "2020-03-22      1.222857  360706.250667   99851.071000   66737.123000   \n",
       "2020-03-29      1.242174  345782.142000   92839.425333   67379.116333   \n",
       "2020-04-05      1.223129  372738.866222  106001.198667   71922.943889   \n",
       "2020-04-12      1.251572  357312.611333  101029.588111   67369.531667   \n",
       "2020-04-19      1.231423  373415.094222  101666.624444   68794.651333   \n",
       "\n",
       "                    4770     Total Bags     Small Bags    Large Bags  \\\n",
       "Date                                                                   \n",
       "2015-01-04   6465.444333   34789.529444   27880.314444   6762.426444   \n",
       "2015-01-11   6759.525333   34130.626444   28585.834778   5414.811222   \n",
       "2015-01-18   5973.389556   34730.088444   28878.568000   5790.700667   \n",
       "2015-01-25   5920.344778   36551.610222   30312.372333   6169.776889   \n",
       "2015-02-01  10141.694778   40680.863333   32044.703222   8281.657667   \n",
       "...                  ...            ...            ...           ...   \n",
       "2020-03-22   3249.964889  190867.883667  109742.515111  78087.153556   \n",
       "2020-03-29   3358.802778  182203.581444  113273.875778  63884.401444   \n",
       "2020-04-05   3940.187667  190873.154556  122979.086667  62565.684333   \n",
       "2020-04-12   4145.131889  184767.483889  119050.275667  59027.728000   \n",
       "2020-04-19   4669.601667  198283.137889  122326.923111  68651.590889   \n",
       "\n",
       "            XLarge Bags  year  ...  region_SouthCarolina  region_Spokane  \\\n",
       "Date                           ...                                         \n",
       "2015-01-04   146.788556  2015  ...              0.022222        0.022222   \n",
       "2015-01-11   129.980444  2015  ...              0.022222        0.022222   \n",
       "2015-01-18    60.819778  2015  ...              0.022222        0.022222   \n",
       "2015-01-25    69.461000  2015  ...              0.022222        0.022222   \n",
       "2015-02-01   354.502444  2015  ...              0.022222        0.022222   \n",
       "...                 ...   ...  ...                   ...             ...   \n",
       "2020-03-22  3038.215000  2020  ...              0.022222        0.022222   \n",
       "2020-03-29  5045.304222  2020  ...              0.022222        0.022222   \n",
       "2020-04-05  5328.383556  2020  ...              0.022222        0.022222   \n",
       "2020-04-12  6689.480222  2020  ...              0.022222        0.022222   \n",
       "2020-04-19  7304.623889  2020  ...              0.022222        0.022222   \n",
       "\n",
       "            region_StLouis  region_Syracuse  region_Tampa  \\\n",
       "Date                                                        \n",
       "2015-01-04        0.022222         0.022222      0.022222   \n",
       "2015-01-11        0.022222         0.022222      0.022222   \n",
       "2015-01-18        0.022222         0.022222      0.022222   \n",
       "2015-01-25        0.022222         0.022222      0.022222   \n",
       "2015-02-01        0.022222         0.022222      0.022222   \n",
       "...                    ...              ...           ...   \n",
       "2020-03-22        0.022222         0.022222      0.022222   \n",
       "2020-03-29        0.022222         0.022222      0.022222   \n",
       "2020-04-05        0.022222         0.022222      0.022222   \n",
       "2020-04-12        0.022222         0.022222      0.022222   \n",
       "2020-04-19        0.022222         0.022222      0.022222   \n",
       "\n",
       "            region_WestTexNewMexico  season_fall  season_spring  \\\n",
       "Date                                                              \n",
       "2015-01-04                 0.022222          0.0            0.0   \n",
       "2015-01-11                 0.022222          0.0            0.0   \n",
       "2015-01-18                 0.022222          0.0            0.0   \n",
       "2015-01-25                 0.022222          0.0            0.0   \n",
       "2015-02-01                 0.022222          0.0            0.0   \n",
       "...                             ...          ...            ...   \n",
       "2020-03-22                 0.022222          0.0            1.0   \n",
       "2020-03-29                 0.022222          0.0            1.0   \n",
       "2020-04-05                 0.022222          0.0            1.0   \n",
       "2020-04-12                 0.022222          0.0            1.0   \n",
       "2020-04-19                 0.022222          0.0            1.0   \n",
       "\n",
       "            season_summer  season_winter  \n",
       "Date                                      \n",
       "2015-01-04            0.0            1.0  \n",
       "2015-01-11            0.0            1.0  \n",
       "2015-01-18            0.0            1.0  \n",
       "2015-01-25            0.0            1.0  \n",
       "2015-02-01            0.0            1.0  \n",
       "...                   ...            ...  \n",
       "2020-03-22            0.0            0.0  \n",
       "2020-03-29            0.0            0.0  \n",
       "2020-04-05            0.0            0.0  \n",
       "2020-04-12            0.0            0.0  \n",
       "2020-04-19            0.0            0.0  \n",
       "\n",
       "[274 rows x 62 columns]"
      ]
     },
     "execution_count": 78,
     "metadata": {},
     "output_type": "execute_result"
    }
   ],
   "source": [
    "groupBy_predict"
   ]
  },
  {
   "cell_type": "code",
   "execution_count": 79,
   "metadata": {
    "scrolled": false
   },
   "outputs": [
    {
     "data": {
      "text/html": [
       "        <script type=\"text/javascript\">\n",
       "        window.PlotlyConfig = {MathJaxConfig: 'local'};\n",
       "        if (window.MathJax) {MathJax.Hub.Config({SVG: {font: \"STIX-Web\"}});}\n",
       "        if (typeof require !== 'undefined') {\n",
       "        require.undef(\"plotly\");\n",
       "        requirejs.config({\n",
       "            paths: {\n",
       "                'plotly': ['https://cdn.plot.ly/plotly-latest.min']\n",
       "            }\n",
       "        });\n",
       "        require(['plotly'], function(Plotly) {\n",
       "            window._Plotly = Plotly;\n",
       "        });\n",
       "        }\n",
       "        </script>\n",
       "        "
      ]
     },
     "metadata": {},
     "output_type": "display_data"
    },
    {
     "name": "stderr",
     "output_type": "stream",
     "text": [
      "C:\\Users\\CPB02GameN\\anaconda3\\lib\\site-packages\\ipykernel_launcher.py:11: SettingWithCopyWarning:\n",
      "\n",
      "\n",
      "A value is trying to be set on a copy of a slice from a DataFrame.\n",
      "Try using .loc[row_indexer,col_indexer] = value instead\n",
      "\n",
      "See the caveats in the documentation: https://pandas.pydata.org/pandas-docs/stable/user_guide/indexing.html#returning-a-view-versus-a-copy\n",
      "\n"
     ]
    },
    {
     "data": {
      "application/vnd.plotly.v1+json": {
       "config": {
        "linkText": "Export to plot.ly",
        "plotlyServerURL": "https://plot.ly",
        "showLink": false
       },
       "data": [
        {
         "type": "scatter",
         "x": [
          "2015-01-04T00:00:00",
          "2015-01-11T00:00:00",
          "2015-01-18T00:00:00",
          "2015-01-25T00:00:00",
          "2015-02-01T00:00:00",
          "2015-02-08T00:00:00",
          "2015-02-15T00:00:00",
          "2015-02-22T00:00:00",
          "2015-03-01T00:00:00",
          "2015-03-08T00:00:00",
          "2015-03-15T00:00:00",
          "2015-03-22T00:00:00",
          "2015-03-29T00:00:00",
          "2015-04-05T00:00:00",
          "2015-04-12T00:00:00",
          "2015-04-19T00:00:00",
          "2015-04-26T00:00:00",
          "2015-05-03T00:00:00",
          "2015-05-10T00:00:00",
          "2015-05-17T00:00:00",
          "2015-05-24T00:00:00",
          "2015-05-31T00:00:00",
          "2015-06-07T00:00:00",
          "2015-06-14T00:00:00",
          "2015-06-21T00:00:00",
          "2015-06-28T00:00:00",
          "2015-07-05T00:00:00",
          "2015-07-12T00:00:00",
          "2015-07-19T00:00:00",
          "2015-07-26T00:00:00",
          "2015-08-02T00:00:00",
          "2015-08-09T00:00:00",
          "2015-08-16T00:00:00",
          "2015-08-23T00:00:00",
          "2015-08-30T00:00:00",
          "2015-09-06T00:00:00",
          "2015-09-13T00:00:00",
          "2015-09-20T00:00:00",
          "2015-09-27T00:00:00",
          "2015-10-04T00:00:00",
          "2015-10-11T00:00:00",
          "2015-10-18T00:00:00",
          "2015-10-25T00:00:00",
          "2015-11-01T00:00:00",
          "2015-11-08T00:00:00",
          "2015-11-15T00:00:00",
          "2015-11-22T00:00:00",
          "2015-11-29T00:00:00",
          "2015-12-06T00:00:00",
          "2015-12-13T00:00:00",
          "2015-12-20T00:00:00",
          "2015-12-27T00:00:00",
          "2016-01-03T00:00:00",
          "2016-01-10T00:00:00",
          "2016-01-17T00:00:00",
          "2016-01-24T00:00:00",
          "2016-01-31T00:00:00",
          "2016-02-07T00:00:00",
          "2016-02-14T00:00:00",
          "2016-02-21T00:00:00",
          "2016-02-28T00:00:00",
          "2016-03-06T00:00:00",
          "2016-03-13T00:00:00",
          "2016-03-20T00:00:00",
          "2016-03-27T00:00:00",
          "2016-04-03T00:00:00",
          "2016-04-10T00:00:00",
          "2016-04-17T00:00:00",
          "2016-04-24T00:00:00",
          "2016-05-01T00:00:00",
          "2016-05-08T00:00:00",
          "2016-05-15T00:00:00",
          "2016-05-22T00:00:00",
          "2016-05-29T00:00:00",
          "2016-06-05T00:00:00",
          "2016-06-12T00:00:00",
          "2016-06-19T00:00:00",
          "2016-06-26T00:00:00",
          "2016-07-03T00:00:00",
          "2016-07-10T00:00:00",
          "2016-07-17T00:00:00",
          "2016-07-24T00:00:00",
          "2016-07-31T00:00:00",
          "2016-08-07T00:00:00",
          "2016-08-14T00:00:00",
          "2016-08-21T00:00:00",
          "2016-08-28T00:00:00",
          "2016-09-04T00:00:00",
          "2016-09-11T00:00:00",
          "2016-09-18T00:00:00",
          "2016-09-25T00:00:00",
          "2016-10-02T00:00:00",
          "2016-10-09T00:00:00",
          "2016-10-16T00:00:00",
          "2016-10-23T00:00:00",
          "2016-10-30T00:00:00",
          "2016-11-06T00:00:00",
          "2016-11-13T00:00:00",
          "2016-11-20T00:00:00",
          "2016-11-27T00:00:00",
          "2016-12-04T00:00:00",
          "2016-12-11T00:00:00",
          "2016-12-18T00:00:00",
          "2016-12-25T00:00:00",
          "2017-01-01T00:00:00",
          "2017-01-08T00:00:00",
          "2017-01-15T00:00:00",
          "2017-01-22T00:00:00",
          "2017-01-29T00:00:00",
          "2017-02-05T00:00:00",
          "2017-02-12T00:00:00",
          "2017-02-19T00:00:00",
          "2017-02-26T00:00:00",
          "2017-03-05T00:00:00",
          "2017-03-12T00:00:00",
          "2017-03-19T00:00:00",
          "2017-03-26T00:00:00",
          "2017-04-02T00:00:00",
          "2017-04-09T00:00:00",
          "2017-04-16T00:00:00",
          "2017-04-23T00:00:00",
          "2017-04-30T00:00:00",
          "2017-05-07T00:00:00",
          "2017-05-14T00:00:00",
          "2017-05-21T00:00:00",
          "2017-05-28T00:00:00",
          "2017-06-04T00:00:00",
          "2017-06-11T00:00:00",
          "2017-06-18T00:00:00",
          "2017-06-25T00:00:00",
          "2017-07-02T00:00:00",
          "2017-07-09T00:00:00",
          "2017-07-16T00:00:00",
          "2017-07-23T00:00:00",
          "2017-07-30T00:00:00",
          "2017-08-06T00:00:00",
          "2017-08-13T00:00:00",
          "2017-08-20T00:00:00",
          "2017-08-27T00:00:00",
          "2017-09-03T00:00:00",
          "2017-09-10T00:00:00",
          "2017-09-17T00:00:00",
          "2017-09-24T00:00:00",
          "2017-10-01T00:00:00",
          "2017-10-08T00:00:00",
          "2017-10-15T00:00:00",
          "2017-10-22T00:00:00",
          "2017-10-29T00:00:00",
          "2017-11-05T00:00:00",
          "2017-11-12T00:00:00",
          "2017-11-19T00:00:00",
          "2017-11-26T00:00:00",
          "2017-12-03T00:00:00",
          "2017-12-10T00:00:00",
          "2017-12-17T00:00:00",
          "2017-12-24T00:00:00",
          "2017-12-31T00:00:00",
          "2018-01-01T00:00:00",
          "2018-01-07T00:00:00",
          "2018-01-14T00:00:00",
          "2018-01-21T00:00:00",
          "2018-01-28T00:00:00",
          "2018-02-04T00:00:00",
          "2018-02-11T00:00:00",
          "2018-02-18T00:00:00",
          "2018-02-25T00:00:00",
          "2018-03-04T00:00:00",
          "2018-03-11T00:00:00",
          "2018-03-18T00:00:00",
          "2018-03-25T00:00:00",
          "2018-04-01T00:00:00",
          "2018-04-08T00:00:00",
          "2018-04-15T00:00:00",
          "2018-04-22T00:00:00",
          "2018-04-29T00:00:00",
          "2018-05-06T00:00:00",
          "2018-05-13T00:00:00",
          "2018-05-20T00:00:00",
          "2018-05-27T00:00:00",
          "2018-06-03T00:00:00",
          "2018-06-10T00:00:00",
          "2018-06-17T00:00:00",
          "2018-06-24T00:00:00",
          "2018-07-01T00:00:00",
          "2018-07-08T00:00:00",
          "2018-07-15T00:00:00",
          "2018-07-22T00:00:00",
          "2018-07-29T00:00:00",
          "2018-08-05T00:00:00",
          "2018-08-12T00:00:00",
          "2018-08-19T00:00:00",
          "2018-08-26T00:00:00",
          "2018-09-02T00:00:00",
          "2018-09-09T00:00:00",
          "2018-09-16T00:00:00",
          "2018-09-23T00:00:00",
          "2018-09-30T00:00:00",
          "2018-10-07T00:00:00",
          "2018-10-14T00:00:00",
          "2018-10-21T00:00:00",
          "2018-10-28T00:00:00",
          "2018-11-04T00:00:00",
          "2018-11-11T00:00:00",
          "2018-11-18T00:00:00",
          "2018-11-25T00:00:00",
          "2018-12-02T00:00:00",
          "2019-01-07T00:00:00",
          "2019-01-13T00:00:00",
          "2019-01-20T00:00:00",
          "2019-01-27T00:00:00",
          "2019-02-03T00:00:00",
          "2019-02-10T00:00:00",
          "2019-02-17T00:00:00",
          "2019-02-24T00:00:00",
          "2019-03-03T00:00:00",
          "2019-03-10T00:00:00",
          "2019-03-17T00:00:00",
          "2019-03-24T00:00:00",
          "2019-03-31T00:00:00",
          "2019-04-07T00:00:00",
          "2019-04-14T00:00:00",
          "2019-04-21T00:00:00",
          "2019-04-28T00:00:00",
          "2019-05-05T00:00:00",
          "2019-05-12T00:00:00",
          "2019-05-19T00:00:00",
          "2019-05-26T00:00:00",
          "2019-06-02T00:00:00",
          "2019-06-09T00:00:00",
          "2019-06-16T00:00:00",
          "2019-06-23T00:00:00",
          "2019-06-30T00:00:00",
          "2019-07-07T00:00:00",
          "2019-07-14T00:00:00",
          "2019-07-21T00:00:00",
          "2019-07-28T00:00:00",
          "2019-08-04T00:00:00",
          "2019-08-11T00:00:00",
          "2019-08-18T00:00:00",
          "2019-08-25T00:00:00",
          "2019-09-01T00:00:00",
          "2019-09-08T00:00:00",
          "2019-09-15T00:00:00",
          "2019-09-22T00:00:00",
          "2019-09-29T00:00:00",
          "2019-10-06T00:00:00",
          "2019-10-13T00:00:00",
          "2019-10-20T00:00:00",
          "2019-10-27T00:00:00",
          "2019-11-03T00:00:00",
          "2019-11-10T00:00:00",
          "2019-11-17T00:00:00",
          "2019-11-24T00:00:00",
          "2019-12-01T00:00:00",
          "2019-12-08T00:00:00",
          "2019-12-15T00:00:00",
          "2019-12-22T00:00:00",
          "2019-12-29T00:00:00",
          "2020-01-06T00:00:00",
          "2020-01-12T00:00:00",
          "2020-01-19T00:00:00",
          "2020-01-26T00:00:00",
          "2020-02-02T00:00:00",
          "2020-02-09T00:00:00",
          "2020-02-16T00:00:00",
          "2020-02-23T00:00:00",
          "2020-03-01T00:00:00",
          "2020-03-08T00:00:00",
          "2020-03-15T00:00:00",
          "2020-03-22T00:00:00",
          "2020-03-29T00:00:00",
          "2020-04-05T00:00:00",
          "2020-04-12T00:00:00",
          "2020-04-19T00:00:00"
         ],
         "y": [
          1.3103333333333336,
          1.3850000000000005,
          1.4052222222222224,
          1.4083333333333328,
          1.2588888888888892,
          1.3222222222222226,
          1.3989999999999996,
          1.3738888888888887,
          1.3216666666666663,
          1.3707777777777779,
          1.4063333333333334,
          1.358444444444445,
          1.4031111111111112,
          1.4202222222222216,
          1.373111111111111,
          1.3762222222222225,
          1.3934444444444445,
          1.291333333333333,
          1.3323333333333331,
          1.3588888888888893,
          1.3870000000000002,
          1.3882222222222227,
          1.386444444444444,
          1.4094444444444445,
          1.4144444444444442,
          1.412777777777778,
          1.4285555555555558,
          1.430444444444444,
          1.3991111111111112,
          1.4347777777777782,
          1.4926666666666668,
          1.4421111111111107,
          1.4553333333333338,
          1.4509999999999996,
          1.4232222222222222,
          1.4394444444444443,
          1.4691111111111117,
          1.4549999999999998,
          1.4567777777777782,
          1.4236666666666669,
          1.3750000000000002,
          1.3973333333333333,
          1.388777777777777,
          1.3111111111111107,
          1.341333333333333,
          1.3486666666666665,
          1.3393333333333335,
          1.3529999999999995,
          1.2947191011235952,
          1.2950000000000002,
          1.3546666666666662,
          1.3054444444444437,
          1.213222222222222,
          1.2332222222222229,
          1.2790000000000001,
          1.2493333333333336,
          1.259666666666666,
          1.1809999999999994,
          1.2405555555555559,
          1.287222222222222,
          1.2764444444444445,
          1.2676666666666665,
          1.2040000000000002,
          1.2058888888888888,
          1.2516666666666667,
          1.2386666666666668,
          1.180888888888889,
          1.2311111111111113,
          1.2018888888888886,
          1.1693333333333338,
          1.156777777777778,
          1.220777777777778,
          1.234555555555556,
          1.2541111111111103,
          1.2485555555555552,
          1.3091111111111113,
          1.285666666666667,
          1.3177777777777777,
          1.3011111111111109,
          1.3612222222222226,
          1.4355555555555555,
          1.490666666666666,
          1.4525555555555554,
          1.4238888888888892,
          1.4296666666666669,
          1.4253333333333331,
          1.4062222222222225,
          1.3812222222222221,
          1.3631111111111116,
          1.4526666666666674,
          1.5432222222222218,
          1.5857777777777782,
          1.4943333333333344,
          1.4929999999999997,
          1.5445555555555557,
          1.7056666666666667,
          1.6236666666666666,
          1.5890000000000002,
          1.5050000000000006,
          1.5045555555555554,
          1.3820000000000003,
          1.3208888888888892,
          1.2885555555555557,
          1.322,
          1.2886666666666673,
          1.3031111111111113,
          1.3295555555555563,
          1.2291111111111113,
          1.283111111111111,
          1.154,
          1.2152222222222222,
          1.2901111111111117,
          1.2624444444444443,
          1.309222222222222,
          1.4557777777777776,
          1.4828888888888894,
          1.4166666666666663,
          1.4627777777777782,
          1.4865555555555552,
          1.523777777777778,
          1.5613333333333332,
          1.5665555555555557,
          1.4788888888888885,
          1.5456666666666674,
          1.5730000000000006,
          1.5929999999999997,
          1.5831111111111116,
          1.5427777777777778,
          1.55561797752809,
          1.5748314606741578,
          1.586666666666667,
          1.5546666666666669,
          1.583111111111111,
          1.5655555555555556,
          1.5723333333333331,
          1.609666666666667,
          1.6476666666666666,
          1.7429999999999994,
          1.8152222222222223,
          1.859666666666667,
          1.85,
          1.8343333333333334,
          1.8356666666666661,
          1.8781111111111115,
          1.8482222222222215,
          1.7879999999999996,
          1.665777777777778,
          1.6024444444444443,
          1.5636666666666672,
          1.5107777777777778,
          1.5046666666666668,
          1.5048888888888898,
          1.3877777777777773,
          1.3474444444444447,
          1.3757777777777778,
          1.443,
          1.2881111111111114,
          1.2881111111111112,
          1.3605555555555557,
          1.4249999999999994,
          1.3805555555555555,
          1.399222222222223,
          1.2397777777777779,
          1.312666666666667,
          1.379222222222222,
          1.365333333333333,
          1.3584444444444448,
          1.3404444444444445,
          1.3170000000000002,
          1.3546666666666665,
          1.3641111111111108,
          1.3195555555555554,
          1.3113333333333332,
          1.311,
          1.3349999999999997,
          1.2453333333333338,
          1.2895555555555558,
          1.2964444444444443,
          1.2983333333333333,
          1.3158888888888889,
          1.319555555555555,
          1.3229999999999995,
          1.3067777777777783,
          1.318333333333333,
          1.3305555555555555,
          1.3414444444444447,
          1.3458888888888885,
          1.367777777777778,
          1.3960000000000004,
          1.397777777777778,
          1.419111111111111,
          1.4806666666666664,
          1.524444444444445,
          1.5099999999999998,
          1.484333333333333,
          1.4718888888888895,
          1.4210000000000003,
          1.4019999999999997,
          1.3578888888888894,
          1.3568888888888886,
          1.2906666666666669,
          1.3023333333333331,
          1.3175555555555554,
          1.388,
          1.4676666666666665,
          1.4404444444444449,
          1.2878888888888889,
          1.2674444444444442,
          1.2764444444444445,
          1.2833333333333332,
          1.1477777777777776,
          1.1762222222222225,
          1.2366666666666666,
          1.2376666666666662,
          1.2309999999999997,
          1.2224444444444442,
          1.193666666666667,
          1.2117777777777776,
          1.263111111111111,
          1.2411111111111106,
          1.3085555555555555,
          1.538555555555556,
          1.6366666666666658,
          1.5304444444444443,
          1.514777777777778,
          1.5534444444444448,
          1.5499999999999996,
          1.432888888888888,
          1.4335555555555552,
          1.5424444444444443,
          1.6026666666666665,
          1.6345555555555558,
          1.692777777777777,
          1.7163333333333326,
          1.7433333333333336,
          1.752666666666667,
          1.7138888888888888,
          1.645222222222222,
          1.5553333333333323,
          1.540444444444445,
          1.5241111111111103,
          1.4943333333333337,
          1.442333333333333,
          1.4484444444444449,
          1.4295555555555555,
          1.3636666666666668,
          1.358333333333333,
          1.320444444444444,
          1.270111111111111,
          1.265888888888889,
          1.3194444444444444,
          1.3005555555555557,
          1.322777777777778,
          1.2978888888888889,
          1.2483333333333333,
          1.3046666666666662,
          1.3305555555555557,
          1.2036666666666673,
          1.1958888888888892,
          1.2068888888888891,
          1.1642222222222225,
          1.235888888888889,
          1.134666666666667,
          1.206888888888889,
          1.2548888888888885,
          1.2348888888888885,
          1.3083333333333336,
          1.3432222222222225,
          1.4031111111111112,
          1.3785555555555555,
          1.3722222222222218,
          1.3798888888888892,
          1.414,
          1.390888888888889
         ]
        },
        {
         "type": "scatter",
         "x": [
          "2015-01-04T00:00:00",
          "2015-01-11T00:00:00",
          "2015-01-18T00:00:00",
          "2015-01-25T00:00:00",
          "2015-02-01T00:00:00",
          "2015-02-08T00:00:00",
          "2015-02-15T00:00:00",
          "2015-02-22T00:00:00",
          "2015-03-01T00:00:00",
          "2015-03-08T00:00:00",
          "2015-03-15T00:00:00",
          "2015-03-22T00:00:00",
          "2015-03-29T00:00:00",
          "2015-04-05T00:00:00",
          "2015-04-12T00:00:00",
          "2015-04-19T00:00:00",
          "2015-04-26T00:00:00",
          "2015-05-03T00:00:00",
          "2015-05-10T00:00:00",
          "2015-05-17T00:00:00",
          "2015-05-24T00:00:00",
          "2015-05-31T00:00:00",
          "2015-06-07T00:00:00",
          "2015-06-14T00:00:00",
          "2015-06-21T00:00:00",
          "2015-06-28T00:00:00",
          "2015-07-05T00:00:00",
          "2015-07-12T00:00:00",
          "2015-07-19T00:00:00",
          "2015-07-26T00:00:00",
          "2015-08-02T00:00:00",
          "2015-08-09T00:00:00",
          "2015-08-16T00:00:00",
          "2015-08-23T00:00:00",
          "2015-08-30T00:00:00",
          "2015-09-06T00:00:00",
          "2015-09-13T00:00:00",
          "2015-09-20T00:00:00",
          "2015-09-27T00:00:00",
          "2015-10-04T00:00:00",
          "2015-10-11T00:00:00",
          "2015-10-18T00:00:00",
          "2015-10-25T00:00:00",
          "2015-11-01T00:00:00",
          "2015-11-08T00:00:00",
          "2015-11-15T00:00:00",
          "2015-11-22T00:00:00",
          "2015-11-29T00:00:00",
          "2015-12-06T00:00:00",
          "2015-12-13T00:00:00",
          "2015-12-20T00:00:00",
          "2015-12-27T00:00:00",
          "2016-01-03T00:00:00",
          "2016-01-10T00:00:00",
          "2016-01-17T00:00:00",
          "2016-01-24T00:00:00",
          "2016-01-31T00:00:00",
          "2016-02-07T00:00:00",
          "2016-02-14T00:00:00",
          "2016-02-21T00:00:00",
          "2016-02-28T00:00:00",
          "2016-03-06T00:00:00",
          "2016-03-13T00:00:00",
          "2016-03-20T00:00:00",
          "2016-03-27T00:00:00",
          "2016-04-03T00:00:00",
          "2016-04-10T00:00:00",
          "2016-04-17T00:00:00",
          "2016-04-24T00:00:00",
          "2016-05-01T00:00:00",
          "2016-05-08T00:00:00",
          "2016-05-15T00:00:00",
          "2016-05-22T00:00:00",
          "2016-05-29T00:00:00",
          "2016-06-05T00:00:00",
          "2016-06-12T00:00:00",
          "2016-06-19T00:00:00",
          "2016-06-26T00:00:00",
          "2016-07-03T00:00:00",
          "2016-07-10T00:00:00",
          "2016-07-17T00:00:00",
          "2016-07-24T00:00:00",
          "2016-07-31T00:00:00",
          "2016-08-07T00:00:00",
          "2016-08-14T00:00:00",
          "2016-08-21T00:00:00",
          "2016-08-28T00:00:00",
          "2016-09-04T00:00:00",
          "2016-09-11T00:00:00",
          "2016-09-18T00:00:00",
          "2016-09-25T00:00:00",
          "2016-10-02T00:00:00",
          "2016-10-09T00:00:00",
          "2016-10-16T00:00:00",
          "2016-10-23T00:00:00",
          "2016-10-30T00:00:00",
          "2016-11-06T00:00:00",
          "2016-11-13T00:00:00",
          "2016-11-20T00:00:00",
          "2016-11-27T00:00:00",
          "2016-12-04T00:00:00",
          "2016-12-11T00:00:00",
          "2016-12-18T00:00:00",
          "2016-12-25T00:00:00",
          "2017-01-01T00:00:00",
          "2017-01-08T00:00:00",
          "2017-01-15T00:00:00",
          "2017-01-22T00:00:00",
          "2017-01-29T00:00:00",
          "2017-02-05T00:00:00",
          "2017-02-12T00:00:00",
          "2017-02-19T00:00:00",
          "2017-02-26T00:00:00",
          "2017-03-05T00:00:00",
          "2017-03-12T00:00:00",
          "2017-03-19T00:00:00",
          "2017-03-26T00:00:00",
          "2017-04-02T00:00:00",
          "2017-04-09T00:00:00",
          "2017-04-16T00:00:00",
          "2017-04-23T00:00:00",
          "2017-04-30T00:00:00",
          "2017-05-07T00:00:00",
          "2017-05-14T00:00:00",
          "2017-05-21T00:00:00",
          "2017-05-28T00:00:00",
          "2017-06-04T00:00:00",
          "2017-06-11T00:00:00",
          "2017-06-18T00:00:00",
          "2017-06-25T00:00:00",
          "2017-07-02T00:00:00",
          "2017-07-09T00:00:00",
          "2017-07-16T00:00:00",
          "2017-07-23T00:00:00",
          "2017-07-30T00:00:00",
          "2017-08-06T00:00:00",
          "2017-08-13T00:00:00",
          "2017-08-20T00:00:00",
          "2017-08-27T00:00:00",
          "2017-09-03T00:00:00",
          "2017-09-10T00:00:00",
          "2017-09-17T00:00:00",
          "2017-09-24T00:00:00",
          "2017-10-01T00:00:00",
          "2017-10-08T00:00:00",
          "2017-10-15T00:00:00",
          "2017-10-22T00:00:00",
          "2017-10-29T00:00:00",
          "2017-11-05T00:00:00",
          "2017-11-12T00:00:00",
          "2017-11-19T00:00:00",
          "2017-11-26T00:00:00",
          "2017-12-03T00:00:00",
          "2017-12-10T00:00:00",
          "2017-12-17T00:00:00",
          "2017-12-24T00:00:00",
          "2017-12-31T00:00:00",
          "2018-01-01T00:00:00",
          "2018-01-07T00:00:00",
          "2018-01-14T00:00:00",
          "2018-01-21T00:00:00",
          "2018-01-28T00:00:00",
          "2018-02-04T00:00:00",
          "2018-02-11T00:00:00",
          "2018-02-18T00:00:00",
          "2018-02-25T00:00:00",
          "2018-03-04T00:00:00",
          "2018-03-11T00:00:00",
          "2018-03-18T00:00:00",
          "2018-03-25T00:00:00",
          "2018-04-01T00:00:00",
          "2018-04-08T00:00:00",
          "2018-04-15T00:00:00",
          "2018-04-22T00:00:00",
          "2018-04-29T00:00:00",
          "2018-05-06T00:00:00",
          "2018-05-13T00:00:00",
          "2018-05-20T00:00:00",
          "2018-05-27T00:00:00",
          "2018-06-03T00:00:00",
          "2018-06-10T00:00:00",
          "2018-06-17T00:00:00",
          "2018-06-24T00:00:00",
          "2018-07-01T00:00:00",
          "2018-07-08T00:00:00",
          "2018-07-15T00:00:00",
          "2018-07-22T00:00:00",
          "2018-07-29T00:00:00",
          "2018-08-05T00:00:00",
          "2018-08-12T00:00:00",
          "2018-08-19T00:00:00",
          "2018-08-26T00:00:00",
          "2018-09-02T00:00:00",
          "2018-09-09T00:00:00",
          "2018-09-16T00:00:00",
          "2018-09-23T00:00:00",
          "2018-09-30T00:00:00",
          "2018-10-07T00:00:00",
          "2018-10-14T00:00:00",
          "2018-10-21T00:00:00",
          "2018-10-28T00:00:00",
          "2018-11-04T00:00:00",
          "2018-11-11T00:00:00",
          "2018-11-18T00:00:00",
          "2018-11-25T00:00:00",
          "2018-12-02T00:00:00",
          "2019-01-07T00:00:00",
          "2019-01-13T00:00:00",
          "2019-01-20T00:00:00",
          "2019-01-27T00:00:00",
          "2019-02-03T00:00:00",
          "2019-02-10T00:00:00",
          "2019-02-17T00:00:00",
          "2019-02-24T00:00:00",
          "2019-03-03T00:00:00",
          "2019-03-10T00:00:00",
          "2019-03-17T00:00:00",
          "2019-03-24T00:00:00",
          "2019-03-31T00:00:00",
          "2019-04-07T00:00:00",
          "2019-04-14T00:00:00",
          "2019-04-21T00:00:00",
          "2019-04-28T00:00:00",
          "2019-05-05T00:00:00",
          "2019-05-12T00:00:00",
          "2019-05-19T00:00:00",
          "2019-05-26T00:00:00",
          "2019-06-02T00:00:00",
          "2019-06-09T00:00:00",
          "2019-06-16T00:00:00",
          "2019-06-23T00:00:00",
          "2019-06-30T00:00:00",
          "2019-07-07T00:00:00",
          "2019-07-14T00:00:00",
          "2019-07-21T00:00:00",
          "2019-07-28T00:00:00",
          "2019-08-04T00:00:00",
          "2019-08-11T00:00:00",
          "2019-08-18T00:00:00",
          "2019-08-25T00:00:00",
          "2019-09-01T00:00:00",
          "2019-09-08T00:00:00",
          "2019-09-15T00:00:00",
          "2019-09-22T00:00:00",
          "2019-09-29T00:00:00",
          "2019-10-06T00:00:00",
          "2019-10-13T00:00:00",
          "2019-10-20T00:00:00",
          "2019-10-27T00:00:00",
          "2019-11-03T00:00:00",
          "2019-11-10T00:00:00",
          "2019-11-17T00:00:00",
          "2019-11-24T00:00:00",
          "2019-12-01T00:00:00",
          "2019-12-08T00:00:00",
          "2019-12-15T00:00:00",
          "2019-12-22T00:00:00",
          "2019-12-29T00:00:00",
          "2020-01-06T00:00:00",
          "2020-01-12T00:00:00",
          "2020-01-19T00:00:00",
          "2020-01-26T00:00:00",
          "2020-02-02T00:00:00",
          "2020-02-09T00:00:00",
          "2020-02-16T00:00:00",
          "2020-02-23T00:00:00",
          "2020-03-01T00:00:00",
          "2020-03-08T00:00:00",
          "2020-03-15T00:00:00",
          "2020-03-22T00:00:00",
          "2020-03-29T00:00:00",
          "2020-04-05T00:00:00",
          "2020-04-12T00:00:00",
          "2020-04-19T00:00:00"
         ],
         "y": [
          1.3103333333333336,
          1.3850000000000005,
          1.4052222222222224,
          1.4083333333333328,
          1.2588888888888892,
          1.3222222222222226,
          1.3989999999999996,
          1.3738888888888887,
          1.3216666666666663,
          1.3707777777777779,
          1.4063333333333334,
          1.358444444444445,
          1.4031111111111112,
          1.4202222222222216,
          1.373111111111111,
          1.3762222222222225,
          1.3934444444444445,
          1.291333333333333,
          1.3323333333333331,
          1.3588888888888893,
          1.3870000000000002,
          1.3882222222222227,
          1.386444444444444,
          1.4094444444444445,
          1.4144444444444442,
          1.412777777777778,
          1.4285555555555558,
          1.430444444444444,
          1.3991111111111112,
          1.4347777777777782,
          1.4926666666666668,
          1.4421111111111107,
          1.4553333333333338,
          1.4509999999999996,
          1.4232222222222222,
          1.4394444444444443,
          1.4691111111111117,
          1.4549999999999998,
          1.4567777777777782,
          1.4236666666666669,
          1.3750000000000002,
          1.3973333333333333,
          1.388777777777777,
          1.3111111111111107,
          1.341333333333333,
          1.3486666666666665,
          1.3393333333333335,
          1.3529999999999995,
          1.2947191011235952,
          1.2950000000000002,
          1.3546666666666662,
          1.3054444444444437,
          1.213222222222222,
          1.2332222222222229,
          1.2790000000000001,
          1.2493333333333336,
          1.259666666666666,
          1.1809999999999994,
          1.2405555555555559,
          1.287222222222222,
          1.2764444444444445,
          1.2676666666666665,
          1.2040000000000002,
          1.2058888888888888,
          1.2516666666666667,
          1.2386666666666668,
          1.180888888888889,
          1.2311111111111113,
          1.2018888888888886,
          1.1693333333333338,
          1.156777777777778,
          1.220777777777778,
          1.234555555555556,
          1.2541111111111103,
          1.2485555555555552,
          1.3091111111111113,
          1.285666666666667,
          1.3177777777777777,
          1.3011111111111109,
          1.3612222222222226,
          1.4355555555555555,
          1.490666666666666,
          1.4525555555555554,
          1.4238888888888892,
          1.4296666666666669,
          1.4253333333333331,
          1.4062222222222225,
          1.3812222222222221,
          1.3631111111111116,
          1.4526666666666674,
          1.5432222222222218,
          1.5857777777777782,
          1.4943333333333344,
          1.4929999999999997,
          1.5445555555555557,
          1.7056666666666667,
          1.6236666666666666,
          1.5890000000000002,
          1.5050000000000006,
          1.5045555555555554,
          1.3820000000000003,
          1.3208888888888892,
          1.2885555555555557,
          1.322,
          1.2886666666666673,
          1.3031111111111113,
          1.3295555555555563,
          1.2291111111111113,
          1.283111111111111,
          1.154,
          1.2152222222222222,
          1.2901111111111117,
          1.2624444444444443,
          1.309222222222222,
          1.4557777777777776,
          1.4828888888888894,
          1.4166666666666663,
          1.4627777777777782,
          1.4865555555555552,
          1.523777777777778,
          1.5613333333333332,
          1.5665555555555557,
          1.4788888888888885,
          1.5456666666666674,
          1.5730000000000006,
          1.5929999999999997,
          1.5831111111111116,
          1.5427777777777778,
          1.55561797752809,
          1.5748314606741578,
          1.586666666666667,
          1.5546666666666669,
          1.583111111111111,
          1.5655555555555556,
          1.5723333333333331,
          1.609666666666667,
          1.6476666666666666,
          1.7429999999999994,
          1.8152222222222223,
          1.859666666666667,
          1.85,
          1.8343333333333334,
          1.8356666666666661,
          1.8781111111111115,
          1.8482222222222215,
          1.7879999999999996,
          1.665777777777778,
          1.6024444444444443,
          1.5636666666666672,
          1.5107777777777778,
          1.5046666666666668,
          1.5048888888888898,
          1.3877777777777773,
          1.3474444444444447,
          1.3757777777777778,
          1.443,
          1.2881111111111114,
          1.2881111111111112,
          1.3605555555555557,
          1.4249999999999994,
          1.3805555555555555,
          1.399222222222223,
          1.2397777777777779,
          1.312666666666667,
          1.379222222222222,
          1.365333333333333,
          1.3584444444444448,
          1.3404444444444445,
          1.3170000000000002,
          1.3546666666666665,
          1.3641111111111108,
          1.3195555555555554,
          1.3113333333333332,
          1.311,
          1.3349999999999997,
          1.2453333333333338,
          1.2895555555555558,
          1.2964444444444443,
          1.2983333333333333,
          1.3158888888888889,
          1.319555555555555,
          1.3229999999999995,
          1.3067777777777783,
          1.318333333333333,
          1.3305555555555555,
          1.3414444444444447,
          1.3458888888888885,
          1.367777777777778,
          1.3960000000000004,
          1.397777777777778,
          1.419111111111111,
          1.4806666666666664,
          1.524444444444445,
          1.5099999999999998,
          1.484333333333333,
          1.4718888888888895,
          1.4210000000000003,
          1.4019999999999997,
          1.3578888888888894,
          1.3568888888888886,
          1.2906666666666669,
          1.3023333333333331,
          1.3175555555555554,
          1.388,
          1.4676666666666665,
          1.4404444444444449,
          1.2565702039235673,
          1.2452985094122633,
          1.2286167848616552,
          1.2705594845781505,
          1.1954827996595123,
          1.2556618166809959,
          1.3125953971324242,
          1.2746278585210151,
          1.2860965808249583,
          1.2899841749712697,
          1.2798375125890882,
          1.292096067454299,
          1.3182400628243593,
          1.2984006391520688,
          1.3495022298556703,
          1.4271519307299687,
          1.4660436872625797,
          1.3670850637081575,
          1.3958817853957304,
          1.4536003863322147,
          1.402830384890775,
          1.3454916843540234,
          1.3527297157249607,
          1.3990756483293758,
          1.4284004256229426,
          1.3908995708019,
          1.3993641099408758,
          1.4469562451356324,
          1.4712320503922605,
          1.4875982525562916,
          1.4705467181017762,
          1.4527256864082267,
          1.4145462751153852,
          1.4203787418544662,
          1.4456407769234934,
          1.4264562372435894,
          1.4221220484921464,
          1.430885949975056,
          1.411996966903954,
          1.3464440467396117,
          1.3694730412875238,
          1.3687347345229075,
          1.3387333111022885,
          1.2801600571877156,
          1.2824590473761577,
          1.29348329083403,
          1.3607445736837132,
          1.4003965097541644,
          1.3375520725431884,
          1.3752391359592055,
          1.3712050338493726,
          1.323583911640088,
          1.2188077624279925,
          1.2017992770120538,
          1.1826061112174784,
          1.227676438328601,
          1.135548876084369,
          1.2285547996856854,
          1.2522635903271995,
          1.21909081556492,
          1.272563788395661,
          1.2670424466880281,
          1.1859851014244298,
          1.222856920848347,
          1.2421744312738472,
          1.223129241433006,
          1.2515717836301181,
          1.2314230938834758
         ]
        }
       ],
       "layout": {
        "template": {
         "data": {
          "bar": [
           {
            "error_x": {
             "color": "#2a3f5f"
            },
            "error_y": {
             "color": "#2a3f5f"
            },
            "marker": {
             "line": {
              "color": "#E5ECF6",
              "width": 0.5
             }
            },
            "type": "bar"
           }
          ],
          "barpolar": [
           {
            "marker": {
             "line": {
              "color": "#E5ECF6",
              "width": 0.5
             }
            },
            "type": "barpolar"
           }
          ],
          "carpet": [
           {
            "aaxis": {
             "endlinecolor": "#2a3f5f",
             "gridcolor": "white",
             "linecolor": "white",
             "minorgridcolor": "white",
             "startlinecolor": "#2a3f5f"
            },
            "baxis": {
             "endlinecolor": "#2a3f5f",
             "gridcolor": "white",
             "linecolor": "white",
             "minorgridcolor": "white",
             "startlinecolor": "#2a3f5f"
            },
            "type": "carpet"
           }
          ],
          "choropleth": [
           {
            "colorbar": {
             "outlinewidth": 0,
             "ticks": ""
            },
            "type": "choropleth"
           }
          ],
          "contour": [
           {
            "colorbar": {
             "outlinewidth": 0,
             "ticks": ""
            },
            "colorscale": [
             [
              0,
              "#0d0887"
             ],
             [
              0.1111111111111111,
              "#46039f"
             ],
             [
              0.2222222222222222,
              "#7201a8"
             ],
             [
              0.3333333333333333,
              "#9c179e"
             ],
             [
              0.4444444444444444,
              "#bd3786"
             ],
             [
              0.5555555555555556,
              "#d8576b"
             ],
             [
              0.6666666666666666,
              "#ed7953"
             ],
             [
              0.7777777777777778,
              "#fb9f3a"
             ],
             [
              0.8888888888888888,
              "#fdca26"
             ],
             [
              1,
              "#f0f921"
             ]
            ],
            "type": "contour"
           }
          ],
          "contourcarpet": [
           {
            "colorbar": {
             "outlinewidth": 0,
             "ticks": ""
            },
            "type": "contourcarpet"
           }
          ],
          "heatmap": [
           {
            "colorbar": {
             "outlinewidth": 0,
             "ticks": ""
            },
            "colorscale": [
             [
              0,
              "#0d0887"
             ],
             [
              0.1111111111111111,
              "#46039f"
             ],
             [
              0.2222222222222222,
              "#7201a8"
             ],
             [
              0.3333333333333333,
              "#9c179e"
             ],
             [
              0.4444444444444444,
              "#bd3786"
             ],
             [
              0.5555555555555556,
              "#d8576b"
             ],
             [
              0.6666666666666666,
              "#ed7953"
             ],
             [
              0.7777777777777778,
              "#fb9f3a"
             ],
             [
              0.8888888888888888,
              "#fdca26"
             ],
             [
              1,
              "#f0f921"
             ]
            ],
            "type": "heatmap"
           }
          ],
          "heatmapgl": [
           {
            "colorbar": {
             "outlinewidth": 0,
             "ticks": ""
            },
            "colorscale": [
             [
              0,
              "#0d0887"
             ],
             [
              0.1111111111111111,
              "#46039f"
             ],
             [
              0.2222222222222222,
              "#7201a8"
             ],
             [
              0.3333333333333333,
              "#9c179e"
             ],
             [
              0.4444444444444444,
              "#bd3786"
             ],
             [
              0.5555555555555556,
              "#d8576b"
             ],
             [
              0.6666666666666666,
              "#ed7953"
             ],
             [
              0.7777777777777778,
              "#fb9f3a"
             ],
             [
              0.8888888888888888,
              "#fdca26"
             ],
             [
              1,
              "#f0f921"
             ]
            ],
            "type": "heatmapgl"
           }
          ],
          "histogram": [
           {
            "marker": {
             "colorbar": {
              "outlinewidth": 0,
              "ticks": ""
             }
            },
            "type": "histogram"
           }
          ],
          "histogram2d": [
           {
            "colorbar": {
             "outlinewidth": 0,
             "ticks": ""
            },
            "colorscale": [
             [
              0,
              "#0d0887"
             ],
             [
              0.1111111111111111,
              "#46039f"
             ],
             [
              0.2222222222222222,
              "#7201a8"
             ],
             [
              0.3333333333333333,
              "#9c179e"
             ],
             [
              0.4444444444444444,
              "#bd3786"
             ],
             [
              0.5555555555555556,
              "#d8576b"
             ],
             [
              0.6666666666666666,
              "#ed7953"
             ],
             [
              0.7777777777777778,
              "#fb9f3a"
             ],
             [
              0.8888888888888888,
              "#fdca26"
             ],
             [
              1,
              "#f0f921"
             ]
            ],
            "type": "histogram2d"
           }
          ],
          "histogram2dcontour": [
           {
            "colorbar": {
             "outlinewidth": 0,
             "ticks": ""
            },
            "colorscale": [
             [
              0,
              "#0d0887"
             ],
             [
              0.1111111111111111,
              "#46039f"
             ],
             [
              0.2222222222222222,
              "#7201a8"
             ],
             [
              0.3333333333333333,
              "#9c179e"
             ],
             [
              0.4444444444444444,
              "#bd3786"
             ],
             [
              0.5555555555555556,
              "#d8576b"
             ],
             [
              0.6666666666666666,
              "#ed7953"
             ],
             [
              0.7777777777777778,
              "#fb9f3a"
             ],
             [
              0.8888888888888888,
              "#fdca26"
             ],
             [
              1,
              "#f0f921"
             ]
            ],
            "type": "histogram2dcontour"
           }
          ],
          "mesh3d": [
           {
            "colorbar": {
             "outlinewidth": 0,
             "ticks": ""
            },
            "type": "mesh3d"
           }
          ],
          "parcoords": [
           {
            "line": {
             "colorbar": {
              "outlinewidth": 0,
              "ticks": ""
             }
            },
            "type": "parcoords"
           }
          ],
          "pie": [
           {
            "automargin": true,
            "type": "pie"
           }
          ],
          "scatter": [
           {
            "marker": {
             "colorbar": {
              "outlinewidth": 0,
              "ticks": ""
             }
            },
            "type": "scatter"
           }
          ],
          "scatter3d": [
           {
            "line": {
             "colorbar": {
              "outlinewidth": 0,
              "ticks": ""
             }
            },
            "marker": {
             "colorbar": {
              "outlinewidth": 0,
              "ticks": ""
             }
            },
            "type": "scatter3d"
           }
          ],
          "scattercarpet": [
           {
            "marker": {
             "colorbar": {
              "outlinewidth": 0,
              "ticks": ""
             }
            },
            "type": "scattercarpet"
           }
          ],
          "scattergeo": [
           {
            "marker": {
             "colorbar": {
              "outlinewidth": 0,
              "ticks": ""
             }
            },
            "type": "scattergeo"
           }
          ],
          "scattergl": [
           {
            "marker": {
             "colorbar": {
              "outlinewidth": 0,
              "ticks": ""
             }
            },
            "type": "scattergl"
           }
          ],
          "scattermapbox": [
           {
            "marker": {
             "colorbar": {
              "outlinewidth": 0,
              "ticks": ""
             }
            },
            "type": "scattermapbox"
           }
          ],
          "scatterpolar": [
           {
            "marker": {
             "colorbar": {
              "outlinewidth": 0,
              "ticks": ""
             }
            },
            "type": "scatterpolar"
           }
          ],
          "scatterpolargl": [
           {
            "marker": {
             "colorbar": {
              "outlinewidth": 0,
              "ticks": ""
             }
            },
            "type": "scatterpolargl"
           }
          ],
          "scatterternary": [
           {
            "marker": {
             "colorbar": {
              "outlinewidth": 0,
              "ticks": ""
             }
            },
            "type": "scatterternary"
           }
          ],
          "surface": [
           {
            "colorbar": {
             "outlinewidth": 0,
             "ticks": ""
            },
            "colorscale": [
             [
              0,
              "#0d0887"
             ],
             [
              0.1111111111111111,
              "#46039f"
             ],
             [
              0.2222222222222222,
              "#7201a8"
             ],
             [
              0.3333333333333333,
              "#9c179e"
             ],
             [
              0.4444444444444444,
              "#bd3786"
             ],
             [
              0.5555555555555556,
              "#d8576b"
             ],
             [
              0.6666666666666666,
              "#ed7953"
             ],
             [
              0.7777777777777778,
              "#fb9f3a"
             ],
             [
              0.8888888888888888,
              "#fdca26"
             ],
             [
              1,
              "#f0f921"
             ]
            ],
            "type": "surface"
           }
          ],
          "table": [
           {
            "cells": {
             "fill": {
              "color": "#EBF0F8"
             },
             "line": {
              "color": "white"
             }
            },
            "header": {
             "fill": {
              "color": "#C8D4E3"
             },
             "line": {
              "color": "white"
             }
            },
            "type": "table"
           }
          ]
         },
         "layout": {
          "annotationdefaults": {
           "arrowcolor": "#2a3f5f",
           "arrowhead": 0,
           "arrowwidth": 1
          },
          "coloraxis": {
           "colorbar": {
            "outlinewidth": 0,
            "ticks": ""
           }
          },
          "colorscale": {
           "diverging": [
            [
             0,
             "#8e0152"
            ],
            [
             0.1,
             "#c51b7d"
            ],
            [
             0.2,
             "#de77ae"
            ],
            [
             0.3,
             "#f1b6da"
            ],
            [
             0.4,
             "#fde0ef"
            ],
            [
             0.5,
             "#f7f7f7"
            ],
            [
             0.6,
             "#e6f5d0"
            ],
            [
             0.7,
             "#b8e186"
            ],
            [
             0.8,
             "#7fbc41"
            ],
            [
             0.9,
             "#4d9221"
            ],
            [
             1,
             "#276419"
            ]
           ],
           "sequential": [
            [
             0,
             "#0d0887"
            ],
            [
             0.1111111111111111,
             "#46039f"
            ],
            [
             0.2222222222222222,
             "#7201a8"
            ],
            [
             0.3333333333333333,
             "#9c179e"
            ],
            [
             0.4444444444444444,
             "#bd3786"
            ],
            [
             0.5555555555555556,
             "#d8576b"
            ],
            [
             0.6666666666666666,
             "#ed7953"
            ],
            [
             0.7777777777777778,
             "#fb9f3a"
            ],
            [
             0.8888888888888888,
             "#fdca26"
            ],
            [
             1,
             "#f0f921"
            ]
           ],
           "sequentialminus": [
            [
             0,
             "#0d0887"
            ],
            [
             0.1111111111111111,
             "#46039f"
            ],
            [
             0.2222222222222222,
             "#7201a8"
            ],
            [
             0.3333333333333333,
             "#9c179e"
            ],
            [
             0.4444444444444444,
             "#bd3786"
            ],
            [
             0.5555555555555556,
             "#d8576b"
            ],
            [
             0.6666666666666666,
             "#ed7953"
            ],
            [
             0.7777777777777778,
             "#fb9f3a"
            ],
            [
             0.8888888888888888,
             "#fdca26"
            ],
            [
             1,
             "#f0f921"
            ]
           ]
          },
          "colorway": [
           "#636efa",
           "#EF553B",
           "#00cc96",
           "#ab63fa",
           "#FFA15A",
           "#19d3f3",
           "#FF6692",
           "#B6E880",
           "#FF97FF",
           "#FECB52"
          ],
          "font": {
           "color": "#2a3f5f"
          },
          "geo": {
           "bgcolor": "white",
           "lakecolor": "white",
           "landcolor": "#E5ECF6",
           "showlakes": true,
           "showland": true,
           "subunitcolor": "white"
          },
          "hoverlabel": {
           "align": "left"
          },
          "hovermode": "closest",
          "mapbox": {
           "style": "light"
          },
          "paper_bgcolor": "white",
          "plot_bgcolor": "#E5ECF6",
          "polar": {
           "angularaxis": {
            "gridcolor": "white",
            "linecolor": "white",
            "ticks": ""
           },
           "bgcolor": "#E5ECF6",
           "radialaxis": {
            "gridcolor": "white",
            "linecolor": "white",
            "ticks": ""
           }
          },
          "scene": {
           "xaxis": {
            "backgroundcolor": "#E5ECF6",
            "gridcolor": "white",
            "gridwidth": 2,
            "linecolor": "white",
            "showbackground": true,
            "ticks": "",
            "zerolinecolor": "white"
           },
           "yaxis": {
            "backgroundcolor": "#E5ECF6",
            "gridcolor": "white",
            "gridwidth": 2,
            "linecolor": "white",
            "showbackground": true,
            "ticks": "",
            "zerolinecolor": "white"
           },
           "zaxis": {
            "backgroundcolor": "#E5ECF6",
            "gridcolor": "white",
            "gridwidth": 2,
            "linecolor": "white",
            "showbackground": true,
            "ticks": "",
            "zerolinecolor": "white"
           }
          },
          "shapedefaults": {
           "line": {
            "color": "#2a3f5f"
           }
          },
          "ternary": {
           "aaxis": {
            "gridcolor": "white",
            "linecolor": "white",
            "ticks": ""
           },
           "baxis": {
            "gridcolor": "white",
            "linecolor": "white",
            "ticks": ""
           },
           "bgcolor": "#E5ECF6",
           "caxis": {
            "gridcolor": "white",
            "linecolor": "white",
            "ticks": ""
           }
          },
          "title": {
           "x": 0.05
          },
          "xaxis": {
           "automargin": true,
           "gridcolor": "white",
           "linecolor": "white",
           "ticks": "",
           "title": {
            "standoff": 15
           },
           "zerolinecolor": "white",
           "zerolinewidth": 2
          },
          "yaxis": {
           "automargin": true,
           "gridcolor": "white",
           "linecolor": "white",
           "ticks": "",
           "title": {
            "standoff": 15
           },
           "zerolinecolor": "white",
           "zerolinewidth": 2
          }
         }
        },
        "title": {
         "text": "predict averageprice vs averageprice"
        },
        "xaxis": {
         "title": {
          "text": "Date"
         }
        },
        "yaxis": {
         "title": {
          "text": "AveragePrices"
         }
        }
       }
      },
      "text/html": [
       "<div>\n",
       "        \n",
       "        \n",
       "            <div id=\"61e2c449-5c77-4e36-8bd4-d2b5135bb39b\" class=\"plotly-graph-div\" style=\"height:525px; width:100%;\"></div>\n",
       "            <script type=\"text/javascript\">\n",
       "                require([\"plotly\"], function(Plotly) {\n",
       "                    window.PLOTLYENV=window.PLOTLYENV || {};\n",
       "                    \n",
       "                if (document.getElementById(\"61e2c449-5c77-4e36-8bd4-d2b5135bb39b\")) {\n",
       "                    Plotly.newPlot(\n",
       "                        '61e2c449-5c77-4e36-8bd4-d2b5135bb39b',\n",
       "                        [{\"type\": \"scatter\", \"x\": [\"2015-01-04T00:00:00\", \"2015-01-11T00:00:00\", \"2015-01-18T00:00:00\", \"2015-01-25T00:00:00\", \"2015-02-01T00:00:00\", \"2015-02-08T00:00:00\", \"2015-02-15T00:00:00\", \"2015-02-22T00:00:00\", \"2015-03-01T00:00:00\", \"2015-03-08T00:00:00\", \"2015-03-15T00:00:00\", \"2015-03-22T00:00:00\", \"2015-03-29T00:00:00\", \"2015-04-05T00:00:00\", \"2015-04-12T00:00:00\", \"2015-04-19T00:00:00\", \"2015-04-26T00:00:00\", \"2015-05-03T00:00:00\", \"2015-05-10T00:00:00\", \"2015-05-17T00:00:00\", \"2015-05-24T00:00:00\", \"2015-05-31T00:00:00\", \"2015-06-07T00:00:00\", \"2015-06-14T00:00:00\", \"2015-06-21T00:00:00\", \"2015-06-28T00:00:00\", \"2015-07-05T00:00:00\", \"2015-07-12T00:00:00\", \"2015-07-19T00:00:00\", \"2015-07-26T00:00:00\", \"2015-08-02T00:00:00\", \"2015-08-09T00:00:00\", \"2015-08-16T00:00:00\", \"2015-08-23T00:00:00\", \"2015-08-30T00:00:00\", \"2015-09-06T00:00:00\", \"2015-09-13T00:00:00\", \"2015-09-20T00:00:00\", \"2015-09-27T00:00:00\", \"2015-10-04T00:00:00\", \"2015-10-11T00:00:00\", \"2015-10-18T00:00:00\", \"2015-10-25T00:00:00\", \"2015-11-01T00:00:00\", \"2015-11-08T00:00:00\", \"2015-11-15T00:00:00\", \"2015-11-22T00:00:00\", \"2015-11-29T00:00:00\", \"2015-12-06T00:00:00\", \"2015-12-13T00:00:00\", \"2015-12-20T00:00:00\", \"2015-12-27T00:00:00\", \"2016-01-03T00:00:00\", \"2016-01-10T00:00:00\", \"2016-01-17T00:00:00\", \"2016-01-24T00:00:00\", \"2016-01-31T00:00:00\", \"2016-02-07T00:00:00\", \"2016-02-14T00:00:00\", \"2016-02-21T00:00:00\", \"2016-02-28T00:00:00\", \"2016-03-06T00:00:00\", \"2016-03-13T00:00:00\", \"2016-03-20T00:00:00\", \"2016-03-27T00:00:00\", \"2016-04-03T00:00:00\", \"2016-04-10T00:00:00\", \"2016-04-17T00:00:00\", \"2016-04-24T00:00:00\", \"2016-05-01T00:00:00\", \"2016-05-08T00:00:00\", \"2016-05-15T00:00:00\", \"2016-05-22T00:00:00\", \"2016-05-29T00:00:00\", \"2016-06-05T00:00:00\", \"2016-06-12T00:00:00\", \"2016-06-19T00:00:00\", \"2016-06-26T00:00:00\", \"2016-07-03T00:00:00\", \"2016-07-10T00:00:00\", \"2016-07-17T00:00:00\", \"2016-07-24T00:00:00\", \"2016-07-31T00:00:00\", \"2016-08-07T00:00:00\", \"2016-08-14T00:00:00\", \"2016-08-21T00:00:00\", \"2016-08-28T00:00:00\", \"2016-09-04T00:00:00\", \"2016-09-11T00:00:00\", \"2016-09-18T00:00:00\", \"2016-09-25T00:00:00\", \"2016-10-02T00:00:00\", \"2016-10-09T00:00:00\", \"2016-10-16T00:00:00\", \"2016-10-23T00:00:00\", \"2016-10-30T00:00:00\", \"2016-11-06T00:00:00\", \"2016-11-13T00:00:00\", \"2016-11-20T00:00:00\", \"2016-11-27T00:00:00\", \"2016-12-04T00:00:00\", \"2016-12-11T00:00:00\", \"2016-12-18T00:00:00\", \"2016-12-25T00:00:00\", \"2017-01-01T00:00:00\", \"2017-01-08T00:00:00\", \"2017-01-15T00:00:00\", \"2017-01-22T00:00:00\", \"2017-01-29T00:00:00\", \"2017-02-05T00:00:00\", \"2017-02-12T00:00:00\", \"2017-02-19T00:00:00\", \"2017-02-26T00:00:00\", \"2017-03-05T00:00:00\", \"2017-03-12T00:00:00\", \"2017-03-19T00:00:00\", \"2017-03-26T00:00:00\", \"2017-04-02T00:00:00\", \"2017-04-09T00:00:00\", \"2017-04-16T00:00:00\", \"2017-04-23T00:00:00\", \"2017-04-30T00:00:00\", \"2017-05-07T00:00:00\", \"2017-05-14T00:00:00\", \"2017-05-21T00:00:00\", \"2017-05-28T00:00:00\", \"2017-06-04T00:00:00\", \"2017-06-11T00:00:00\", \"2017-06-18T00:00:00\", \"2017-06-25T00:00:00\", \"2017-07-02T00:00:00\", \"2017-07-09T00:00:00\", \"2017-07-16T00:00:00\", \"2017-07-23T00:00:00\", \"2017-07-30T00:00:00\", \"2017-08-06T00:00:00\", \"2017-08-13T00:00:00\", \"2017-08-20T00:00:00\", \"2017-08-27T00:00:00\", \"2017-09-03T00:00:00\", \"2017-09-10T00:00:00\", \"2017-09-17T00:00:00\", \"2017-09-24T00:00:00\", \"2017-10-01T00:00:00\", \"2017-10-08T00:00:00\", \"2017-10-15T00:00:00\", \"2017-10-22T00:00:00\", \"2017-10-29T00:00:00\", \"2017-11-05T00:00:00\", \"2017-11-12T00:00:00\", \"2017-11-19T00:00:00\", \"2017-11-26T00:00:00\", \"2017-12-03T00:00:00\", \"2017-12-10T00:00:00\", \"2017-12-17T00:00:00\", \"2017-12-24T00:00:00\", \"2017-12-31T00:00:00\", \"2018-01-01T00:00:00\", \"2018-01-07T00:00:00\", \"2018-01-14T00:00:00\", \"2018-01-21T00:00:00\", \"2018-01-28T00:00:00\", \"2018-02-04T00:00:00\", \"2018-02-11T00:00:00\", \"2018-02-18T00:00:00\", \"2018-02-25T00:00:00\", \"2018-03-04T00:00:00\", \"2018-03-11T00:00:00\", \"2018-03-18T00:00:00\", \"2018-03-25T00:00:00\", \"2018-04-01T00:00:00\", \"2018-04-08T00:00:00\", \"2018-04-15T00:00:00\", \"2018-04-22T00:00:00\", \"2018-04-29T00:00:00\", \"2018-05-06T00:00:00\", \"2018-05-13T00:00:00\", \"2018-05-20T00:00:00\", \"2018-05-27T00:00:00\", \"2018-06-03T00:00:00\", \"2018-06-10T00:00:00\", \"2018-06-17T00:00:00\", \"2018-06-24T00:00:00\", \"2018-07-01T00:00:00\", \"2018-07-08T00:00:00\", \"2018-07-15T00:00:00\", \"2018-07-22T00:00:00\", \"2018-07-29T00:00:00\", \"2018-08-05T00:00:00\", \"2018-08-12T00:00:00\", \"2018-08-19T00:00:00\", \"2018-08-26T00:00:00\", \"2018-09-02T00:00:00\", \"2018-09-09T00:00:00\", \"2018-09-16T00:00:00\", \"2018-09-23T00:00:00\", \"2018-09-30T00:00:00\", \"2018-10-07T00:00:00\", \"2018-10-14T00:00:00\", \"2018-10-21T00:00:00\", \"2018-10-28T00:00:00\", \"2018-11-04T00:00:00\", \"2018-11-11T00:00:00\", \"2018-11-18T00:00:00\", \"2018-11-25T00:00:00\", \"2018-12-02T00:00:00\", \"2019-01-07T00:00:00\", \"2019-01-13T00:00:00\", \"2019-01-20T00:00:00\", \"2019-01-27T00:00:00\", \"2019-02-03T00:00:00\", \"2019-02-10T00:00:00\", \"2019-02-17T00:00:00\", \"2019-02-24T00:00:00\", \"2019-03-03T00:00:00\", \"2019-03-10T00:00:00\", \"2019-03-17T00:00:00\", \"2019-03-24T00:00:00\", \"2019-03-31T00:00:00\", \"2019-04-07T00:00:00\", \"2019-04-14T00:00:00\", \"2019-04-21T00:00:00\", \"2019-04-28T00:00:00\", \"2019-05-05T00:00:00\", \"2019-05-12T00:00:00\", \"2019-05-19T00:00:00\", \"2019-05-26T00:00:00\", \"2019-06-02T00:00:00\", \"2019-06-09T00:00:00\", \"2019-06-16T00:00:00\", \"2019-06-23T00:00:00\", \"2019-06-30T00:00:00\", \"2019-07-07T00:00:00\", \"2019-07-14T00:00:00\", \"2019-07-21T00:00:00\", \"2019-07-28T00:00:00\", \"2019-08-04T00:00:00\", \"2019-08-11T00:00:00\", \"2019-08-18T00:00:00\", \"2019-08-25T00:00:00\", \"2019-09-01T00:00:00\", \"2019-09-08T00:00:00\", \"2019-09-15T00:00:00\", \"2019-09-22T00:00:00\", \"2019-09-29T00:00:00\", \"2019-10-06T00:00:00\", \"2019-10-13T00:00:00\", \"2019-10-20T00:00:00\", \"2019-10-27T00:00:00\", \"2019-11-03T00:00:00\", \"2019-11-10T00:00:00\", \"2019-11-17T00:00:00\", \"2019-11-24T00:00:00\", \"2019-12-01T00:00:00\", \"2019-12-08T00:00:00\", \"2019-12-15T00:00:00\", \"2019-12-22T00:00:00\", \"2019-12-29T00:00:00\", \"2020-01-06T00:00:00\", \"2020-01-12T00:00:00\", \"2020-01-19T00:00:00\", \"2020-01-26T00:00:00\", \"2020-02-02T00:00:00\", \"2020-02-09T00:00:00\", \"2020-02-16T00:00:00\", \"2020-02-23T00:00:00\", \"2020-03-01T00:00:00\", \"2020-03-08T00:00:00\", \"2020-03-15T00:00:00\", \"2020-03-22T00:00:00\", \"2020-03-29T00:00:00\", \"2020-04-05T00:00:00\", \"2020-04-12T00:00:00\", \"2020-04-19T00:00:00\"], \"y\": [1.3103333333333336, 1.3850000000000005, 1.4052222222222224, 1.4083333333333328, 1.2588888888888892, 1.3222222222222226, 1.3989999999999996, 1.3738888888888887, 1.3216666666666663, 1.3707777777777779, 1.4063333333333334, 1.358444444444445, 1.4031111111111112, 1.4202222222222216, 1.373111111111111, 1.3762222222222225, 1.3934444444444445, 1.291333333333333, 1.3323333333333331, 1.3588888888888893, 1.3870000000000002, 1.3882222222222227, 1.386444444444444, 1.4094444444444445, 1.4144444444444442, 1.412777777777778, 1.4285555555555558, 1.430444444444444, 1.3991111111111112, 1.4347777777777782, 1.4926666666666668, 1.4421111111111107, 1.4553333333333338, 1.4509999999999996, 1.4232222222222222, 1.4394444444444443, 1.4691111111111117, 1.4549999999999998, 1.4567777777777782, 1.4236666666666669, 1.3750000000000002, 1.3973333333333333, 1.388777777777777, 1.3111111111111107, 1.341333333333333, 1.3486666666666665, 1.3393333333333335, 1.3529999999999995, 1.2947191011235952, 1.2950000000000002, 1.3546666666666662, 1.3054444444444437, 1.213222222222222, 1.2332222222222229, 1.2790000000000001, 1.2493333333333336, 1.259666666666666, 1.1809999999999994, 1.2405555555555559, 1.287222222222222, 1.2764444444444445, 1.2676666666666665, 1.2040000000000002, 1.2058888888888888, 1.2516666666666667, 1.2386666666666668, 1.180888888888889, 1.2311111111111113, 1.2018888888888886, 1.1693333333333338, 1.156777777777778, 1.220777777777778, 1.234555555555556, 1.2541111111111103, 1.2485555555555552, 1.3091111111111113, 1.285666666666667, 1.3177777777777777, 1.3011111111111109, 1.3612222222222226, 1.4355555555555555, 1.490666666666666, 1.4525555555555554, 1.4238888888888892, 1.4296666666666669, 1.4253333333333331, 1.4062222222222225, 1.3812222222222221, 1.3631111111111116, 1.4526666666666674, 1.5432222222222218, 1.5857777777777782, 1.4943333333333344, 1.4929999999999997, 1.5445555555555557, 1.7056666666666667, 1.6236666666666666, 1.5890000000000002, 1.5050000000000006, 1.5045555555555554, 1.3820000000000003, 1.3208888888888892, 1.2885555555555557, 1.322, 1.2886666666666673, 1.3031111111111113, 1.3295555555555563, 1.2291111111111113, 1.283111111111111, 1.154, 1.2152222222222222, 1.2901111111111117, 1.2624444444444443, 1.309222222222222, 1.4557777777777776, 1.4828888888888894, 1.4166666666666663, 1.4627777777777782, 1.4865555555555552, 1.523777777777778, 1.5613333333333332, 1.5665555555555557, 1.4788888888888885, 1.5456666666666674, 1.5730000000000006, 1.5929999999999997, 1.5831111111111116, 1.5427777777777778, 1.55561797752809, 1.5748314606741578, 1.586666666666667, 1.5546666666666669, 1.583111111111111, 1.5655555555555556, 1.5723333333333331, 1.609666666666667, 1.6476666666666666, 1.7429999999999994, 1.8152222222222223, 1.859666666666667, 1.85, 1.8343333333333334, 1.8356666666666661, 1.8781111111111115, 1.8482222222222215, 1.7879999999999996, 1.665777777777778, 1.6024444444444443, 1.5636666666666672, 1.5107777777777778, 1.5046666666666668, 1.5048888888888898, 1.3877777777777773, 1.3474444444444447, 1.3757777777777778, 1.443, 1.2881111111111114, 1.2881111111111112, 1.3605555555555557, 1.4249999999999994, 1.3805555555555555, 1.399222222222223, 1.2397777777777779, 1.312666666666667, 1.379222222222222, 1.365333333333333, 1.3584444444444448, 1.3404444444444445, 1.3170000000000002, 1.3546666666666665, 1.3641111111111108, 1.3195555555555554, 1.3113333333333332, 1.311, 1.3349999999999997, 1.2453333333333338, 1.2895555555555558, 1.2964444444444443, 1.2983333333333333, 1.3158888888888889, 1.319555555555555, 1.3229999999999995, 1.3067777777777783, 1.318333333333333, 1.3305555555555555, 1.3414444444444447, 1.3458888888888885, 1.367777777777778, 1.3960000000000004, 1.397777777777778, 1.419111111111111, 1.4806666666666664, 1.524444444444445, 1.5099999999999998, 1.484333333333333, 1.4718888888888895, 1.4210000000000003, 1.4019999999999997, 1.3578888888888894, 1.3568888888888886, 1.2906666666666669, 1.3023333333333331, 1.3175555555555554, 1.388, 1.4676666666666665, 1.4404444444444449, 1.2878888888888889, 1.2674444444444442, 1.2764444444444445, 1.2833333333333332, 1.1477777777777776, 1.1762222222222225, 1.2366666666666666, 1.2376666666666662, 1.2309999999999997, 1.2224444444444442, 1.193666666666667, 1.2117777777777776, 1.263111111111111, 1.2411111111111106, 1.3085555555555555, 1.538555555555556, 1.6366666666666658, 1.5304444444444443, 1.514777777777778, 1.5534444444444448, 1.5499999999999996, 1.432888888888888, 1.4335555555555552, 1.5424444444444443, 1.6026666666666665, 1.6345555555555558, 1.692777777777777, 1.7163333333333326, 1.7433333333333336, 1.752666666666667, 1.7138888888888888, 1.645222222222222, 1.5553333333333323, 1.540444444444445, 1.5241111111111103, 1.4943333333333337, 1.442333333333333, 1.4484444444444449, 1.4295555555555555, 1.3636666666666668, 1.358333333333333, 1.320444444444444, 1.270111111111111, 1.265888888888889, 1.3194444444444444, 1.3005555555555557, 1.322777777777778, 1.2978888888888889, 1.2483333333333333, 1.3046666666666662, 1.3305555555555557, 1.2036666666666673, 1.1958888888888892, 1.2068888888888891, 1.1642222222222225, 1.235888888888889, 1.134666666666667, 1.206888888888889, 1.2548888888888885, 1.2348888888888885, 1.3083333333333336, 1.3432222222222225, 1.4031111111111112, 1.3785555555555555, 1.3722222222222218, 1.3798888888888892, 1.414, 1.390888888888889]}, {\"type\": \"scatter\", \"x\": [\"2015-01-04T00:00:00\", \"2015-01-11T00:00:00\", \"2015-01-18T00:00:00\", \"2015-01-25T00:00:00\", \"2015-02-01T00:00:00\", \"2015-02-08T00:00:00\", \"2015-02-15T00:00:00\", \"2015-02-22T00:00:00\", \"2015-03-01T00:00:00\", \"2015-03-08T00:00:00\", \"2015-03-15T00:00:00\", \"2015-03-22T00:00:00\", \"2015-03-29T00:00:00\", \"2015-04-05T00:00:00\", \"2015-04-12T00:00:00\", \"2015-04-19T00:00:00\", \"2015-04-26T00:00:00\", \"2015-05-03T00:00:00\", \"2015-05-10T00:00:00\", \"2015-05-17T00:00:00\", \"2015-05-24T00:00:00\", \"2015-05-31T00:00:00\", \"2015-06-07T00:00:00\", \"2015-06-14T00:00:00\", \"2015-06-21T00:00:00\", \"2015-06-28T00:00:00\", \"2015-07-05T00:00:00\", \"2015-07-12T00:00:00\", \"2015-07-19T00:00:00\", \"2015-07-26T00:00:00\", \"2015-08-02T00:00:00\", \"2015-08-09T00:00:00\", \"2015-08-16T00:00:00\", \"2015-08-23T00:00:00\", \"2015-08-30T00:00:00\", \"2015-09-06T00:00:00\", \"2015-09-13T00:00:00\", \"2015-09-20T00:00:00\", \"2015-09-27T00:00:00\", \"2015-10-04T00:00:00\", \"2015-10-11T00:00:00\", \"2015-10-18T00:00:00\", \"2015-10-25T00:00:00\", \"2015-11-01T00:00:00\", \"2015-11-08T00:00:00\", \"2015-11-15T00:00:00\", \"2015-11-22T00:00:00\", \"2015-11-29T00:00:00\", \"2015-12-06T00:00:00\", \"2015-12-13T00:00:00\", \"2015-12-20T00:00:00\", \"2015-12-27T00:00:00\", \"2016-01-03T00:00:00\", \"2016-01-10T00:00:00\", \"2016-01-17T00:00:00\", \"2016-01-24T00:00:00\", \"2016-01-31T00:00:00\", \"2016-02-07T00:00:00\", \"2016-02-14T00:00:00\", \"2016-02-21T00:00:00\", \"2016-02-28T00:00:00\", \"2016-03-06T00:00:00\", \"2016-03-13T00:00:00\", \"2016-03-20T00:00:00\", \"2016-03-27T00:00:00\", \"2016-04-03T00:00:00\", \"2016-04-10T00:00:00\", \"2016-04-17T00:00:00\", \"2016-04-24T00:00:00\", \"2016-05-01T00:00:00\", \"2016-05-08T00:00:00\", \"2016-05-15T00:00:00\", \"2016-05-22T00:00:00\", \"2016-05-29T00:00:00\", \"2016-06-05T00:00:00\", \"2016-06-12T00:00:00\", \"2016-06-19T00:00:00\", \"2016-06-26T00:00:00\", \"2016-07-03T00:00:00\", \"2016-07-10T00:00:00\", \"2016-07-17T00:00:00\", \"2016-07-24T00:00:00\", \"2016-07-31T00:00:00\", \"2016-08-07T00:00:00\", \"2016-08-14T00:00:00\", \"2016-08-21T00:00:00\", \"2016-08-28T00:00:00\", \"2016-09-04T00:00:00\", \"2016-09-11T00:00:00\", \"2016-09-18T00:00:00\", \"2016-09-25T00:00:00\", \"2016-10-02T00:00:00\", \"2016-10-09T00:00:00\", \"2016-10-16T00:00:00\", \"2016-10-23T00:00:00\", \"2016-10-30T00:00:00\", \"2016-11-06T00:00:00\", \"2016-11-13T00:00:00\", \"2016-11-20T00:00:00\", \"2016-11-27T00:00:00\", \"2016-12-04T00:00:00\", \"2016-12-11T00:00:00\", \"2016-12-18T00:00:00\", \"2016-12-25T00:00:00\", \"2017-01-01T00:00:00\", \"2017-01-08T00:00:00\", \"2017-01-15T00:00:00\", \"2017-01-22T00:00:00\", \"2017-01-29T00:00:00\", \"2017-02-05T00:00:00\", \"2017-02-12T00:00:00\", \"2017-02-19T00:00:00\", \"2017-02-26T00:00:00\", \"2017-03-05T00:00:00\", \"2017-03-12T00:00:00\", \"2017-03-19T00:00:00\", \"2017-03-26T00:00:00\", \"2017-04-02T00:00:00\", \"2017-04-09T00:00:00\", \"2017-04-16T00:00:00\", \"2017-04-23T00:00:00\", \"2017-04-30T00:00:00\", \"2017-05-07T00:00:00\", \"2017-05-14T00:00:00\", \"2017-05-21T00:00:00\", \"2017-05-28T00:00:00\", \"2017-06-04T00:00:00\", \"2017-06-11T00:00:00\", \"2017-06-18T00:00:00\", \"2017-06-25T00:00:00\", \"2017-07-02T00:00:00\", \"2017-07-09T00:00:00\", \"2017-07-16T00:00:00\", \"2017-07-23T00:00:00\", \"2017-07-30T00:00:00\", \"2017-08-06T00:00:00\", \"2017-08-13T00:00:00\", \"2017-08-20T00:00:00\", \"2017-08-27T00:00:00\", \"2017-09-03T00:00:00\", \"2017-09-10T00:00:00\", \"2017-09-17T00:00:00\", \"2017-09-24T00:00:00\", \"2017-10-01T00:00:00\", \"2017-10-08T00:00:00\", \"2017-10-15T00:00:00\", \"2017-10-22T00:00:00\", \"2017-10-29T00:00:00\", \"2017-11-05T00:00:00\", \"2017-11-12T00:00:00\", \"2017-11-19T00:00:00\", \"2017-11-26T00:00:00\", \"2017-12-03T00:00:00\", \"2017-12-10T00:00:00\", \"2017-12-17T00:00:00\", \"2017-12-24T00:00:00\", \"2017-12-31T00:00:00\", \"2018-01-01T00:00:00\", \"2018-01-07T00:00:00\", \"2018-01-14T00:00:00\", \"2018-01-21T00:00:00\", \"2018-01-28T00:00:00\", \"2018-02-04T00:00:00\", \"2018-02-11T00:00:00\", \"2018-02-18T00:00:00\", \"2018-02-25T00:00:00\", \"2018-03-04T00:00:00\", \"2018-03-11T00:00:00\", \"2018-03-18T00:00:00\", \"2018-03-25T00:00:00\", \"2018-04-01T00:00:00\", \"2018-04-08T00:00:00\", \"2018-04-15T00:00:00\", \"2018-04-22T00:00:00\", \"2018-04-29T00:00:00\", \"2018-05-06T00:00:00\", \"2018-05-13T00:00:00\", \"2018-05-20T00:00:00\", \"2018-05-27T00:00:00\", \"2018-06-03T00:00:00\", \"2018-06-10T00:00:00\", \"2018-06-17T00:00:00\", \"2018-06-24T00:00:00\", \"2018-07-01T00:00:00\", \"2018-07-08T00:00:00\", \"2018-07-15T00:00:00\", \"2018-07-22T00:00:00\", \"2018-07-29T00:00:00\", \"2018-08-05T00:00:00\", \"2018-08-12T00:00:00\", \"2018-08-19T00:00:00\", \"2018-08-26T00:00:00\", \"2018-09-02T00:00:00\", \"2018-09-09T00:00:00\", \"2018-09-16T00:00:00\", \"2018-09-23T00:00:00\", \"2018-09-30T00:00:00\", \"2018-10-07T00:00:00\", \"2018-10-14T00:00:00\", \"2018-10-21T00:00:00\", \"2018-10-28T00:00:00\", \"2018-11-04T00:00:00\", \"2018-11-11T00:00:00\", \"2018-11-18T00:00:00\", \"2018-11-25T00:00:00\", \"2018-12-02T00:00:00\", \"2019-01-07T00:00:00\", \"2019-01-13T00:00:00\", \"2019-01-20T00:00:00\", \"2019-01-27T00:00:00\", \"2019-02-03T00:00:00\", \"2019-02-10T00:00:00\", \"2019-02-17T00:00:00\", \"2019-02-24T00:00:00\", \"2019-03-03T00:00:00\", \"2019-03-10T00:00:00\", \"2019-03-17T00:00:00\", \"2019-03-24T00:00:00\", \"2019-03-31T00:00:00\", \"2019-04-07T00:00:00\", \"2019-04-14T00:00:00\", \"2019-04-21T00:00:00\", \"2019-04-28T00:00:00\", \"2019-05-05T00:00:00\", \"2019-05-12T00:00:00\", \"2019-05-19T00:00:00\", \"2019-05-26T00:00:00\", \"2019-06-02T00:00:00\", \"2019-06-09T00:00:00\", \"2019-06-16T00:00:00\", \"2019-06-23T00:00:00\", \"2019-06-30T00:00:00\", \"2019-07-07T00:00:00\", \"2019-07-14T00:00:00\", \"2019-07-21T00:00:00\", \"2019-07-28T00:00:00\", \"2019-08-04T00:00:00\", \"2019-08-11T00:00:00\", \"2019-08-18T00:00:00\", \"2019-08-25T00:00:00\", \"2019-09-01T00:00:00\", \"2019-09-08T00:00:00\", \"2019-09-15T00:00:00\", \"2019-09-22T00:00:00\", \"2019-09-29T00:00:00\", \"2019-10-06T00:00:00\", \"2019-10-13T00:00:00\", \"2019-10-20T00:00:00\", \"2019-10-27T00:00:00\", \"2019-11-03T00:00:00\", \"2019-11-10T00:00:00\", \"2019-11-17T00:00:00\", \"2019-11-24T00:00:00\", \"2019-12-01T00:00:00\", \"2019-12-08T00:00:00\", \"2019-12-15T00:00:00\", \"2019-12-22T00:00:00\", \"2019-12-29T00:00:00\", \"2020-01-06T00:00:00\", \"2020-01-12T00:00:00\", \"2020-01-19T00:00:00\", \"2020-01-26T00:00:00\", \"2020-02-02T00:00:00\", \"2020-02-09T00:00:00\", \"2020-02-16T00:00:00\", \"2020-02-23T00:00:00\", \"2020-03-01T00:00:00\", \"2020-03-08T00:00:00\", \"2020-03-15T00:00:00\", \"2020-03-22T00:00:00\", \"2020-03-29T00:00:00\", \"2020-04-05T00:00:00\", \"2020-04-12T00:00:00\", \"2020-04-19T00:00:00\"], \"y\": [1.3103333333333336, 1.3850000000000005, 1.4052222222222224, 1.4083333333333328, 1.2588888888888892, 1.3222222222222226, 1.3989999999999996, 1.3738888888888887, 1.3216666666666663, 1.3707777777777779, 1.4063333333333334, 1.358444444444445, 1.4031111111111112, 1.4202222222222216, 1.373111111111111, 1.3762222222222225, 1.3934444444444445, 1.291333333333333, 1.3323333333333331, 1.3588888888888893, 1.3870000000000002, 1.3882222222222227, 1.386444444444444, 1.4094444444444445, 1.4144444444444442, 1.412777777777778, 1.4285555555555558, 1.430444444444444, 1.3991111111111112, 1.4347777777777782, 1.4926666666666668, 1.4421111111111107, 1.4553333333333338, 1.4509999999999996, 1.4232222222222222, 1.4394444444444443, 1.4691111111111117, 1.4549999999999998, 1.4567777777777782, 1.4236666666666669, 1.3750000000000002, 1.3973333333333333, 1.388777777777777, 1.3111111111111107, 1.341333333333333, 1.3486666666666665, 1.3393333333333335, 1.3529999999999995, 1.2947191011235952, 1.2950000000000002, 1.3546666666666662, 1.3054444444444437, 1.213222222222222, 1.2332222222222229, 1.2790000000000001, 1.2493333333333336, 1.259666666666666, 1.1809999999999994, 1.2405555555555559, 1.287222222222222, 1.2764444444444445, 1.2676666666666665, 1.2040000000000002, 1.2058888888888888, 1.2516666666666667, 1.2386666666666668, 1.180888888888889, 1.2311111111111113, 1.2018888888888886, 1.1693333333333338, 1.156777777777778, 1.220777777777778, 1.234555555555556, 1.2541111111111103, 1.2485555555555552, 1.3091111111111113, 1.285666666666667, 1.3177777777777777, 1.3011111111111109, 1.3612222222222226, 1.4355555555555555, 1.490666666666666, 1.4525555555555554, 1.4238888888888892, 1.4296666666666669, 1.4253333333333331, 1.4062222222222225, 1.3812222222222221, 1.3631111111111116, 1.4526666666666674, 1.5432222222222218, 1.5857777777777782, 1.4943333333333344, 1.4929999999999997, 1.5445555555555557, 1.7056666666666667, 1.6236666666666666, 1.5890000000000002, 1.5050000000000006, 1.5045555555555554, 1.3820000000000003, 1.3208888888888892, 1.2885555555555557, 1.322, 1.2886666666666673, 1.3031111111111113, 1.3295555555555563, 1.2291111111111113, 1.283111111111111, 1.154, 1.2152222222222222, 1.2901111111111117, 1.2624444444444443, 1.309222222222222, 1.4557777777777776, 1.4828888888888894, 1.4166666666666663, 1.4627777777777782, 1.4865555555555552, 1.523777777777778, 1.5613333333333332, 1.5665555555555557, 1.4788888888888885, 1.5456666666666674, 1.5730000000000006, 1.5929999999999997, 1.5831111111111116, 1.5427777777777778, 1.55561797752809, 1.5748314606741578, 1.586666666666667, 1.5546666666666669, 1.583111111111111, 1.5655555555555556, 1.5723333333333331, 1.609666666666667, 1.6476666666666666, 1.7429999999999994, 1.8152222222222223, 1.859666666666667, 1.85, 1.8343333333333334, 1.8356666666666661, 1.8781111111111115, 1.8482222222222215, 1.7879999999999996, 1.665777777777778, 1.6024444444444443, 1.5636666666666672, 1.5107777777777778, 1.5046666666666668, 1.5048888888888898, 1.3877777777777773, 1.3474444444444447, 1.3757777777777778, 1.443, 1.2881111111111114, 1.2881111111111112, 1.3605555555555557, 1.4249999999999994, 1.3805555555555555, 1.399222222222223, 1.2397777777777779, 1.312666666666667, 1.379222222222222, 1.365333333333333, 1.3584444444444448, 1.3404444444444445, 1.3170000000000002, 1.3546666666666665, 1.3641111111111108, 1.3195555555555554, 1.3113333333333332, 1.311, 1.3349999999999997, 1.2453333333333338, 1.2895555555555558, 1.2964444444444443, 1.2983333333333333, 1.3158888888888889, 1.319555555555555, 1.3229999999999995, 1.3067777777777783, 1.318333333333333, 1.3305555555555555, 1.3414444444444447, 1.3458888888888885, 1.367777777777778, 1.3960000000000004, 1.397777777777778, 1.419111111111111, 1.4806666666666664, 1.524444444444445, 1.5099999999999998, 1.484333333333333, 1.4718888888888895, 1.4210000000000003, 1.4019999999999997, 1.3578888888888894, 1.3568888888888886, 1.2906666666666669, 1.3023333333333331, 1.3175555555555554, 1.388, 1.4676666666666665, 1.4404444444444449, 1.2565702039235673, 1.2452985094122633, 1.2286167848616552, 1.2705594845781505, 1.1954827996595123, 1.2556618166809959, 1.3125953971324242, 1.2746278585210151, 1.2860965808249583, 1.2899841749712697, 1.2798375125890882, 1.292096067454299, 1.3182400628243593, 1.2984006391520688, 1.3495022298556703, 1.4271519307299687, 1.4660436872625797, 1.3670850637081575, 1.3958817853957304, 1.4536003863322147, 1.402830384890775, 1.3454916843540234, 1.3527297157249607, 1.3990756483293758, 1.4284004256229426, 1.3908995708019, 1.3993641099408758, 1.4469562451356324, 1.4712320503922605, 1.4875982525562916, 1.4705467181017762, 1.4527256864082267, 1.4145462751153852, 1.4203787418544662, 1.4456407769234934, 1.4264562372435894, 1.4221220484921464, 1.430885949975056, 1.411996966903954, 1.3464440467396117, 1.3694730412875238, 1.3687347345229075, 1.3387333111022885, 1.2801600571877156, 1.2824590473761577, 1.29348329083403, 1.3607445736837132, 1.4003965097541644, 1.3375520725431884, 1.3752391359592055, 1.3712050338493726, 1.323583911640088, 1.2188077624279925, 1.2017992770120538, 1.1826061112174784, 1.227676438328601, 1.135548876084369, 1.2285547996856854, 1.2522635903271995, 1.21909081556492, 1.272563788395661, 1.2670424466880281, 1.1859851014244298, 1.222856920848347, 1.2421744312738472, 1.223129241433006, 1.2515717836301181, 1.2314230938834758]}],\n",
       "                        {\"template\": {\"data\": {\"bar\": [{\"error_x\": {\"color\": \"#2a3f5f\"}, \"error_y\": {\"color\": \"#2a3f5f\"}, \"marker\": {\"line\": {\"color\": \"#E5ECF6\", \"width\": 0.5}}, \"type\": \"bar\"}], \"barpolar\": [{\"marker\": {\"line\": {\"color\": \"#E5ECF6\", \"width\": 0.5}}, \"type\": \"barpolar\"}], \"carpet\": [{\"aaxis\": {\"endlinecolor\": \"#2a3f5f\", \"gridcolor\": \"white\", \"linecolor\": \"white\", \"minorgridcolor\": \"white\", \"startlinecolor\": \"#2a3f5f\"}, \"baxis\": {\"endlinecolor\": \"#2a3f5f\", \"gridcolor\": \"white\", \"linecolor\": \"white\", \"minorgridcolor\": \"white\", \"startlinecolor\": \"#2a3f5f\"}, \"type\": \"carpet\"}], \"choropleth\": [{\"colorbar\": {\"outlinewidth\": 0, \"ticks\": \"\"}, \"type\": \"choropleth\"}], \"contour\": [{\"colorbar\": {\"outlinewidth\": 0, \"ticks\": \"\"}, \"colorscale\": [[0.0, \"#0d0887\"], [0.1111111111111111, \"#46039f\"], [0.2222222222222222, \"#7201a8\"], [0.3333333333333333, \"#9c179e\"], [0.4444444444444444, \"#bd3786\"], [0.5555555555555556, \"#d8576b\"], [0.6666666666666666, \"#ed7953\"], [0.7777777777777778, \"#fb9f3a\"], [0.8888888888888888, \"#fdca26\"], [1.0, \"#f0f921\"]], \"type\": \"contour\"}], \"contourcarpet\": [{\"colorbar\": {\"outlinewidth\": 0, \"ticks\": \"\"}, \"type\": \"contourcarpet\"}], \"heatmap\": [{\"colorbar\": {\"outlinewidth\": 0, \"ticks\": \"\"}, \"colorscale\": [[0.0, \"#0d0887\"], [0.1111111111111111, \"#46039f\"], [0.2222222222222222, \"#7201a8\"], [0.3333333333333333, \"#9c179e\"], [0.4444444444444444, \"#bd3786\"], [0.5555555555555556, \"#d8576b\"], [0.6666666666666666, \"#ed7953\"], [0.7777777777777778, \"#fb9f3a\"], [0.8888888888888888, \"#fdca26\"], [1.0, \"#f0f921\"]], \"type\": \"heatmap\"}], \"heatmapgl\": [{\"colorbar\": {\"outlinewidth\": 0, \"ticks\": \"\"}, \"colorscale\": [[0.0, \"#0d0887\"], [0.1111111111111111, \"#46039f\"], [0.2222222222222222, \"#7201a8\"], [0.3333333333333333, \"#9c179e\"], [0.4444444444444444, \"#bd3786\"], [0.5555555555555556, \"#d8576b\"], [0.6666666666666666, \"#ed7953\"], [0.7777777777777778, \"#fb9f3a\"], [0.8888888888888888, \"#fdca26\"], [1.0, \"#f0f921\"]], \"type\": \"heatmapgl\"}], \"histogram\": [{\"marker\": {\"colorbar\": {\"outlinewidth\": 0, \"ticks\": \"\"}}, \"type\": \"histogram\"}], \"histogram2d\": [{\"colorbar\": {\"outlinewidth\": 0, \"ticks\": \"\"}, \"colorscale\": [[0.0, \"#0d0887\"], [0.1111111111111111, \"#46039f\"], [0.2222222222222222, \"#7201a8\"], [0.3333333333333333, \"#9c179e\"], [0.4444444444444444, \"#bd3786\"], [0.5555555555555556, \"#d8576b\"], [0.6666666666666666, \"#ed7953\"], [0.7777777777777778, \"#fb9f3a\"], [0.8888888888888888, \"#fdca26\"], [1.0, \"#f0f921\"]], \"type\": \"histogram2d\"}], \"histogram2dcontour\": [{\"colorbar\": {\"outlinewidth\": 0, \"ticks\": \"\"}, \"colorscale\": [[0.0, \"#0d0887\"], [0.1111111111111111, \"#46039f\"], [0.2222222222222222, \"#7201a8\"], [0.3333333333333333, \"#9c179e\"], [0.4444444444444444, \"#bd3786\"], [0.5555555555555556, \"#d8576b\"], [0.6666666666666666, \"#ed7953\"], [0.7777777777777778, \"#fb9f3a\"], [0.8888888888888888, \"#fdca26\"], [1.0, \"#f0f921\"]], \"type\": \"histogram2dcontour\"}], \"mesh3d\": [{\"colorbar\": {\"outlinewidth\": 0, \"ticks\": \"\"}, \"type\": \"mesh3d\"}], \"parcoords\": [{\"line\": {\"colorbar\": {\"outlinewidth\": 0, \"ticks\": \"\"}}, \"type\": \"parcoords\"}], \"pie\": [{\"automargin\": true, \"type\": \"pie\"}], \"scatter\": [{\"marker\": {\"colorbar\": {\"outlinewidth\": 0, \"ticks\": \"\"}}, \"type\": \"scatter\"}], \"scatter3d\": [{\"line\": {\"colorbar\": {\"outlinewidth\": 0, \"ticks\": \"\"}}, \"marker\": {\"colorbar\": {\"outlinewidth\": 0, \"ticks\": \"\"}}, \"type\": \"scatter3d\"}], \"scattercarpet\": [{\"marker\": {\"colorbar\": {\"outlinewidth\": 0, \"ticks\": \"\"}}, \"type\": \"scattercarpet\"}], \"scattergeo\": [{\"marker\": {\"colorbar\": {\"outlinewidth\": 0, \"ticks\": \"\"}}, \"type\": \"scattergeo\"}], \"scattergl\": [{\"marker\": {\"colorbar\": {\"outlinewidth\": 0, \"ticks\": \"\"}}, \"type\": \"scattergl\"}], \"scattermapbox\": [{\"marker\": {\"colorbar\": {\"outlinewidth\": 0, \"ticks\": \"\"}}, \"type\": \"scattermapbox\"}], \"scatterpolar\": [{\"marker\": {\"colorbar\": {\"outlinewidth\": 0, \"ticks\": \"\"}}, \"type\": \"scatterpolar\"}], \"scatterpolargl\": [{\"marker\": {\"colorbar\": {\"outlinewidth\": 0, \"ticks\": \"\"}}, \"type\": \"scatterpolargl\"}], \"scatterternary\": [{\"marker\": {\"colorbar\": {\"outlinewidth\": 0, \"ticks\": \"\"}}, \"type\": \"scatterternary\"}], \"surface\": [{\"colorbar\": {\"outlinewidth\": 0, \"ticks\": \"\"}, \"colorscale\": [[0.0, \"#0d0887\"], [0.1111111111111111, \"#46039f\"], [0.2222222222222222, \"#7201a8\"], [0.3333333333333333, \"#9c179e\"], [0.4444444444444444, \"#bd3786\"], [0.5555555555555556, \"#d8576b\"], [0.6666666666666666, \"#ed7953\"], [0.7777777777777778, \"#fb9f3a\"], [0.8888888888888888, \"#fdca26\"], [1.0, \"#f0f921\"]], \"type\": \"surface\"}], \"table\": [{\"cells\": {\"fill\": {\"color\": \"#EBF0F8\"}, \"line\": {\"color\": \"white\"}}, \"header\": {\"fill\": {\"color\": \"#C8D4E3\"}, \"line\": {\"color\": \"white\"}}, \"type\": \"table\"}]}, \"layout\": {\"annotationdefaults\": {\"arrowcolor\": \"#2a3f5f\", \"arrowhead\": 0, \"arrowwidth\": 1}, \"coloraxis\": {\"colorbar\": {\"outlinewidth\": 0, \"ticks\": \"\"}}, \"colorscale\": {\"diverging\": [[0, \"#8e0152\"], [0.1, \"#c51b7d\"], [0.2, \"#de77ae\"], [0.3, \"#f1b6da\"], [0.4, \"#fde0ef\"], [0.5, \"#f7f7f7\"], [0.6, \"#e6f5d0\"], [0.7, \"#b8e186\"], [0.8, \"#7fbc41\"], [0.9, \"#4d9221\"], [1, \"#276419\"]], \"sequential\": [[0.0, \"#0d0887\"], [0.1111111111111111, \"#46039f\"], [0.2222222222222222, \"#7201a8\"], [0.3333333333333333, \"#9c179e\"], [0.4444444444444444, \"#bd3786\"], [0.5555555555555556, \"#d8576b\"], [0.6666666666666666, \"#ed7953\"], [0.7777777777777778, \"#fb9f3a\"], [0.8888888888888888, \"#fdca26\"], [1.0, \"#f0f921\"]], \"sequentialminus\": [[0.0, \"#0d0887\"], [0.1111111111111111, \"#46039f\"], [0.2222222222222222, \"#7201a8\"], [0.3333333333333333, \"#9c179e\"], [0.4444444444444444, \"#bd3786\"], [0.5555555555555556, \"#d8576b\"], [0.6666666666666666, \"#ed7953\"], [0.7777777777777778, \"#fb9f3a\"], [0.8888888888888888, \"#fdca26\"], [1.0, \"#f0f921\"]]}, \"colorway\": [\"#636efa\", \"#EF553B\", \"#00cc96\", \"#ab63fa\", \"#FFA15A\", \"#19d3f3\", \"#FF6692\", \"#B6E880\", \"#FF97FF\", \"#FECB52\"], \"font\": {\"color\": \"#2a3f5f\"}, \"geo\": {\"bgcolor\": \"white\", \"lakecolor\": \"white\", \"landcolor\": \"#E5ECF6\", \"showlakes\": true, \"showland\": true, \"subunitcolor\": \"white\"}, \"hoverlabel\": {\"align\": \"left\"}, \"hovermode\": \"closest\", \"mapbox\": {\"style\": \"light\"}, \"paper_bgcolor\": \"white\", \"plot_bgcolor\": \"#E5ECF6\", \"polar\": {\"angularaxis\": {\"gridcolor\": \"white\", \"linecolor\": \"white\", \"ticks\": \"\"}, \"bgcolor\": \"#E5ECF6\", \"radialaxis\": {\"gridcolor\": \"white\", \"linecolor\": \"white\", \"ticks\": \"\"}}, \"scene\": {\"xaxis\": {\"backgroundcolor\": \"#E5ECF6\", \"gridcolor\": \"white\", \"gridwidth\": 2, \"linecolor\": \"white\", \"showbackground\": true, \"ticks\": \"\", \"zerolinecolor\": \"white\"}, \"yaxis\": {\"backgroundcolor\": \"#E5ECF6\", \"gridcolor\": \"white\", \"gridwidth\": 2, \"linecolor\": \"white\", \"showbackground\": true, \"ticks\": \"\", \"zerolinecolor\": \"white\"}, \"zaxis\": {\"backgroundcolor\": \"#E5ECF6\", \"gridcolor\": \"white\", \"gridwidth\": 2, \"linecolor\": \"white\", \"showbackground\": true, \"ticks\": \"\", \"zerolinecolor\": \"white\"}}, \"shapedefaults\": {\"line\": {\"color\": \"#2a3f5f\"}}, \"ternary\": {\"aaxis\": {\"gridcolor\": \"white\", \"linecolor\": \"white\", \"ticks\": \"\"}, \"baxis\": {\"gridcolor\": \"white\", \"linecolor\": \"white\", \"ticks\": \"\"}, \"bgcolor\": \"#E5ECF6\", \"caxis\": {\"gridcolor\": \"white\", \"linecolor\": \"white\", \"ticks\": \"\"}}, \"title\": {\"x\": 0.05}, \"xaxis\": {\"automargin\": true, \"gridcolor\": \"white\", \"linecolor\": \"white\", \"ticks\": \"\", \"title\": {\"standoff\": 15}, \"zerolinecolor\": \"white\", \"zerolinewidth\": 2}, \"yaxis\": {\"automargin\": true, \"gridcolor\": \"white\", \"linecolor\": \"white\", \"ticks\": \"\", \"title\": {\"standoff\": 15}, \"zerolinecolor\": \"white\", \"zerolinewidth\": 2}}}, \"title\": {\"text\": \"predict averageprice vs averageprice\"}, \"xaxis\": {\"title\": {\"text\": \"Date\"}}, \"yaxis\": {\"title\": {\"text\": \"AveragePrices\"}}},\n",
       "                        {\"responsive\": true}\n",
       "                    ).then(function(){\n",
       "                            \n",
       "var gd = document.getElementById('61e2c449-5c77-4e36-8bd4-d2b5135bb39b');\n",
       "var x = new MutationObserver(function (mutations, observer) {{\n",
       "        var display = window.getComputedStyle(gd).display;\n",
       "        if (!display || display === 'none') {{\n",
       "            console.log([gd, 'removed!']);\n",
       "            Plotly.purge(gd);\n",
       "            observer.disconnect();\n",
       "        }}\n",
       "}});\n",
       "\n",
       "// Listen for the removal of the full notebook cells\n",
       "var notebookContainer = gd.closest('#notebook-container');\n",
       "if (notebookContainer) {{\n",
       "    x.observe(notebookContainer, {childList: true});\n",
       "}}\n",
       "\n",
       "// Listen for the clearing of the current output cell\n",
       "var outputEl = gd.closest('.output');\n",
       "if (outputEl) {{\n",
       "    x.observe(outputEl, {childList: true});\n",
       "}}\n",
       "\n",
       "                        })\n",
       "                };\n",
       "                });\n",
       "            </script>\n",
       "        </div>"
      ]
     },
     "metadata": {},
     "output_type": "display_data"
    }
   ],
   "source": [
    "import plotly\n",
    "from plotly.offline import init_notebook_mode, iplot\n",
    "import plotly.graph_objs as go\n",
    "init_notebook_mode(connected=True)\n",
    "\n",
    "#원본자료\n",
    "groupBy_whole = avocado.groupby('Date').mean()\n",
    "scatter1 = go.Scatter(x=groupBy_whole.AveragePrice.index, y=groupBy_whole.AveragePrice)\n",
    "\n",
    "#예측자료\n",
    "avo2['AveragePrice'] = svr.predict(X2_test_qt)\n",
    "predict_avocado = pd.concat([avo1] + [avo2], axis = 0, ignore_index = True)\n",
    "groupBy_predict = predict_avocado.groupby('Date').mean()\n",
    "scatter2 = go.Scatter(x=groupBy_predict.AveragePrice.index, y=groupBy_predict.AveragePrice)\n",
    "\n",
    "data = [scatter1, scatter2]\n",
    "layout=go.Layout(title=\"predict averageprice vs averageprice\", xaxis={'title':'Date'}, yaxis={'title':'AveragePrices'})\n",
    "figure=go.Figure(data=data,layout=layout)\n",
    "iplot(figure)"
   ]
  }
 ],
 "metadata": {
  "kernelspec": {
   "display_name": "Python 3",
   "language": "python",
   "name": "python3"
  },
  "language_info": {
   "codemirror_mode": {
    "name": "ipython",
    "version": 3
   },
   "file_extension": ".py",
   "mimetype": "text/x-python",
   "name": "python",
   "nbconvert_exporter": "python",
   "pygments_lexer": "ipython3",
   "version": "3.7.6"
  }
 },
 "nbformat": 4,
 "nbformat_minor": 4
}
