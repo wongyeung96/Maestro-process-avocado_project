{
 "cells": [
  {
   "cell_type": "markdown",
   "metadata": {},
   "source": [
    "## 1. 파일 불러오기"
   ]
  },
  {
   "cell_type": "code",
   "execution_count": 4,
   "metadata": {},
   "outputs": [],
   "source": [
    "#마에스트로 노트북 파일불러오기\n",
    "import pandas as pd\n",
    "av2018 = pd.read_csv(\"C:/Users/CPB02GameN/Desktop/avocado project/use data/2018avocado.csv\")\n",
    "av2019 = pd.read_csv(\"C:/Users/CPB02GameN/Desktop/avocado project/use data/2019avocado.csv\")\n",
    "av2020 = pd.read_csv(\"C:/Users/CPB02GameN/Desktop/avocado project/use data/2020avocado.csv\")\n",
    "av = pd.read_csv(\"C:/Users/CPB02GameN/Desktop/avocado project/use data/avocado.csv\", index_col = \"Unnamed: 0\")"
   ]
  },
  {
   "cell_type": "code",
   "execution_count": null,
   "metadata": {},
   "outputs": [],
   "source": [
    "#집노트북으로 파일불러오기\n",
    "import pandas as pd\n",
    "av2018 = pd.read_csv(\"C:/Users/사용자/Desktop/과제/마에스트로 과제/avocado project/사용한데이터/2018avocado.csv\")\n",
    "av2019 = pd.read_csv(\"C:/Users/사용자/Desktop/과제/마에스트로 과제/avocado project/사용한데이터/2019avocado.csv\")\n",
    "av2020 = pd.read_csv(\"C:/Users/사용자/Desktop/과제/마에스트로 과제/avocado project/사용한데이터/2020avocado.csv\")\n",
    "av =  pd.read_csv(\"C:/Users/사용자/Desktop/과제/마에스트로 과제/avocado project/사용한데이터/avocado.csv\",index_col = \"Unnamed: 0\")"
   ]
  },
  {
   "cell_type": "code",
   "execution_count": 5,
   "metadata": {},
   "outputs": [
    {
     "data": {
      "text/plain": [
       "(18249, 13)"
      ]
     },
     "execution_count": 5,
     "metadata": {},
     "output_type": "execute_result"
    }
   ],
   "source": [
    "av.shape"
   ]
  },
  {
   "cell_type": "markdown",
   "metadata": {},
   "source": [
    "## 2. 2018,2019,2020 파일 전처리"
   ]
  },
  {
   "cell_type": "code",
   "execution_count": 6,
   "metadata": {},
   "outputs": [
    {
     "name": "stderr",
     "output_type": "stream",
     "text": [
      "C:\\Users\\CPB02GameN\\anaconda3\\lib\\site-packages\\ipykernel_launcher.py:3: SettingWithCopyWarning: \n",
      "A value is trying to be set on a copy of a slice from a DataFrame\n",
      "\n",
      "See the caveats in the documentation: https://pandas.pydata.org/pandas-docs/stable/user_guide/indexing.html#returning-a-view-versus-a-copy\n",
      "  This is separate from the ipykernel package so we can avoid doing imports until\n",
      "C:\\Users\\CPB02GameN\\anaconda3\\lib\\site-packages\\ipykernel_launcher.py:5: SettingWithCopyWarning: \n",
      "A value is trying to be set on a copy of a slice from a DataFrame\n",
      "\n",
      "See the caveats in the documentation: https://pandas.pydata.org/pandas-docs/stable/user_guide/indexing.html#returning-a-view-versus-a-copy\n",
      "  \"\"\"\n",
      "C:\\Users\\CPB02GameN\\anaconda3\\lib\\site-packages\\ipykernel_launcher.py:7: SettingWithCopyWarning: \n",
      "A value is trying to be set on a copy of a slice from a DataFrame\n",
      "\n",
      "See the caveats in the documentation: https://pandas.pydata.org/pandas-docs/stable/user_guide/indexing.html#returning-a-view-versus-a-copy\n",
      "  import sys\n"
     ]
    }
   ],
   "source": [
    "#년도 뒤에 00:00 지우기 \n",
    "for i in range(len(av2018)):\n",
    "    av2018['Date'][i] = str(av2018['Date'][i])[0:10]\n",
    "for i in range(len(av2019)):\n",
    "    av2019['Date'][i] = str(av2019['Date'][i])[0:10]\n",
    "for i in range(len(av2020)):\n",
    "    av2020['Date'][i] = str(av2020['Date'][i])[0:10]"
   ]
  },
  {
   "cell_type": "code",
   "execution_count": 7,
   "metadata": {},
   "outputs": [
    {
     "name": "stderr",
     "output_type": "stream",
     "text": [
      "C:\\Users\\CPB02GameN\\anaconda3\\lib\\site-packages\\ipykernel_launcher.py:6: SettingWithCopyWarning: \n",
      "A value is trying to be set on a copy of a slice from a DataFrame\n",
      "\n",
      "See the caveats in the documentation: https://pandas.pydata.org/pandas-docs/stable/user_guide/indexing.html#returning-a-view-versus-a-copy\n",
      "  \n",
      "C:\\Users\\CPB02GameN\\anaconda3\\lib\\site-packages\\ipykernel_launcher.py:8: SettingWithCopyWarning: \n",
      "A value is trying to be set on a copy of a slice from a DataFrame\n",
      "\n",
      "See the caveats in the documentation: https://pandas.pydata.org/pandas-docs/stable/user_guide/indexing.html#returning-a-view-versus-a-copy\n",
      "  \n",
      "C:\\Users\\CPB02GameN\\anaconda3\\lib\\site-packages\\ipykernel_launcher.py:10: SettingWithCopyWarning: \n",
      "A value is trying to be set on a copy of a slice from a DataFrame\n",
      "\n",
      "See the caveats in the documentation: https://pandas.pydata.org/pandas-docs/stable/user_guide/indexing.html#returning-a-view-versus-a-copy\n",
      "  # Remove the CWD from sys.path while we load stuff.\n"
     ]
    }
   ],
   "source": [
    "# year 변수 추가하기\n",
    "av2018['year'] = 0\n",
    "av2019['year'] = 0\n",
    "av2020['year'] = 0\n",
    "for i in range(len(av2018)):\n",
    "    av2018['year'][i] = str(av2018['Date'][i])[0:4]\n",
    "for i in range(len(av2019)):\n",
    "    av2019['year'][i] = str(av2019['Date'][i])[0:4]\n",
    "for i in range(len(av2020)):\n",
    "    av2020['year'][i] = str(av2020['Date'][i])[0:4]"
   ]
  },
  {
   "cell_type": "markdown",
   "metadata": {},
   "source": [
    "## 3. Kaggle data와 2018,2019,2020데이터 합치기"
   ]
  },
  {
   "cell_type": "code",
   "execution_count": 8,
   "metadata": {},
   "outputs": [],
   "source": [
    "# 겹치는 2018년 데이터 제거하기\n",
    "av = av[av[\"year\"] != 2018]"
   ]
  },
  {
   "cell_type": "code",
   "execution_count": 9,
   "metadata": {},
   "outputs": [
    {
     "data": {
      "text/plain": [
       "Date             object\n",
       "AveragePrice    float64\n",
       "Total Volume    float64\n",
       "4046            float64\n",
       "4225            float64\n",
       "4770            float64\n",
       "Total Bags      float64\n",
       "Small Bags      float64\n",
       "Large Bags      float64\n",
       "XLarge Bags     float64\n",
       "type             object\n",
       "year              int64\n",
       "region           object\n",
       "dtype: object"
      ]
     },
     "execution_count": 9,
     "metadata": {},
     "output_type": "execute_result"
    }
   ],
   "source": [
    "#데이터 합치기\n",
    "avocado = pd.concat([av] + [av2018] + [av2019]+ [av2020], axis = 0, ignore_index = True)\n",
    "avocado.dtypes"
   ]
  },
  {
   "cell_type": "code",
   "execution_count": 10,
   "metadata": {},
   "outputs": [
    {
     "data": {
      "text/plain": [
       "Date             object\n",
       "AveragePrice    float64\n",
       "Total Volume    float64\n",
       "4046            float64\n",
       "4225            float64\n",
       "4770            float64\n",
       "Total Bags      float64\n",
       "Small Bags      float64\n",
       "Large Bags      float64\n",
       "XLarge Bags     float64\n",
       "type             object\n",
       "year              int64\n",
       "region           object\n",
       "dtype: object"
      ]
     },
     "execution_count": 10,
     "metadata": {},
     "output_type": "execute_result"
    }
   ],
   "source": [
    "#type 변수 organic이랑 conventional으로 통합\n",
    "avocado.loc[avocado['type']=='Organic','type']='organic'\n",
    "avocado.loc[(avocado['type']=='Conventional')|(avocado['type']=='Conventional '),'type']='conventional'\n",
    "avocado['type'].value_counts()\n",
    "avocado.dtypes"
   ]
  },
  {
   "cell_type": "code",
   "execution_count": 11,
   "metadata": {},
   "outputs": [
    {
     "data": {
      "text/html": [
       "<div>\n",
       "<style scoped>\n",
       "    .dataframe tbody tr th:only-of-type {\n",
       "        vertical-align: middle;\n",
       "    }\n",
       "\n",
       "    .dataframe tbody tr th {\n",
       "        vertical-align: top;\n",
       "    }\n",
       "\n",
       "    .dataframe thead th {\n",
       "        text-align: right;\n",
       "    }\n",
       "</style>\n",
       "<table border=\"1\" class=\"dataframe\">\n",
       "  <thead>\n",
       "    <tr style=\"text-align: right;\">\n",
       "      <th></th>\n",
       "      <th>Date</th>\n",
       "      <th>AveragePrice</th>\n",
       "      <th>Total Volume</th>\n",
       "      <th>4046</th>\n",
       "      <th>4225</th>\n",
       "      <th>4770</th>\n",
       "      <th>Total Bags</th>\n",
       "      <th>Small Bags</th>\n",
       "      <th>Large Bags</th>\n",
       "      <th>XLarge Bags</th>\n",
       "      <th>type</th>\n",
       "      <th>year</th>\n",
       "      <th>region</th>\n",
       "    </tr>\n",
       "  </thead>\n",
       "  <tbody>\n",
       "    <tr>\n",
       "      <th>0</th>\n",
       "      <td>2015-12-27</td>\n",
       "      <td>1.33</td>\n",
       "      <td>64236.62</td>\n",
       "      <td>1036.74</td>\n",
       "      <td>54454.85</td>\n",
       "      <td>48.16</td>\n",
       "      <td>8696.87</td>\n",
       "      <td>8603.62</td>\n",
       "      <td>93.25</td>\n",
       "      <td>0.00</td>\n",
       "      <td>conventional</td>\n",
       "      <td>2015</td>\n",
       "      <td>Albany</td>\n",
       "    </tr>\n",
       "    <tr>\n",
       "      <th>1</th>\n",
       "      <td>2015-12-20</td>\n",
       "      <td>1.35</td>\n",
       "      <td>54876.98</td>\n",
       "      <td>674.28</td>\n",
       "      <td>44638.81</td>\n",
       "      <td>58.33</td>\n",
       "      <td>9505.56</td>\n",
       "      <td>9408.07</td>\n",
       "      <td>97.49</td>\n",
       "      <td>0.00</td>\n",
       "      <td>conventional</td>\n",
       "      <td>2015</td>\n",
       "      <td>Albany</td>\n",
       "    </tr>\n",
       "    <tr>\n",
       "      <th>2</th>\n",
       "      <td>2015-12-13</td>\n",
       "      <td>0.93</td>\n",
       "      <td>118220.22</td>\n",
       "      <td>794.70</td>\n",
       "      <td>109149.67</td>\n",
       "      <td>130.50</td>\n",
       "      <td>8145.35</td>\n",
       "      <td>8042.21</td>\n",
       "      <td>103.14</td>\n",
       "      <td>0.00</td>\n",
       "      <td>conventional</td>\n",
       "      <td>2015</td>\n",
       "      <td>Albany</td>\n",
       "    </tr>\n",
       "    <tr>\n",
       "      <th>3</th>\n",
       "      <td>2015-12-06</td>\n",
       "      <td>1.08</td>\n",
       "      <td>78992.15</td>\n",
       "      <td>1132.00</td>\n",
       "      <td>71976.41</td>\n",
       "      <td>72.58</td>\n",
       "      <td>5811.16</td>\n",
       "      <td>5677.40</td>\n",
       "      <td>133.76</td>\n",
       "      <td>0.00</td>\n",
       "      <td>conventional</td>\n",
       "      <td>2015</td>\n",
       "      <td>Albany</td>\n",
       "    </tr>\n",
       "    <tr>\n",
       "      <th>4</th>\n",
       "      <td>2015-11-29</td>\n",
       "      <td>1.28</td>\n",
       "      <td>51039.60</td>\n",
       "      <td>941.48</td>\n",
       "      <td>43838.39</td>\n",
       "      <td>75.78</td>\n",
       "      <td>6183.95</td>\n",
       "      <td>5986.26</td>\n",
       "      <td>197.69</td>\n",
       "      <td>0.00</td>\n",
       "      <td>conventional</td>\n",
       "      <td>2015</td>\n",
       "      <td>Albany</td>\n",
       "    </tr>\n",
       "    <tr>\n",
       "      <th>...</th>\n",
       "      <td>...</td>\n",
       "      <td>...</td>\n",
       "      <td>...</td>\n",
       "      <td>...</td>\n",
       "      <td>...</td>\n",
       "      <td>...</td>\n",
       "      <td>...</td>\n",
       "      <td>...</td>\n",
       "      <td>...</td>\n",
       "      <td>...</td>\n",
       "      <td>...</td>\n",
       "      <td>...</td>\n",
       "      <td>...</td>\n",
       "    </tr>\n",
       "    <tr>\n",
       "      <th>29584</th>\n",
       "      <td>2020-03-29</td>\n",
       "      <td>1.71</td>\n",
       "      <td>319478.21</td>\n",
       "      <td>10238.36</td>\n",
       "      <td>29135.42</td>\n",
       "      <td>1436.43</td>\n",
       "      <td>278668.00</td>\n",
       "      <td>142226.87</td>\n",
       "      <td>136277.55</td>\n",
       "      <td>163.58</td>\n",
       "      <td>organic</td>\n",
       "      <td>2020</td>\n",
       "      <td>West</td>\n",
       "    </tr>\n",
       "    <tr>\n",
       "      <th>29585</th>\n",
       "      <td>2020-04-19</td>\n",
       "      <td>1.63</td>\n",
       "      <td>28991.82</td>\n",
       "      <td>1307.40</td>\n",
       "      <td>1007.02</td>\n",
       "      <td>3007.50</td>\n",
       "      <td>23669.90</td>\n",
       "      <td>18937.02</td>\n",
       "      <td>4732.88</td>\n",
       "      <td>0.00</td>\n",
       "      <td>organic</td>\n",
       "      <td>2020</td>\n",
       "      <td>WestTexNewMexico</td>\n",
       "    </tr>\n",
       "    <tr>\n",
       "      <th>29586</th>\n",
       "      <td>2020-04-12</td>\n",
       "      <td>1.72</td>\n",
       "      <td>16063.00</td>\n",
       "      <td>1632.59</td>\n",
       "      <td>1111.49</td>\n",
       "      <td>2203.91</td>\n",
       "      <td>11115.01</td>\n",
       "      <td>6040.80</td>\n",
       "      <td>5074.21</td>\n",
       "      <td>0.00</td>\n",
       "      <td>organic</td>\n",
       "      <td>2020</td>\n",
       "      <td>WestTexNewMexico</td>\n",
       "    </tr>\n",
       "    <tr>\n",
       "      <th>29587</th>\n",
       "      <td>2020-04-05</td>\n",
       "      <td>1.67</td>\n",
       "      <td>26787.67</td>\n",
       "      <td>721.03</td>\n",
       "      <td>920.86</td>\n",
       "      <td>4109.45</td>\n",
       "      <td>21036.33</td>\n",
       "      <td>15924.92</td>\n",
       "      <td>5111.41</td>\n",
       "      <td>0.00</td>\n",
       "      <td>organic</td>\n",
       "      <td>2020</td>\n",
       "      <td>WestTexNewMexico</td>\n",
       "    </tr>\n",
       "    <tr>\n",
       "      <th>29588</th>\n",
       "      <td>2020-03-29</td>\n",
       "      <td>1.60</td>\n",
       "      <td>24544.94</td>\n",
       "      <td>638.96</td>\n",
       "      <td>693.39</td>\n",
       "      <td>2963.42</td>\n",
       "      <td>20249.17</td>\n",
       "      <td>17197.35</td>\n",
       "      <td>3051.82</td>\n",
       "      <td>0.00</td>\n",
       "      <td>organic</td>\n",
       "      <td>2020</td>\n",
       "      <td>WestTexNewMexico</td>\n",
       "    </tr>\n",
       "  </tbody>\n",
       "</table>\n",
       "<p>29589 rows × 13 columns</p>\n",
       "</div>"
      ],
      "text/plain": [
       "             Date  AveragePrice  Total Volume      4046       4225     4770  \\\n",
       "0      2015-12-27          1.33      64236.62   1036.74   54454.85    48.16   \n",
       "1      2015-12-20          1.35      54876.98    674.28   44638.81    58.33   \n",
       "2      2015-12-13          0.93     118220.22    794.70  109149.67   130.50   \n",
       "3      2015-12-06          1.08      78992.15   1132.00   71976.41    72.58   \n",
       "4      2015-11-29          1.28      51039.60    941.48   43838.39    75.78   \n",
       "...           ...           ...           ...       ...        ...      ...   \n",
       "29584  2020-03-29          1.71     319478.21  10238.36   29135.42  1436.43   \n",
       "29585  2020-04-19          1.63      28991.82   1307.40    1007.02  3007.50   \n",
       "29586  2020-04-12          1.72      16063.00   1632.59    1111.49  2203.91   \n",
       "29587  2020-04-05          1.67      26787.67    721.03     920.86  4109.45   \n",
       "29588  2020-03-29          1.60      24544.94    638.96     693.39  2963.42   \n",
       "\n",
       "       Total Bags  Small Bags  Large Bags  XLarge Bags          type  year  \\\n",
       "0         8696.87     8603.62       93.25         0.00  conventional  2015   \n",
       "1         9505.56     9408.07       97.49         0.00  conventional  2015   \n",
       "2         8145.35     8042.21      103.14         0.00  conventional  2015   \n",
       "3         5811.16     5677.40      133.76         0.00  conventional  2015   \n",
       "4         6183.95     5986.26      197.69         0.00  conventional  2015   \n",
       "...           ...         ...         ...          ...           ...   ...   \n",
       "29584   278668.00   142226.87   136277.55       163.58       organic  2020   \n",
       "29585    23669.90    18937.02     4732.88         0.00       organic  2020   \n",
       "29586    11115.01     6040.80     5074.21         0.00       organic  2020   \n",
       "29587    21036.33    15924.92     5111.41         0.00       organic  2020   \n",
       "29588    20249.17    17197.35     3051.82         0.00       organic  2020   \n",
       "\n",
       "                 region  \n",
       "0                Albany  \n",
       "1                Albany  \n",
       "2                Albany  \n",
       "3                Albany  \n",
       "4                Albany  \n",
       "...                 ...  \n",
       "29584              West  \n",
       "29585  WestTexNewMexico  \n",
       "29586  WestTexNewMexico  \n",
       "29587  WestTexNewMexico  \n",
       "29588  WestTexNewMexico  \n",
       "\n",
       "[29589 rows x 13 columns]"
      ]
     },
     "execution_count": 11,
     "metadata": {},
     "output_type": "execute_result"
    }
   ],
   "source": [
    "#지역 이름 통일하기\n",
    "avocado[\"region\"]=avocado['region'].str.replace(\"/\",\"\")\n",
    "avocado[\"region\"]=avocado['region'].str.replace(\".\",\"\")\n",
    "avocado[\"region\"]=avocado['region'].str.replace(\" \",\"\")\n",
    "avocado"
   ]
  },
  {
   "cell_type": "code",
   "execution_count": 12,
   "metadata": {},
   "outputs": [],
   "source": [
    "# 변수 region에서 TotalUS, California, West, Plains, SouthCentral, Southeast, Midsouth, Northeast, GreatLakes 제거\n",
    "avocado = avocado[avocado['region'] != 'TotalUS']\n",
    "avocado = avocado[avocado['region'] != 'California']\n",
    "avocado = avocado[avocado['region'] != 'West']\n",
    "avocado = avocado[avocado['region'] != 'Plains']\n",
    "avocado = avocado[avocado['region'] != 'SouthCentral']\n",
    "avocado = avocado[avocado['region'] != 'Southeast']\n",
    "avocado = avocado[avocado['region'] != 'Midsouth']\n",
    "avocado = avocado[avocado['region'] != 'Northeast']\n",
    "avocado = avocado[avocado['region'] != 'GreatLakes']"
   ]
  },
  {
   "cell_type": "code",
   "execution_count": 13,
   "metadata": {},
   "outputs": [
    {
     "data": {
      "text/plain": [
       "False    24657\n",
       "Name: Date, dtype: int64"
      ]
     },
     "execution_count": 13,
     "metadata": {},
     "output_type": "execute_result"
    }
   ],
   "source": [
    "# Date 변수를 datetime 타입으로 변환\n",
    "avocado['Date'] = pd.to_datetime(avocado['Date'])\n",
    "avocado.sort_values('Date',ignore_index = True,inplace = True)\n",
    "avocado['Date'].isnull().value_counts()"
   ]
  },
  {
   "cell_type": "code",
   "execution_count": 14,
   "metadata": {},
   "outputs": [
    {
     "data": {
      "text/plain": [
       "Date            datetime64[ns]\n",
       "AveragePrice           float64\n",
       "Total Volume           float64\n",
       "4046                   float64\n",
       "4225                   float64\n",
       "4770                   float64\n",
       "Total Bags             float64\n",
       "Small Bags             float64\n",
       "Large Bags             float64\n",
       "XLarge Bags            float64\n",
       "type                    object\n",
       "year                     int64\n",
       "region                  object\n",
       "dtype: object"
      ]
     },
     "execution_count": 14,
     "metadata": {},
     "output_type": "execute_result"
    }
   ],
   "source": [
    "avocado.dtypes"
   ]
  },
  {
   "cell_type": "code",
   "execution_count": 15,
   "metadata": {},
   "outputs": [
    {
     "name": "stdout",
     "output_type": "stream",
     "text": [
      "0\n"
     ]
    }
   ],
   "source": [
    "#결측치 확인하기\n",
    "import numpy as np\n",
    "print(np.count_nonzero(avocado.isnull()))"
   ]
  },
  {
   "cell_type": "markdown",
   "metadata": {},
   "source": [
    "## 4. Month, Season 변수 만들기"
   ]
  },
  {
   "cell_type": "code",
   "execution_count": 16,
   "metadata": {},
   "outputs": [
    {
     "name": "stderr",
     "output_type": "stream",
     "text": [
      "C:\\Users\\CPB02GameN\\anaconda3\\lib\\site-packages\\ipykernel_launcher.py:4: SettingWithCopyWarning: \n",
      "A value is trying to be set on a copy of a slice from a DataFrame\n",
      "\n",
      "See the caveats in the documentation: https://pandas.pydata.org/pandas-docs/stable/user_guide/indexing.html#returning-a-view-versus-a-copy\n",
      "  after removing the cwd from sys.path.\n"
     ]
    }
   ],
   "source": [
    "#month 변수 만들기\n",
    "avocado['month'] = 0\n",
    "for i in range(len(avocado)):\n",
    "    avocado['month'][i]=str(avocado['Date'][i])[5:7]"
   ]
  },
  {
   "cell_type": "code",
   "execution_count": 17,
   "metadata": {},
   "outputs": [],
   "source": [
    "#season 변수 만들기\n",
    "avocado['season'] = 0\n",
    "boolvec = (avocado['month']==3)|(avocado['month']==4)|(avocado['month']==5)\n",
    "boolvec1 = (avocado['month']==6)|(avocado['month']==7)|(avocado['month']==8)\n",
    "boolvec2 = (avocado['month']==9)|(avocado['month']==10)|(avocado['month']==11)\n",
    "boolvec3 = (avocado['month']==12)|(avocado['month']==1)|(avocado['month']==2)\n",
    "\n",
    "avocado.loc[boolvec,'season']='spring'\n",
    "avocado.loc[boolvec1,'season']='summer'\n",
    "avocado.loc[boolvec2,'season']='fall'\n",
    "avocado.loc[boolvec3,'season']='winter'"
   ]
  },
  {
   "cell_type": "code",
   "execution_count": 18,
   "metadata": {},
   "outputs": [
    {
     "name": "stdout",
     "output_type": "stream",
     "text": [
      "0\n"
     ]
    }
   ],
   "source": [
    "#결측치 확인하기\n",
    "import numpy as np\n",
    "print(np.count_nonzero(avocado.isnull()))"
   ]
  },
  {
   "cell_type": "code",
   "execution_count": 19,
   "metadata": {},
   "outputs": [
    {
     "data": {
      "text/plain": [
       "(24657, 15)"
      ]
     },
     "execution_count": 19,
     "metadata": {},
     "output_type": "execute_result"
    }
   ],
   "source": [
    "avocado.shape"
   ]
  },
  {
   "cell_type": "markdown",
   "metadata": {},
   "source": [
    "## 5. 전처리 파일 저장하기"
   ]
  },
  {
   "cell_type": "code",
   "execution_count": 19,
   "metadata": {},
   "outputs": [],
   "source": [
    "#학교 노트북에 저장\n",
    "avocado.to_csv(\"C:/Users/CPB02GameN/Desktop/avocado project/파이썬활용발표 포함avocado project 2(0626~)/avocadofinalchange.csv\")"
   ]
  },
  {
   "cell_type": "code",
   "execution_count": null,
   "metadata": {},
   "outputs": [],
   "source": [
    "#집 노트북에 저장\n",
    "avocado.to_csv(\"C:/Users/사용자/Desktop/과제/마에스트로 과제/avocado project/최종수정데이터/avocado1.csv\")"
   ]
  }
 ],
 "metadata": {
  "kernelspec": {
   "display_name": "Python 3",
   "language": "python",
   "name": "python3"
  },
  "language_info": {
   "codemirror_mode": {
    "name": "ipython",
    "version": 3
   },
   "file_extension": ".py",
   "mimetype": "text/x-python",
   "name": "python",
   "nbconvert_exporter": "python",
   "pygments_lexer": "ipython3",
   "version": "3.7.6"
  }
 },
 "nbformat": 4,
 "nbformat_minor": 4
}
